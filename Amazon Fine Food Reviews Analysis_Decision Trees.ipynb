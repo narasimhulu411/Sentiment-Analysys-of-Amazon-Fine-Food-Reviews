{
 "cells": [
  {
   "cell_type": "markdown",
   "metadata": {
    "colab_type": "text",
    "id": "IXmtUCbYiWM3"
   },
   "source": [
    "# Amazon Fine Food Reviews Analysis\n",
    "\n",
    "\n",
    "Data Source: https://www.kaggle.com/snap/amazon-fine-food-reviews <br>\n",
    "\n",
    "EDA: https://nycdatascience.com/blog/student-works/amazon-fine-foods-visualization/\n",
    "\n",
    "\n",
    "The Amazon Fine Food Reviews dataset consists of reviews of fine foods from Amazon.<br>\n",
    "\n",
    "Number of reviews: 568,454<br>\n",
    "Number of users: 256,059<br>\n",
    "Number of products: 74,258<br>\n",
    "Timespan: Oct 1999 - Oct 2012<br>\n",
    "Number of Attributes/Columns in data: 10 \n",
    "\n",
    "Attribute Information:\n",
    "\n",
    "1. Id\n",
    "2. ProductId - unique identifier for the product\n",
    "3. UserId - unqiue identifier for the user\n",
    "4. ProfileName\n",
    "5. HelpfulnessNumerator - number of users who found the review helpful\n",
    "6. HelpfulnessDenominator - number of users who indicated whether they found the review helpful or not\n",
    "7. Score - rating between 1 and 5\n",
    "8. Time - timestamp for the review\n",
    "9. Summary - brief summary of the review\n",
    "10. Text - text of the review\n",
    "\n",
    "\n",
    "#### Objective:\n",
    "Given a review, determine whether the review is positive (rating of 4 or 5) or negative (rating of 1 or 2).\n",
    "\n",
    "<br>\n",
    "[Q] How to determine if a review is positive or negative?<br>\n",
    "<br> \n",
    "[Ans] We could use Score/Rating. A rating of 4 or 5 can be cosnidered as a positive review. A rating of 1 or 2 can be considered as negative one. A review of rating 3 is considered nuetral and such reviews are ignored from our analysis. This is an approximate and proxy way of determining the polarity (positivity/negativity) of a review.\n",
    "\n",
    "\n"
   ]
  },
  {
   "cell_type": "code",
   "execution_count": 1,
   "metadata": {
    "colab": {},
    "colab_type": "code",
    "id": "53fLFqf8iWNA"
   },
   "outputs": [],
   "source": [
    "%matplotlib inline\n",
    "import warnings\n",
    "warnings.filterwarnings(\"ignore\")\n",
    "\n",
    "\n",
    "import sqlite3\n",
    "import pandas as pd\n",
    "import numpy as np\n",
    "import nltk\n",
    "import string\n",
    "import matplotlib.pyplot as plt\n",
    "import seaborn as sns\n",
    "from sklearn.feature_extraction.text import TfidfTransformer\n",
    "from sklearn.feature_extraction.text import TfidfVectorizer\n",
    "\n",
    "from sklearn.feature_extraction.text import CountVectorizer\n",
    "from sklearn.metrics import confusion_matrix\n",
    "from sklearn import metrics\n",
    "from sklearn.metrics import roc_curve, auc\n",
    "from nltk.stem.porter import PorterStemmer\n",
    "\n",
    "import re\n",
    "# Tutorial about Python regular expressions: https://pymotw.com/2/re/\n",
    "import string\n",
    "from nltk.corpus import stopwords\n",
    "from nltk.stem import PorterStemmer\n",
    "from nltk.stem.wordnet import WordNetLemmatizer\n",
    "\n",
    "from gensim.models import Word2Vec\n",
    "from gensim.models import KeyedVectors\n",
    "import pickle\n",
    "\n",
    "from tqdm import tqdm\n",
    "import os"
   ]
  },
  {
   "cell_type": "markdown",
   "metadata": {
    "colab_type": "text",
    "id": "ayLYlocviWOs"
   },
   "source": [
    "# Applying Decision Trees"
   ]
  },
  {
   "cell_type": "markdown",
   "metadata": {
    "colab_type": "text",
    "id": "fvKQwJMWiWOt"
   },
   "source": [
    "## Applying Decision Trees on BOW"
   ]
  },
  {
   "cell_type": "code",
   "execution_count": 2,
   "metadata": {
    "colab": {},
    "colab_type": "code",
    "id": "vnSi4W-iiWOt"
   },
   "outputs": [
    {
     "name": "stdout",
     "output_type": "stream",
     "text": [
      "Number of data points in our data (100000, 10)\n"
     ]
    },
    {
     "data": {
      "text/html": [
       "<div>\n",
       "<style scoped>\n",
       "    .dataframe tbody tr th:only-of-type {\n",
       "        vertical-align: middle;\n",
       "    }\n",
       "\n",
       "    .dataframe tbody tr th {\n",
       "        vertical-align: top;\n",
       "    }\n",
       "\n",
       "    .dataframe thead th {\n",
       "        text-align: right;\n",
       "    }\n",
       "</style>\n",
       "<table border=\"1\" class=\"dataframe\">\n",
       "  <thead>\n",
       "    <tr style=\"text-align: right;\">\n",
       "      <th></th>\n",
       "      <th>Id</th>\n",
       "      <th>ProductId</th>\n",
       "      <th>UserId</th>\n",
       "      <th>ProfileName</th>\n",
       "      <th>HelpfulnessNumerator</th>\n",
       "      <th>HelpfulnessDenominator</th>\n",
       "      <th>Score</th>\n",
       "      <th>Time</th>\n",
       "      <th>Summary</th>\n",
       "      <th>Text</th>\n",
       "    </tr>\n",
       "  </thead>\n",
       "  <tbody>\n",
       "    <tr>\n",
       "      <th>0</th>\n",
       "      <td>1</td>\n",
       "      <td>B001E4KFG0</td>\n",
       "      <td>A3SGXH7AUHU8GW</td>\n",
       "      <td>delmartian</td>\n",
       "      <td>1</td>\n",
       "      <td>1</td>\n",
       "      <td>1</td>\n",
       "      <td>1303862400</td>\n",
       "      <td>Good Quality Dog Food</td>\n",
       "      <td>I have bought several of the Vitality canned d...</td>\n",
       "    </tr>\n",
       "    <tr>\n",
       "      <th>1</th>\n",
       "      <td>2</td>\n",
       "      <td>B00813GRG4</td>\n",
       "      <td>A1D87F6ZCVE5NK</td>\n",
       "      <td>dll pa</td>\n",
       "      <td>0</td>\n",
       "      <td>0</td>\n",
       "      <td>0</td>\n",
       "      <td>1346976000</td>\n",
       "      <td>Not as Advertised</td>\n",
       "      <td>Product arrived labeled as Jumbo Salted Peanut...</td>\n",
       "    </tr>\n",
       "    <tr>\n",
       "      <th>2</th>\n",
       "      <td>3</td>\n",
       "      <td>B000LQOCH0</td>\n",
       "      <td>ABXLMWJIXXAIN</td>\n",
       "      <td>Natalia Corres \"Natalia Corres\"</td>\n",
       "      <td>1</td>\n",
       "      <td>1</td>\n",
       "      <td>1</td>\n",
       "      <td>1219017600</td>\n",
       "      <td>\"Delight\" says it all</td>\n",
       "      <td>This is a confection that has been around a fe...</td>\n",
       "    </tr>\n",
       "  </tbody>\n",
       "</table>\n",
       "</div>"
      ],
      "text/plain": [
       "   Id   ProductId          UserId                      ProfileName  \\\n",
       "0   1  B001E4KFG0  A3SGXH7AUHU8GW                       delmartian   \n",
       "1   2  B00813GRG4  A1D87F6ZCVE5NK                           dll pa   \n",
       "2   3  B000LQOCH0   ABXLMWJIXXAIN  Natalia Corres \"Natalia Corres\"   \n",
       "\n",
       "   HelpfulnessNumerator  HelpfulnessDenominator  Score        Time  \\\n",
       "0                     1                       1      1  1303862400   \n",
       "1                     0                       0      0  1346976000   \n",
       "2                     1                       1      1  1219017600   \n",
       "\n",
       "                 Summary                                               Text  \n",
       "0  Good Quality Dog Food  I have bought several of the Vitality canned d...  \n",
       "1      Not as Advertised  Product arrived labeled as Jumbo Salted Peanut...  \n",
       "2  \"Delight\" says it all  This is a confection that has been around a fe...  "
      ]
     },
     "execution_count": 2,
     "metadata": {},
     "output_type": "execute_result"
    }
   ],
   "source": [
    "# Working with 50K points for brute force\n",
    "\n",
    "# using SQLite Table to read data.\n",
    "con = sqlite3.connect('database.sqlite') \n",
    "\n",
    "# filtering only positive and negative reviews i.e. \n",
    "# not taking into consideration those reviews with Score=3\n",
    "# SELECT * FROM Reviews WHERE Score != 3 LIMIT 500000, will give top 500000 data points\n",
    "# you can change the number to any other number based on your computing power\n",
    "\n",
    "# filtered_data = pd.read_sql_query(\"\"\" SELECT * FROM Reviews WHERE Score != 3 LIMIT 500000\"\"\", con) \n",
    "# for tsne assignment you can take 5k data points\n",
    "\n",
    "filtered_data = pd.read_sql_query(\"\"\" SELECT * FROM Reviews WHERE Score != 3 LIMIT 100000\"\"\", con) \n",
    "\n",
    "# Give reviews with Score>3 a positive rating(1), and reviews with a score<3 a negative rating(0).\n",
    "def partition(x):\n",
    "    if x < 3:\n",
    "        return 0\n",
    "    return 1\n",
    "\n",
    "#changing reviews with score less than 3 to be positive and vice-versa\n",
    "actualScore = filtered_data['Score']\n",
    "positiveNegative = actualScore.map(partition) \n",
    "filtered_data['Score'] = positiveNegative\n",
    "print(\"Number of data points in our data\", filtered_data.shape)\n",
    "filtered_data.head(3)"
   ]
  },
  {
   "cell_type": "markdown",
   "metadata": {},
   "source": [
    "## Data Cleaning :Deduplication"
   ]
  },
  {
   "cell_type": "code",
   "execution_count": 3,
   "metadata": {},
   "outputs": [
    {
     "data": {
      "text/html": [
       "<div>\n",
       "<style scoped>\n",
       "    .dataframe tbody tr th:only-of-type {\n",
       "        vertical-align: middle;\n",
       "    }\n",
       "\n",
       "    .dataframe tbody tr th {\n",
       "        vertical-align: top;\n",
       "    }\n",
       "\n",
       "    .dataframe thead th {\n",
       "        text-align: right;\n",
       "    }\n",
       "</style>\n",
       "<table border=\"1\" class=\"dataframe\">\n",
       "  <thead>\n",
       "    <tr style=\"text-align: right;\">\n",
       "      <th></th>\n",
       "      <th>Id</th>\n",
       "      <th>ProductId</th>\n",
       "      <th>UserId</th>\n",
       "      <th>ProfileName</th>\n",
       "      <th>HelpfulnessNumerator</th>\n",
       "      <th>HelpfulnessDenominator</th>\n",
       "      <th>Score</th>\n",
       "      <th>Time</th>\n",
       "      <th>Summary</th>\n",
       "      <th>Text</th>\n",
       "    </tr>\n",
       "  </thead>\n",
       "  <tbody>\n",
       "    <tr>\n",
       "      <th>0</th>\n",
       "      <td>78445</td>\n",
       "      <td>B000HDL1RQ</td>\n",
       "      <td>AR5J8UI46CURR</td>\n",
       "      <td>Geetha Krishnan</td>\n",
       "      <td>2</td>\n",
       "      <td>2</td>\n",
       "      <td>5</td>\n",
       "      <td>1199577600</td>\n",
       "      <td>LOACKER QUADRATINI VANILLA WAFERS</td>\n",
       "      <td>DELICIOUS WAFERS. I FIND THAT EUROPEAN WAFERS ...</td>\n",
       "    </tr>\n",
       "    <tr>\n",
       "      <th>1</th>\n",
       "      <td>138317</td>\n",
       "      <td>B000HDOPYC</td>\n",
       "      <td>AR5J8UI46CURR</td>\n",
       "      <td>Geetha Krishnan</td>\n",
       "      <td>2</td>\n",
       "      <td>2</td>\n",
       "      <td>5</td>\n",
       "      <td>1199577600</td>\n",
       "      <td>LOACKER QUADRATINI VANILLA WAFERS</td>\n",
       "      <td>DELICIOUS WAFERS. I FIND THAT EUROPEAN WAFERS ...</td>\n",
       "    </tr>\n",
       "    <tr>\n",
       "      <th>2</th>\n",
       "      <td>138277</td>\n",
       "      <td>B000HDOPYM</td>\n",
       "      <td>AR5J8UI46CURR</td>\n",
       "      <td>Geetha Krishnan</td>\n",
       "      <td>2</td>\n",
       "      <td>2</td>\n",
       "      <td>5</td>\n",
       "      <td>1199577600</td>\n",
       "      <td>LOACKER QUADRATINI VANILLA WAFERS</td>\n",
       "      <td>DELICIOUS WAFERS. I FIND THAT EUROPEAN WAFERS ...</td>\n",
       "    </tr>\n",
       "    <tr>\n",
       "      <th>3</th>\n",
       "      <td>73791</td>\n",
       "      <td>B000HDOPZG</td>\n",
       "      <td>AR5J8UI46CURR</td>\n",
       "      <td>Geetha Krishnan</td>\n",
       "      <td>2</td>\n",
       "      <td>2</td>\n",
       "      <td>5</td>\n",
       "      <td>1199577600</td>\n",
       "      <td>LOACKER QUADRATINI VANILLA WAFERS</td>\n",
       "      <td>DELICIOUS WAFERS. I FIND THAT EUROPEAN WAFERS ...</td>\n",
       "    </tr>\n",
       "    <tr>\n",
       "      <th>4</th>\n",
       "      <td>155049</td>\n",
       "      <td>B000PAQ75C</td>\n",
       "      <td>AR5J8UI46CURR</td>\n",
       "      <td>Geetha Krishnan</td>\n",
       "      <td>2</td>\n",
       "      <td>2</td>\n",
       "      <td>5</td>\n",
       "      <td>1199577600</td>\n",
       "      <td>LOACKER QUADRATINI VANILLA WAFERS</td>\n",
       "      <td>DELICIOUS WAFERS. I FIND THAT EUROPEAN WAFERS ...</td>\n",
       "    </tr>\n",
       "  </tbody>\n",
       "</table>\n",
       "</div>"
      ],
      "text/plain": [
       "       Id   ProductId         UserId      ProfileName  HelpfulnessNumerator  \\\n",
       "0   78445  B000HDL1RQ  AR5J8UI46CURR  Geetha Krishnan                     2   \n",
       "1  138317  B000HDOPYC  AR5J8UI46CURR  Geetha Krishnan                     2   \n",
       "2  138277  B000HDOPYM  AR5J8UI46CURR  Geetha Krishnan                     2   \n",
       "3   73791  B000HDOPZG  AR5J8UI46CURR  Geetha Krishnan                     2   \n",
       "4  155049  B000PAQ75C  AR5J8UI46CURR  Geetha Krishnan                     2   \n",
       "\n",
       "   HelpfulnessDenominator  Score        Time  \\\n",
       "0                       2      5  1199577600   \n",
       "1                       2      5  1199577600   \n",
       "2                       2      5  1199577600   \n",
       "3                       2      5  1199577600   \n",
       "4                       2      5  1199577600   \n",
       "\n",
       "                             Summary  \\\n",
       "0  LOACKER QUADRATINI VANILLA WAFERS   \n",
       "1  LOACKER QUADRATINI VANILLA WAFERS   \n",
       "2  LOACKER QUADRATINI VANILLA WAFERS   \n",
       "3  LOACKER QUADRATINI VANILLA WAFERS   \n",
       "4  LOACKER QUADRATINI VANILLA WAFERS   \n",
       "\n",
       "                                                Text  \n",
       "0  DELICIOUS WAFERS. I FIND THAT EUROPEAN WAFERS ...  \n",
       "1  DELICIOUS WAFERS. I FIND THAT EUROPEAN WAFERS ...  \n",
       "2  DELICIOUS WAFERS. I FIND THAT EUROPEAN WAFERS ...  \n",
       "3  DELICIOUS WAFERS. I FIND THAT EUROPEAN WAFERS ...  \n",
       "4  DELICIOUS WAFERS. I FIND THAT EUROPEAN WAFERS ...  "
      ]
     },
     "execution_count": 3,
     "metadata": {},
     "output_type": "execute_result"
    }
   ],
   "source": [
    "\n",
    "display= pd.read_sql_query(\"\"\"\n",
    "SELECT *\n",
    "FROM Reviews\n",
    "WHERE Score != 3 AND UserId=\"AR5J8UI46CURR\"\n",
    "ORDER BY ProductID\n",
    "\"\"\", con)\n",
    "display.head()"
   ]
  },
  {
   "cell_type": "markdown",
   "metadata": {},
   "source": [
    "As it can be seen above that same user has multiple reviews with same values for HelpfulnessNumerator, HelpfulnessDenominator, Score, Time, Summary and Text and on doing analysis it was found that\n",
    "\n",
    "ProductId=B000HDOPZG was Loacker Quadratini Vanilla Wafer Cookies, 8.82-Ounce Packages (Pack of 8)\n",
    "\n",
    "ProductId=B000HDL1RQ was Loacker Quadratini Lemon Wafer Cookies, 8.82-Ounce Packages (Pack of 8) and so on\n",
    "\n",
    "It was inferred after analysis that reviews with same parameters other than ProductId belonged to the same product just having different flavour or quantity. Hence in order to reduce redundancy it was decided to eliminate the rows having same parameters.\n",
    "\n",
    "The method used for the same was that we first sort the data according to ProductId and then just keep the first similar product review and delelte the others. for eg. in the above just the review for ProductId=B000HDL1RQ remains. This method ensures that there is only one representative for each product and deduplication without sorting would lead to possibility of different representatives still existing for the same product."
   ]
  },
  {
   "cell_type": "code",
   "execution_count": 4,
   "metadata": {},
   "outputs": [],
   "source": [
    "#Sorting data according to ProductId in ascending order\n",
    "sorted_data=filtered_data.sort_values('ProductId', axis=0, ascending=True, inplace=False, kind='quicksort', na_position='last')"
   ]
  },
  {
   "cell_type": "code",
   "execution_count": 5,
   "metadata": {},
   "outputs": [
    {
     "data": {
      "text/plain": [
       "(87775, 10)"
      ]
     },
     "execution_count": 5,
     "metadata": {},
     "output_type": "execute_result"
    }
   ],
   "source": [
    "#Deduplication of entries \n",
    "final=sorted_data.drop_duplicates(subset={\"UserId\",\"ProfileName\",\"Time\",\"Text\"}, keep='first', inplace=False)\n",
    "final.shape"
   ]
  },
  {
   "cell_type": "code",
   "execution_count": 6,
   "metadata": {},
   "outputs": [
    {
     "data": {
      "text/plain": [
       "87.775"
      ]
     },
     "execution_count": 6,
     "metadata": {},
     "output_type": "execute_result"
    }
   ],
   "source": [
    "#Checking to see how much % of data still remains\n",
    "(final['Id'].size*1.0)/(filtered_data['Id'].size*1.0)*100"
   ]
  },
  {
   "cell_type": "code",
   "execution_count": 7,
   "metadata": {},
   "outputs": [
    {
     "data": {
      "text/html": [
       "<div>\n",
       "<style scoped>\n",
       "    .dataframe tbody tr th:only-of-type {\n",
       "        vertical-align: middle;\n",
       "    }\n",
       "\n",
       "    .dataframe tbody tr th {\n",
       "        vertical-align: top;\n",
       "    }\n",
       "\n",
       "    .dataframe thead th {\n",
       "        text-align: right;\n",
       "    }\n",
       "</style>\n",
       "<table border=\"1\" class=\"dataframe\">\n",
       "  <thead>\n",
       "    <tr style=\"text-align: right;\">\n",
       "      <th></th>\n",
       "      <th>Id</th>\n",
       "      <th>ProductId</th>\n",
       "      <th>UserId</th>\n",
       "      <th>ProfileName</th>\n",
       "      <th>HelpfulnessNumerator</th>\n",
       "      <th>HelpfulnessDenominator</th>\n",
       "      <th>Score</th>\n",
       "      <th>Time</th>\n",
       "      <th>Summary</th>\n",
       "      <th>Text</th>\n",
       "    </tr>\n",
       "  </thead>\n",
       "  <tbody>\n",
       "    <tr>\n",
       "      <th>0</th>\n",
       "      <td>64422</td>\n",
       "      <td>B000MIDROQ</td>\n",
       "      <td>A161DK06JJMCYF</td>\n",
       "      <td>J. E. Stephens \"Jeanne\"</td>\n",
       "      <td>3</td>\n",
       "      <td>1</td>\n",
       "      <td>5</td>\n",
       "      <td>1224892800</td>\n",
       "      <td>Bought This for My Son at College</td>\n",
       "      <td>My son loves spaghetti so I didn't hesitate or...</td>\n",
       "    </tr>\n",
       "    <tr>\n",
       "      <th>1</th>\n",
       "      <td>44737</td>\n",
       "      <td>B001EQ55RW</td>\n",
       "      <td>A2V0I904FH7ABY</td>\n",
       "      <td>Ram</td>\n",
       "      <td>3</td>\n",
       "      <td>2</td>\n",
       "      <td>4</td>\n",
       "      <td>1212883200</td>\n",
       "      <td>Pure cocoa taste with crunchy almonds inside</td>\n",
       "      <td>It was almost a 'love at first bite' - the per...</td>\n",
       "    </tr>\n",
       "  </tbody>\n",
       "</table>\n",
       "</div>"
      ],
      "text/plain": [
       "      Id   ProductId          UserId              ProfileName  \\\n",
       "0  64422  B000MIDROQ  A161DK06JJMCYF  J. E. Stephens \"Jeanne\"   \n",
       "1  44737  B001EQ55RW  A2V0I904FH7ABY                      Ram   \n",
       "\n",
       "   HelpfulnessNumerator  HelpfulnessDenominator  Score        Time  \\\n",
       "0                     3                       1      5  1224892800   \n",
       "1                     3                       2      4  1212883200   \n",
       "\n",
       "                                        Summary  \\\n",
       "0             Bought This for My Son at College   \n",
       "1  Pure cocoa taste with crunchy almonds inside   \n",
       "\n",
       "                                                Text  \n",
       "0  My son loves spaghetti so I didn't hesitate or...  \n",
       "1  It was almost a 'love at first bite' - the per...  "
      ]
     },
     "execution_count": 7,
     "metadata": {},
     "output_type": "execute_result"
    }
   ],
   "source": [
    "display= pd.read_sql_query(\"\"\"\n",
    "SELECT *\n",
    "FROM Reviews\n",
    "WHERE Score != 3 AND Id=44737 OR Id=64422\n",
    "ORDER BY ProductID\n",
    "\"\"\", con)\n",
    "\n",
    "display.head()"
   ]
  },
  {
   "cell_type": "markdown",
   "metadata": {},
   "source": [
    "## Observation:-\n",
    "It was also seen that in two rows given below the value of HelpfulnessNumerator is greater than HelpfulnessDenominator which is not practically possible hence these two rows too are removed from calcualtions"
   ]
  },
  {
   "cell_type": "code",
   "execution_count": 8,
   "metadata": {},
   "outputs": [],
   "source": [
    "final=final[final.HelpfulnessNumerator<=final.HelpfulnessDenominator]"
   ]
  },
  {
   "cell_type": "code",
   "execution_count": 9,
   "metadata": {},
   "outputs": [
    {
     "name": "stdout",
     "output_type": "stream",
     "text": [
      "(87773, 10)\n"
     ]
    },
    {
     "data": {
      "text/plain": [
       "1    73592\n",
       "0    14181\n",
       "Name: Score, dtype: int64"
      ]
     },
     "execution_count": 9,
     "metadata": {},
     "output_type": "execute_result"
    }
   ],
   "source": [
    "#Before starting the next phase of preprocessing lets see the number of entries left\n",
    "print(final.shape)\n",
    "\n",
    "#How many positive and negative reviews are present in our dataset?\n",
    "final['Score'].value_counts()"
   ]
  },
  {
   "cell_type": "code",
   "execution_count": 10,
   "metadata": {},
   "outputs": [
    {
     "data": {
      "text/html": [
       "<div>\n",
       "<style scoped>\n",
       "    .dataframe tbody tr th:only-of-type {\n",
       "        vertical-align: middle;\n",
       "    }\n",
       "\n",
       "    .dataframe tbody tr th {\n",
       "        vertical-align: top;\n",
       "    }\n",
       "\n",
       "    .dataframe thead th {\n",
       "        text-align: right;\n",
       "    }\n",
       "</style>\n",
       "<table border=\"1\" class=\"dataframe\">\n",
       "  <thead>\n",
       "    <tr style=\"text-align: right;\">\n",
       "      <th></th>\n",
       "      <th>Id</th>\n",
       "      <th>ProductId</th>\n",
       "      <th>UserId</th>\n",
       "      <th>ProfileName</th>\n",
       "      <th>HelpfulnessNumerator</th>\n",
       "      <th>HelpfulnessDenominator</th>\n",
       "      <th>Score</th>\n",
       "      <th>Time</th>\n",
       "      <th>Summary</th>\n",
       "      <th>Text</th>\n",
       "    </tr>\n",
       "  </thead>\n",
       "  <tbody>\n",
       "    <tr>\n",
       "      <th>22620</th>\n",
       "      <td>24750</td>\n",
       "      <td>2734888454</td>\n",
       "      <td>A13ISQV0U9GZIC</td>\n",
       "      <td>Sandikaye</td>\n",
       "      <td>1</td>\n",
       "      <td>1</td>\n",
       "      <td>0</td>\n",
       "      <td>1192060800</td>\n",
       "      <td>made in china</td>\n",
       "      <td>My dogs loves this chicken but its a product f...</td>\n",
       "    </tr>\n",
       "    <tr>\n",
       "      <th>22621</th>\n",
       "      <td>24751</td>\n",
       "      <td>2734888454</td>\n",
       "      <td>A1C298ITT645B6</td>\n",
       "      <td>Hugh G. Pritchard</td>\n",
       "      <td>0</td>\n",
       "      <td>0</td>\n",
       "      <td>1</td>\n",
       "      <td>1195948800</td>\n",
       "      <td>Dog Lover Delites</td>\n",
       "      <td>Our dogs just love them.  I saw them in a pet ...</td>\n",
       "    </tr>\n",
       "    <tr>\n",
       "      <th>70677</th>\n",
       "      <td>76870</td>\n",
       "      <td>B00002N8SM</td>\n",
       "      <td>A19Q006CSFT011</td>\n",
       "      <td>Arlielle</td>\n",
       "      <td>0</td>\n",
       "      <td>0</td>\n",
       "      <td>0</td>\n",
       "      <td>1288396800</td>\n",
       "      <td>only one fruitfly stuck</td>\n",
       "      <td>I had an infestation of fruitflies, they were ...</td>\n",
       "    </tr>\n",
       "    <tr>\n",
       "      <th>70676</th>\n",
       "      <td>76869</td>\n",
       "      <td>B00002N8SM</td>\n",
       "      <td>A1FYH4S02BW7FN</td>\n",
       "      <td>wonderer</td>\n",
       "      <td>0</td>\n",
       "      <td>0</td>\n",
       "      <td>0</td>\n",
       "      <td>1290038400</td>\n",
       "      <td>Doesn't work!! Don't waste your money!!</td>\n",
       "      <td>Worst product I have gotten in long time. Woul...</td>\n",
       "    </tr>\n",
       "    <tr>\n",
       "      <th>70675</th>\n",
       "      <td>76868</td>\n",
       "      <td>B00002N8SM</td>\n",
       "      <td>AUE8TB5VHS6ZV</td>\n",
       "      <td>eyeofthestorm</td>\n",
       "      <td>0</td>\n",
       "      <td>0</td>\n",
       "      <td>0</td>\n",
       "      <td>1306972800</td>\n",
       "      <td>A big rip off</td>\n",
       "      <td>I wish I'd read the reviews before making this...</td>\n",
       "    </tr>\n",
       "  </tbody>\n",
       "</table>\n",
       "</div>"
      ],
      "text/plain": [
       "          Id   ProductId          UserId        ProfileName  \\\n",
       "22620  24750  2734888454  A13ISQV0U9GZIC          Sandikaye   \n",
       "22621  24751  2734888454  A1C298ITT645B6  Hugh G. Pritchard   \n",
       "70677  76870  B00002N8SM  A19Q006CSFT011           Arlielle   \n",
       "70676  76869  B00002N8SM  A1FYH4S02BW7FN           wonderer   \n",
       "70675  76868  B00002N8SM   AUE8TB5VHS6ZV      eyeofthestorm   \n",
       "\n",
       "       HelpfulnessNumerator  HelpfulnessDenominator  Score        Time  \\\n",
       "22620                     1                       1      0  1192060800   \n",
       "22621                     0                       0      1  1195948800   \n",
       "70677                     0                       0      0  1288396800   \n",
       "70676                     0                       0      0  1290038400   \n",
       "70675                     0                       0      0  1306972800   \n",
       "\n",
       "                                       Summary  \\\n",
       "22620                            made in china   \n",
       "22621                        Dog Lover Delites   \n",
       "70677                  only one fruitfly stuck   \n",
       "70676  Doesn't work!! Don't waste your money!!   \n",
       "70675                            A big rip off   \n",
       "\n",
       "                                                    Text  \n",
       "22620  My dogs loves this chicken but its a product f...  \n",
       "22621  Our dogs just love them.  I saw them in a pet ...  \n",
       "70677  I had an infestation of fruitflies, they were ...  \n",
       "70676  Worst product I have gotten in long time. Woul...  \n",
       "70675  I wish I'd read the reviews before making this...  "
      ]
     },
     "execution_count": 10,
     "metadata": {},
     "output_type": "execute_result"
    }
   ],
   "source": [
    "final.head()"
   ]
  },
  {
   "cell_type": "markdown",
   "metadata": {},
   "source": [
    "## Prerpocessing Review Text\n",
    "Now that we have finished deduplication our data requires some preprocessing before we go on further with analysis and making the prediction model.\n",
    "\n",
    "Hence in the Preprocessing phase we do the following in the order below:-\n",
    "\n",
    "Begin by removing the html tags Remove any punctuations or limited set of special characters like , or . or # etc. Check if the word is made up of english letters and is not alpha-numeric Check to see if the length of the word is greater than 2 (as it was researched that there is no adjective in 2-letters) Convert the word to lowercase Remove Stopwords Finally Snowball Stemming the word (it was obsereved to be better than Porter Stemming) After which we collect the words used to describe positive and negative reviews"
   ]
  },
  {
   "cell_type": "code",
   "execution_count": 11,
   "metadata": {},
   "outputs": [],
   "source": [
    "# Importing necessary libraries\n",
    "\n",
    "from bs4 import BeautifulSoup\n",
    "import re\n",
    "\n",
    "def decontracted(phrase):\n",
    "    # specific\n",
    "    phrase = re.sub(r\"won't\", \"will not\", phrase)\n",
    "    phrase = re.sub(r\"can\\'t\", \"can not\", phrase)\n",
    "\n",
    "    # general\n",
    "    phrase = re.sub(r\"n\\'t\", \" not\", phrase)\n",
    "    phrase = re.sub(r\"\\'re\", \" are\", phrase)\n",
    "    phrase = re.sub(r\"\\'s\", \" is\", phrase)\n",
    "    phrase = re.sub(r\"\\'d\", \" would\", phrase)\n",
    "    phrase = re.sub(r\"\\'ll\", \" will\", phrase)\n",
    "    phrase = re.sub(r\"\\'t\", \" not\", phrase)\n",
    "    phrase = re.sub(r\"\\'ve\", \" have\", phrase)\n",
    "    phrase = re.sub(r\"\\'m\", \" am\", phrase)\n",
    "    return phrase"
   ]
  },
  {
   "cell_type": "code",
   "execution_count": 12,
   "metadata": {},
   "outputs": [],
   "source": [
    "# https://gist.github.com/sebleier/554280\n",
    "# we are removing the words from the stop words list: 'no', 'nor', 'not'\n",
    "# <br /><br /> ==> after the above steps, we are getting \"br br\"\n",
    "# we are including them into stop words list\n",
    "# instead of <br /> if we have <br/> these tags would have revmoved in the 1st step\n",
    "\n",
    "stopwords= set(['br', 'the', 'i', 'me', 'my', 'myself', 'we', 'our', 'ours', 'ourselves', 'you', \"you're\", \"you've\",\\\n",
    "            \"you'll\", \"you'd\", 'your', 'yours', 'yourself', 'yourselves', 'he', 'him', 'his', 'himself', \\\n",
    "            'she', \"she's\", 'her', 'hers', 'herself', 'it', \"it's\", 'its', 'itself', 'they', 'them', 'their',\\\n",
    "            'theirs', 'themselves', 'what', 'which', 'who', 'whom', 'this', 'that', \"that'll\", 'these', 'those', \\\n",
    "            'am', 'is', 'are', 'was', 'were', 'be', 'been', 'being', 'have', 'has', 'had', 'having', 'do', 'does', \\\n",
    "            'did', 'doing', 'a', 'an', 'the', 'and', 'but', 'if', 'or', 'because', 'as', 'until', 'while', 'of', \\\n",
    "            'at', 'by', 'for', 'with', 'about', 'against', 'between', 'into', 'through', 'during', 'before', 'after',\\\n",
    "            'above', 'below', 'to', 'from', 'up', 'down', 'in', 'out', 'on', 'off', 'over', 'under', 'again', 'further',\\\n",
    "            'then', 'once', 'here', 'there', 'when', 'where', 'why', 'how', 'all', 'any', 'both', 'each', 'few', 'more',\\\n",
    "            'most', 'other', 'some', 'such', 'only', 'own', 'same', 'so', 'than', 'too', 'very', \\\n",
    "            's', 't', 'can', 'will', 'just', 'don', \"don't\", 'should', \"should've\", 'now', 'd', 'll', 'm', 'o', 're', \\\n",
    "            've', 'y', 'ain', 'aren', \"aren't\", 'couldn', \"couldn't\", 'didn', \"didn't\", 'doesn', \"doesn't\", 'hadn',\\\n",
    "            \"hadn't\", 'hasn', \"hasn't\", 'haven', \"haven't\", 'isn', \"isn't\", 'ma', 'mightn', \"mightn't\", 'mustn',\\\n",
    "            \"mustn't\", 'needn', \"needn't\", 'shan', \"shan't\", 'shouldn', \"shouldn't\", 'wasn', \"wasn't\", 'weren', \"weren't\", \\\n",
    "            'won', \"won't\", 'wouldn', \"wouldn't\"])"
   ]
  },
  {
   "cell_type": "code",
   "execution_count": 13,
   "metadata": {},
   "outputs": [
    {
     "name": "stderr",
     "output_type": "stream",
     "text": [
      "100%|██████████████████████████████████████████████████████████████████████████| 87773/87773 [00:43<00:00, 2026.09it/s]\n"
     ]
    }
   ],
   "source": [
    "# Combining all the above stundents \n",
    "from tqdm import tqdm\n",
    "preprocessed_reviews = []\n",
    "# tqdm is for printing the status bar\n",
    "for sentance in tqdm(final['Text'].values):\n",
    "    sentance = re.sub(r\"http\\S+\", \"\", sentance)# To remove urls\n",
    "    sentance = BeautifulSoup(sentance, 'lxml').get_text()\n",
    "    sentance = decontracted(sentance)\n",
    "    sentance = re.sub(\"\\S*\\d\\S*\", \"\", sentance).strip()# To remove numbers\n",
    "    sentance = re.sub('[^A-Za-z]+', ' ', sentance) # To remove special characters\n",
    "    # https://gist.github.com/sebleier/554280\n",
    "    sentance = ' '.join(e.lower() for e in sentance.split() if e.lower() not in stopwords)# To convert to lower case letters\n",
    "    preprocessed_reviews.append(sentance.strip())"
   ]
  },
  {
   "cell_type": "code",
   "execution_count": 14,
   "metadata": {},
   "outputs": [],
   "source": [
    "# Adding a new column \"Review_Text\" to the \"final\" dataframe with the Text \"preprocessed_reviews\"\n",
    "\n",
    "final[\"Review_Text\"]=preprocessed_reviews"
   ]
  },
  {
   "cell_type": "code",
   "execution_count": 15,
   "metadata": {},
   "outputs": [
    {
     "data": {
      "text/html": [
       "<div>\n",
       "<style scoped>\n",
       "    .dataframe tbody tr th:only-of-type {\n",
       "        vertical-align: middle;\n",
       "    }\n",
       "\n",
       "    .dataframe tbody tr th {\n",
       "        vertical-align: top;\n",
       "    }\n",
       "\n",
       "    .dataframe thead th {\n",
       "        text-align: right;\n",
       "    }\n",
       "</style>\n",
       "<table border=\"1\" class=\"dataframe\">\n",
       "  <thead>\n",
       "    <tr style=\"text-align: right;\">\n",
       "      <th></th>\n",
       "      <th>Id</th>\n",
       "      <th>ProductId</th>\n",
       "      <th>UserId</th>\n",
       "      <th>ProfileName</th>\n",
       "      <th>HelpfulnessNumerator</th>\n",
       "      <th>HelpfulnessDenominator</th>\n",
       "      <th>Score</th>\n",
       "      <th>Time</th>\n",
       "      <th>Summary</th>\n",
       "      <th>Text</th>\n",
       "      <th>Review_Text</th>\n",
       "    </tr>\n",
       "  </thead>\n",
       "  <tbody>\n",
       "    <tr>\n",
       "      <th>22620</th>\n",
       "      <td>24750</td>\n",
       "      <td>2734888454</td>\n",
       "      <td>A13ISQV0U9GZIC</td>\n",
       "      <td>Sandikaye</td>\n",
       "      <td>1</td>\n",
       "      <td>1</td>\n",
       "      <td>0</td>\n",
       "      <td>1192060800</td>\n",
       "      <td>made in china</td>\n",
       "      <td>My dogs loves this chicken but its a product f...</td>\n",
       "      <td>dogs loves chicken product china wont buying a...</td>\n",
       "    </tr>\n",
       "    <tr>\n",
       "      <th>22621</th>\n",
       "      <td>24751</td>\n",
       "      <td>2734888454</td>\n",
       "      <td>A1C298ITT645B6</td>\n",
       "      <td>Hugh G. Pritchard</td>\n",
       "      <td>0</td>\n",
       "      <td>0</td>\n",
       "      <td>1</td>\n",
       "      <td>1195948800</td>\n",
       "      <td>Dog Lover Delites</td>\n",
       "      <td>Our dogs just love them.  I saw them in a pet ...</td>\n",
       "      <td>dogs love saw pet store tag attached regarding...</td>\n",
       "    </tr>\n",
       "  </tbody>\n",
       "</table>\n",
       "</div>"
      ],
      "text/plain": [
       "          Id   ProductId          UserId        ProfileName  \\\n",
       "22620  24750  2734888454  A13ISQV0U9GZIC          Sandikaye   \n",
       "22621  24751  2734888454  A1C298ITT645B6  Hugh G. Pritchard   \n",
       "\n",
       "       HelpfulnessNumerator  HelpfulnessDenominator  Score        Time  \\\n",
       "22620                     1                       1      0  1192060800   \n",
       "22621                     0                       0      1  1195948800   \n",
       "\n",
       "                 Summary                                               Text  \\\n",
       "22620      made in china  My dogs loves this chicken but its a product f...   \n",
       "22621  Dog Lover Delites  Our dogs just love them.  I saw them in a pet ...   \n",
       "\n",
       "                                             Review_Text  \n",
       "22620  dogs loves chicken product china wont buying a...  \n",
       "22621  dogs love saw pet store tag attached regarding...  "
      ]
     },
     "execution_count": 15,
     "metadata": {},
     "output_type": "execute_result"
    }
   ],
   "source": [
    "final.head(2)"
   ]
  },
  {
   "cell_type": "markdown",
   "metadata": {},
   "source": [
    "## Sorting the data in descending order beased on Time Column"
   ]
  },
  {
   "cell_type": "code",
   "execution_count": 16,
   "metadata": {},
   "outputs": [],
   "source": [
    "final=final.sort_values(by='Time',axis=0,ascending=False)"
   ]
  },
  {
   "cell_type": "code",
   "execution_count": 17,
   "metadata": {},
   "outputs": [
    {
     "data": {
      "text/html": [
       "<div>\n",
       "<style scoped>\n",
       "    .dataframe tbody tr th:only-of-type {\n",
       "        vertical-align: middle;\n",
       "    }\n",
       "\n",
       "    .dataframe tbody tr th {\n",
       "        vertical-align: top;\n",
       "    }\n",
       "\n",
       "    .dataframe thead th {\n",
       "        text-align: right;\n",
       "    }\n",
       "</style>\n",
       "<table border=\"1\" class=\"dataframe\">\n",
       "  <thead>\n",
       "    <tr style=\"text-align: right;\">\n",
       "      <th></th>\n",
       "      <th>Id</th>\n",
       "      <th>ProductId</th>\n",
       "      <th>UserId</th>\n",
       "      <th>ProfileName</th>\n",
       "      <th>HelpfulnessNumerator</th>\n",
       "      <th>HelpfulnessDenominator</th>\n",
       "      <th>Score</th>\n",
       "      <th>Time</th>\n",
       "      <th>Summary</th>\n",
       "      <th>Text</th>\n",
       "      <th>Review_Text</th>\n",
       "    </tr>\n",
       "  </thead>\n",
       "  <tbody>\n",
       "    <tr>\n",
       "      <th>5259</th>\n",
       "      <td>5703</td>\n",
       "      <td>B009WSNWC4</td>\n",
       "      <td>AMP7K1O84DH1T</td>\n",
       "      <td>ESTY</td>\n",
       "      <td>0</td>\n",
       "      <td>0</td>\n",
       "      <td>1</td>\n",
       "      <td>1351209600</td>\n",
       "      <td>DELICIOUS</td>\n",
       "      <td>Purchased this product at a local store in NY ...</td>\n",
       "      <td>purchased product local store ny kids love qui...</td>\n",
       "    </tr>\n",
       "    <tr>\n",
       "      <th>1005</th>\n",
       "      <td>1089</td>\n",
       "      <td>B004FD13RW</td>\n",
       "      <td>A1BPLP0BKERV</td>\n",
       "      <td>Paul</td>\n",
       "      <td>0</td>\n",
       "      <td>0</td>\n",
       "      <td>1</td>\n",
       "      <td>1351209600</td>\n",
       "      <td>It is awesome.</td>\n",
       "      <td>My partner is very happy with the tea, and is ...</td>\n",
       "      <td>partner happy tea feeling much better since st...</td>\n",
       "    </tr>\n",
       "    <tr>\n",
       "      <th>63160</th>\n",
       "      <td>68621</td>\n",
       "      <td>B005IOXBY0</td>\n",
       "      <td>A1ORVAUR5C5N8X</td>\n",
       "      <td>amondigirl</td>\n",
       "      <td>0</td>\n",
       "      <td>0</td>\n",
       "      <td>1</td>\n",
       "      <td>1351209600</td>\n",
       "      <td>WOW.....</td>\n",
       "      <td>This chocolate is amazing..I love the taste an...</td>\n",
       "      <td>chocolate amazing love taste smell chocolate f...</td>\n",
       "    </tr>\n",
       "    <tr>\n",
       "      <th>9513</th>\n",
       "      <td>10404</td>\n",
       "      <td>B005HI55CS</td>\n",
       "      <td>A36ERNIM0TKG3T</td>\n",
       "      <td>Donald E. Bolton</td>\n",
       "      <td>0</td>\n",
       "      <td>0</td>\n",
       "      <td>1</td>\n",
       "      <td>1351209600</td>\n",
       "      <td>Hidden Springs Maple syrup</td>\n",
       "      <td>This is one of the very finest maple syrups I ...</td>\n",
       "      <td>one finest maple syrups ordered enjoyed bought...</td>\n",
       "    </tr>\n",
       "    <tr>\n",
       "      <th>86066</th>\n",
       "      <td>93711</td>\n",
       "      <td>B001NZPFB0</td>\n",
       "      <td>A3318V6FJ2KIII</td>\n",
       "      <td>T. Dennis</td>\n",
       "      <td>0</td>\n",
       "      <td>0</td>\n",
       "      <td>1</td>\n",
       "      <td>1351209600</td>\n",
       "      <td>My dog enjoys it and it helps her hips.</td>\n",
       "      <td>My dog was diagnosed with hip dysplasia as a 6...</td>\n",
       "      <td>dog diagnosed hip dysplasia old puppy vet said...</td>\n",
       "    </tr>\n",
       "    <tr>\n",
       "      <th>30235</th>\n",
       "      <td>32932</td>\n",
       "      <td>B001P05K8Q</td>\n",
       "      <td>A3L0B5NBTQ7ZHO</td>\n",
       "      <td>Julie</td>\n",
       "      <td>0</td>\n",
       "      <td>0</td>\n",
       "      <td>1</td>\n",
       "      <td>1351209600</td>\n",
       "      <td>Great results but they stink</td>\n",
       "      <td>We originally purchased these chews from our v...</td>\n",
       "      <td>originally purchased chews veterinarian decide...</td>\n",
       "    </tr>\n",
       "    <tr>\n",
       "      <th>96778</th>\n",
       "      <td>105165</td>\n",
       "      <td>B005EF0HZ4</td>\n",
       "      <td>A2A5Z7LC91EFVA</td>\n",
       "      <td>Gretchen Casey</td>\n",
       "      <td>0</td>\n",
       "      <td>0</td>\n",
       "      <td>1</td>\n",
       "      <td>1351209600</td>\n",
       "      <td>Gluten Free Kid</td>\n",
       "      <td>We LOVE Lucy's cookies!  The Maple Bliss are w...</td>\n",
       "      <td>love lucy cookies maple bliss wonderful bad ha...</td>\n",
       "    </tr>\n",
       "    <tr>\n",
       "      <th>96779</th>\n",
       "      <td>105166</td>\n",
       "      <td>B005EF0HZ4</td>\n",
       "      <td>A1JXSMYVHFPWM1</td>\n",
       "      <td>marsha m beers</td>\n",
       "      <td>0</td>\n",
       "      <td>0</td>\n",
       "      <td>0</td>\n",
       "      <td>1351209600</td>\n",
       "      <td>Disappointed</td>\n",
       "      <td>I have not been able to find the Maple flavor ...</td>\n",
       "      <td>not able find maple flavor cookies area anywhe...</td>\n",
       "    </tr>\n",
       "    <tr>\n",
       "      <th>39050</th>\n",
       "      <td>42397</td>\n",
       "      <td>B0014DXT5A</td>\n",
       "      <td>AZUCLRMHEBUG0</td>\n",
       "      <td>T. HANLEY \"reader\"</td>\n",
       "      <td>0</td>\n",
       "      <td>0</td>\n",
       "      <td>1</td>\n",
       "      <td>1351209600</td>\n",
       "      <td>ZipFizz liquid energy shot</td>\n",
       "      <td>Have used this for years.  Gives long lasting ...</td>\n",
       "      <td>used years gives long lasting energy boost no ...</td>\n",
       "    </tr>\n",
       "    <tr>\n",
       "      <th>5472</th>\n",
       "      <td>5924</td>\n",
       "      <td>B00523NRVO</td>\n",
       "      <td>A2JDXKFZ0PFHKU</td>\n",
       "      <td>James W. Shondel</td>\n",
       "      <td>0</td>\n",
       "      <td>0</td>\n",
       "      <td>1</td>\n",
       "      <td>1351209600</td>\n",
       "      <td>The perfect pop!</td>\n",
       "      <td>These lollipops are are well done, look exactl...</td>\n",
       "      <td>lollipops well done look exactly like picture ...</td>\n",
       "    </tr>\n",
       "    <tr>\n",
       "      <th>24496</th>\n",
       "      <td>26772</td>\n",
       "      <td>B004ZY4TK4</td>\n",
       "      <td>A4IL0CLL27Q33</td>\n",
       "      <td>D. Brennan</td>\n",
       "      <td>0</td>\n",
       "      <td>0</td>\n",
       "      <td>0</td>\n",
       "      <td>1351209600</td>\n",
       "      <td>Buyer beware</td>\n",
       "      <td>Nespresso makes GREAT coffee and GREAT machine...</td>\n",
       "      <td>nespresso makes great coffee great machines sw...</td>\n",
       "    </tr>\n",
       "    <tr>\n",
       "      <th>52220</th>\n",
       "      <td>56723</td>\n",
       "      <td>B0012XBD7I</td>\n",
       "      <td>A32NC2UF34RJQY</td>\n",
       "      <td>D. Pagliassotti</td>\n",
       "      <td>0</td>\n",
       "      <td>0</td>\n",
       "      <td>1</td>\n",
       "      <td>1351209600</td>\n",
       "      <td>Great for HS lunch</td>\n",
       "      <td>Great for HS lunch, kid enjoy as a snack also,...</td>\n",
       "      <td>great hs lunch kid enjoy snack also buy salted...</td>\n",
       "    </tr>\n",
       "    <tr>\n",
       "      <th>6548</th>\n",
       "      <td>7178</td>\n",
       "      <td>B004OQLIHK</td>\n",
       "      <td>AKHQMSUORSA91</td>\n",
       "      <td>Pen Name</td>\n",
       "      <td>0</td>\n",
       "      <td>0</td>\n",
       "      <td>1</td>\n",
       "      <td>1351209600</td>\n",
       "      <td>Delicious!</td>\n",
       "      <td>I have ordered these raisins multiple times.  ...</td>\n",
       "      <td>ordered raisins multiple times always great ar...</td>\n",
       "    </tr>\n",
       "    <tr>\n",
       "      <th>89213</th>\n",
       "      <td>97089</td>\n",
       "      <td>B004O8KBK8</td>\n",
       "      <td>A1JPKFGGF128X1</td>\n",
       "      <td>MTNick</td>\n",
       "      <td>0</td>\n",
       "      <td>0</td>\n",
       "      <td>1</td>\n",
       "      <td>1351209600</td>\n",
       "      <td>Yummy and Healthy</td>\n",
       "      <td>Loved the cranberry-like flavor and slightly c...</td>\n",
       "      <td>loved cranberry like flavor slightly crunchy t...</td>\n",
       "    </tr>\n",
       "    <tr>\n",
       "      <th>96263</th>\n",
       "      <td>104607</td>\n",
       "      <td>B000FACFIA</td>\n",
       "      <td>A1TTGEM50SIS2R</td>\n",
       "      <td>Abby</td>\n",
       "      <td>0</td>\n",
       "      <td>0</td>\n",
       "      <td>1</td>\n",
       "      <td>1351209600</td>\n",
       "      <td>Licorice Scottie Dogs, Red</td>\n",
       "      <td>I love the Gimbals Red Licorice Scottie dogs I...</td>\n",
       "      <td>love gimbals red licorice scottie dogs purchas...</td>\n",
       "    </tr>\n",
       "    <tr>\n",
       "      <th>43703</th>\n",
       "      <td>47562</td>\n",
       "      <td>B004M0Y8T8</td>\n",
       "      <td>A2QJS6MHTIFSRI</td>\n",
       "      <td>Georgie</td>\n",
       "      <td>0</td>\n",
       "      <td>0</td>\n",
       "      <td>1</td>\n",
       "      <td>1351209600</td>\n",
       "      <td>Sleeping a lot better</td>\n",
       "      <td>Hubby and I (both 63) have been drinking about...</td>\n",
       "      <td>hubby drinking oz night months found falling d...</td>\n",
       "    </tr>\n",
       "    <tr>\n",
       "      <th>51204</th>\n",
       "      <td>55627</td>\n",
       "      <td>B004CYLW7A</td>\n",
       "      <td>A2CMS7BYL8BKP1</td>\n",
       "      <td>luv2fly</td>\n",
       "      <td>0</td>\n",
       "      <td>0</td>\n",
       "      <td>0</td>\n",
       "      <td>1351209600</td>\n",
       "      <td>Yuk! And who goes to Amazon to buy cereal?????</td>\n",
       "      <td>This stuff tasted like (insert favorite negati...</td>\n",
       "      <td>stuff tasted like insert favorite negative adj...</td>\n",
       "    </tr>\n",
       "    <tr>\n",
       "      <th>22401</th>\n",
       "      <td>24518</td>\n",
       "      <td>B0016JJEFG</td>\n",
       "      <td>AO9WE22147CRH</td>\n",
       "      <td>Arvind Rajan</td>\n",
       "      <td>0</td>\n",
       "      <td>0</td>\n",
       "      <td>0</td>\n",
       "      <td>1351209600</td>\n",
       "      <td>bad tasting tea</td>\n",
       "      <td>We drink a lot of tea... from all over the wor...</td>\n",
       "      <td>drink lot tea world far worst tasting tea purc...</td>\n",
       "    </tr>\n",
       "    <tr>\n",
       "      <th>30998</th>\n",
       "      <td>33768</td>\n",
       "      <td>B002ESVRWQ</td>\n",
       "      <td>A293T21WVQ3TDC</td>\n",
       "      <td>James E. Palmiter \"Bargin Hunter\"</td>\n",
       "      <td>0</td>\n",
       "      <td>0</td>\n",
       "      <td>0</td>\n",
       "      <td>1351209600</td>\n",
       "      <td>A bit weak...</td>\n",
       "      <td>The coffee \"Blend\" is really lean on Kona and ...</td>\n",
       "      <td>coffee blend really lean kona really fat fill ...</td>\n",
       "    </tr>\n",
       "    <tr>\n",
       "      <th>32585</th>\n",
       "      <td>35471</td>\n",
       "      <td>B000WSHV1Q</td>\n",
       "      <td>A1YT628H711FN7</td>\n",
       "      <td>Laura Tomevi</td>\n",
       "      <td>0</td>\n",
       "      <td>0</td>\n",
       "      <td>1</td>\n",
       "      <td>1351209600</td>\n",
       "      <td>Great Treat</td>\n",
       "      <td>My cats love these. They are very hard to find...</td>\n",
       "      <td>cats love hard find anywhere used available pe...</td>\n",
       "    </tr>\n",
       "    <tr>\n",
       "      <th>76059</th>\n",
       "      <td>82772</td>\n",
       "      <td>B0049K99RW</td>\n",
       "      <td>A1Y73Y4VX3AJMZ</td>\n",
       "      <td>Rispir Chrone</td>\n",
       "      <td>0</td>\n",
       "      <td>0</td>\n",
       "      <td>1</td>\n",
       "      <td>1351209600</td>\n",
       "      <td>Nice traditional chai</td>\n",
       "      <td>I got hooked on this chai when I decided to gi...</td>\n",
       "      <td>got hooked chai decided give coffee still litt...</td>\n",
       "    </tr>\n",
       "    <tr>\n",
       "      <th>29158</th>\n",
       "      <td>31794</td>\n",
       "      <td>B0049D7HRS</td>\n",
       "      <td>A3LR9HCV3D96I3</td>\n",
       "      <td>Gypsy Healer</td>\n",
       "      <td>0</td>\n",
       "      <td>0</td>\n",
       "      <td>1</td>\n",
       "      <td>1351209600</td>\n",
       "      <td>Delicious</td>\n",
       "      <td>Individually packaged assorted rice crackers a...</td>\n",
       "      <td>individually packaged assorted rice crackers r...</td>\n",
       "    </tr>\n",
       "    <tr>\n",
       "      <th>16026</th>\n",
       "      <td>17512</td>\n",
       "      <td>B0045Z6K50</td>\n",
       "      <td>A3HM6TNYB7FNDL</td>\n",
       "      <td>C. Furman</td>\n",
       "      <td>0</td>\n",
       "      <td>0</td>\n",
       "      <td>1</td>\n",
       "      <td>1351209600</td>\n",
       "      <td>Full- bodied without a bitter after-taste</td>\n",
       "      <td>This is my everyday coffee choice...a good all...</td>\n",
       "      <td>everyday coffee choice good around crowd pleas...</td>\n",
       "    </tr>\n",
       "    <tr>\n",
       "      <th>41621</th>\n",
       "      <td>45226</td>\n",
       "      <td>B00443Z35G</td>\n",
       "      <td>A3G23SMM1E1KPV</td>\n",
       "      <td>L. E. Scott</td>\n",
       "      <td>0</td>\n",
       "      <td>0</td>\n",
       "      <td>1</td>\n",
       "      <td>1351209600</td>\n",
       "      <td>Great Swedish Pastries</td>\n",
       "      <td>Svenhard's varity pack pastries are great.  In...</td>\n",
       "      <td>svenhard varity pack pastries great individual...</td>\n",
       "    </tr>\n",
       "    <tr>\n",
       "      <th>7156</th>\n",
       "      <td>7821</td>\n",
       "      <td>B000HB9TLI</td>\n",
       "      <td>A353IAF5Y1XE53</td>\n",
       "      <td>J. RIGOR \"shop mama\"</td>\n",
       "      <td>0</td>\n",
       "      <td>0</td>\n",
       "      <td>0</td>\n",
       "      <td>1351209600</td>\n",
       "      <td>Don't like the taste</td>\n",
       "      <td>I do not like sour taste and this has a sour k...</td>\n",
       "      <td>not like sour taste sour kind taste not like s...</td>\n",
       "    </tr>\n",
       "    <tr>\n",
       "      <th>55100</th>\n",
       "      <td>59787</td>\n",
       "      <td>B002K9BG16</td>\n",
       "      <td>A30A7W9CZ77GFY</td>\n",
       "      <td>Cecelia Thomas \"Lady Kinrowan\"</td>\n",
       "      <td>0</td>\n",
       "      <td>0</td>\n",
       "      <td>1</td>\n",
       "      <td>1351209600</td>\n",
       "      <td>Butler's chocolate is the real deal direct fro...</td>\n",
       "      <td>Nifty hot chocolate discs added to your warm m...</td>\n",
       "      <td>nifty hot chocolate discs added warm milk milk...</td>\n",
       "    </tr>\n",
       "    <tr>\n",
       "      <th>87501</th>\n",
       "      <td>95241</td>\n",
       "      <td>B00401OZ1U</td>\n",
       "      <td>A1KIL93AY6MFGS</td>\n",
       "      <td>John K. Kirk</td>\n",
       "      <td>0</td>\n",
       "      <td>0</td>\n",
       "      <td>1</td>\n",
       "      <td>1351209600</td>\n",
       "      <td>Metromint or Bust!</td>\n",
       "      <td>Chilled Oragemint is a classic refreshment for...</td>\n",
       "      <td>chilled oragemint classic refreshment dry scra...</td>\n",
       "    </tr>\n",
       "    <tr>\n",
       "      <th>78715</th>\n",
       "      <td>85601</td>\n",
       "      <td>B003ZURM80</td>\n",
       "      <td>A1O6MADFNBRX7H</td>\n",
       "      <td>Denise Lake</td>\n",
       "      <td>0</td>\n",
       "      <td>0</td>\n",
       "      <td>1</td>\n",
       "      <td>1351209600</td>\n",
       "      <td>5 Star Tea at a super price!</td>\n",
       "      <td>This tea is very good and perfect for the pric...</td>\n",
       "      <td>tea good perfect price not go wrong product mu...</td>\n",
       "    </tr>\n",
       "    <tr>\n",
       "      <th>50708</th>\n",
       "      <td>55049</td>\n",
       "      <td>B000IHJEDE</td>\n",
       "      <td>A2DFSA2JXQKVY3</td>\n",
       "      <td>C-Rush</td>\n",
       "      <td>0</td>\n",
       "      <td>0</td>\n",
       "      <td>1</td>\n",
       "      <td>1351209600</td>\n",
       "      <td>Not bad.</td>\n",
       "      <td>These are small and very salty. The taste is g...</td>\n",
       "      <td>small salty taste good strong good thing packa...</td>\n",
       "    </tr>\n",
       "    <tr>\n",
       "      <th>25112</th>\n",
       "      <td>27424</td>\n",
       "      <td>B003WEFSAI</td>\n",
       "      <td>A37O0JPLJ8BOXP</td>\n",
       "      <td>Texaschick59</td>\n",
       "      <td>0</td>\n",
       "      <td>0</td>\n",
       "      <td>1</td>\n",
       "      <td>1351209600</td>\n",
       "      <td>Drink mix</td>\n",
       "      <td>We love this drink mix it taste delicious and ...</td>\n",
       "      <td>love drink mix taste delicious impossible yo f...</td>\n",
       "    </tr>\n",
       "    <tr>\n",
       "      <th>7620</th>\n",
       "      <td>8322</td>\n",
       "      <td>B003VXFK44</td>\n",
       "      <td>A3GFZIL1E0Z5V8</td>\n",
       "      <td>bloomen1</td>\n",
       "      <td>0</td>\n",
       "      <td>0</td>\n",
       "      <td>1</td>\n",
       "      <td>1351209600</td>\n",
       "      <td>Rodeo Drive is Crazy Good Coffee!</td>\n",
       "      <td>Rodeo Drive is my absolute favorite and I'm re...</td>\n",
       "      <td>rodeo drive absolute favorite ready order find...</td>\n",
       "    </tr>\n",
       "    <tr>\n",
       "      <th>13539</th>\n",
       "      <td>14784</td>\n",
       "      <td>B000S859NC</td>\n",
       "      <td>A2H7STZ2URUCOE</td>\n",
       "      <td>Christopher Whedon \"the odd bead\"</td>\n",
       "      <td>0</td>\n",
       "      <td>0</td>\n",
       "      <td>1</td>\n",
       "      <td>1351209600</td>\n",
       "      <td>GREAT TEA</td>\n",
       "      <td>Rooibos Natural Red tea is something of a pers...</td>\n",
       "      <td>rooibos natural red tea something personal tas...</td>\n",
       "    </tr>\n",
       "    <tr>\n",
       "      <th>19181</th>\n",
       "      <td>20930</td>\n",
       "      <td>B001L1MKLY</td>\n",
       "      <td>A38XYFHXEUNUW6</td>\n",
       "      <td>bleaufire</td>\n",
       "      <td>0</td>\n",
       "      <td>0</td>\n",
       "      <td>1</td>\n",
       "      <td>1351209600</td>\n",
       "      <td>Yummy &amp; Subtle</td>\n",
       "      <td>Just made my first pot of this wonderful coffe...</td>\n",
       "      <td>made first pot wonderful coffee simply delish ...</td>\n",
       "    </tr>\n",
       "    <tr>\n",
       "      <th>9</th>\n",
       "      <td>10</td>\n",
       "      <td>B00171APVA</td>\n",
       "      <td>A21BT40VZCCYT4</td>\n",
       "      <td>Carol A. Reed</td>\n",
       "      <td>0</td>\n",
       "      <td>0</td>\n",
       "      <td>1</td>\n",
       "      <td>1351209600</td>\n",
       "      <td>Healthy Dog Food</td>\n",
       "      <td>This is a very healthy dog food. Good for thei...</td>\n",
       "      <td>healthy dog food good digestion also good smal...</td>\n",
       "    </tr>\n",
       "    <tr>\n",
       "      <th>55731</th>\n",
       "      <td>60464</td>\n",
       "      <td>B003QNJYXM</td>\n",
       "      <td>A2E2F8WSUB33VE</td>\n",
       "      <td>Maria A. Alfonzo</td>\n",
       "      <td>0</td>\n",
       "      <td>0</td>\n",
       "      <td>1</td>\n",
       "      <td>1351209600</td>\n",
       "      <td>Excelent</td>\n",
       "      <td>Good price, flavor, fast delivery And good pre...</td>\n",
       "      <td>good price flavor fast delivery good presentat...</td>\n",
       "    </tr>\n",
       "    <tr>\n",
       "      <th>66057</th>\n",
       "      <td>71787</td>\n",
       "      <td>B007RTR8AC</td>\n",
       "      <td>A2PZM8DT1KGT10</td>\n",
       "      <td>Edwina E. Cowgill \"book lover\"</td>\n",
       "      <td>0</td>\n",
       "      <td>0</td>\n",
       "      <td>1</td>\n",
       "      <td>1351209600</td>\n",
       "      <td>Fabulous Shampoo</td>\n",
       "      <td>The name says it all- Clear Scalp and Hair  - ...</td>\n",
       "      <td>name says clear scalp hair leaves hair clear p...</td>\n",
       "    </tr>\n",
       "    <tr>\n",
       "      <th>67928</th>\n",
       "      <td>73819</td>\n",
       "      <td>B008AHJZWY</td>\n",
       "      <td>AL0PVH6QPNWMW</td>\n",
       "      <td>good151</td>\n",
       "      <td>0</td>\n",
       "      <td>0</td>\n",
       "      <td>0</td>\n",
       "      <td>1351209600</td>\n",
       "      <td>Hint Fizz</td>\n",
       "      <td>I love hint water so when I saw they offered h...</td>\n",
       "      <td>love hint water saw offered hint fizz try wors...</td>\n",
       "    </tr>\n",
       "    <tr>\n",
       "      <th>82885</th>\n",
       "      <td>90216</td>\n",
       "      <td>B00866AM2G</td>\n",
       "      <td>AY839W9JQDZM2</td>\n",
       "      <td>Daniella</td>\n",
       "      <td>0</td>\n",
       "      <td>0</td>\n",
       "      <td>1</td>\n",
       "      <td>1351209600</td>\n",
       "      <td>I love this</td>\n",
       "      <td>It's is in my opinion the best coconut water o...</td>\n",
       "      <td>opinion best coconut water especially since no...</td>\n",
       "    </tr>\n",
       "    <tr>\n",
       "      <th>82884</th>\n",
       "      <td>90215</td>\n",
       "      <td>B00866AM2G</td>\n",
       "      <td>ADTOX2JFWWA0B</td>\n",
       "      <td>Arnos Vale</td>\n",
       "      <td>0</td>\n",
       "      <td>0</td>\n",
       "      <td>1</td>\n",
       "      <td>1351209600</td>\n",
       "      <td>Love it.</td>\n",
       "      <td>I love this but think its a little to expensiv...</td>\n",
       "      <td>love think little expensive everyday use refre...</td>\n",
       "    </tr>\n",
       "    <tr>\n",
       "      <th>43268</th>\n",
       "      <td>47077</td>\n",
       "      <td>B001C4PKIK</td>\n",
       "      <td>A3IMXYITIO8WHN</td>\n",
       "      <td>Thomas R. Jackson</td>\n",
       "      <td>0</td>\n",
       "      <td>0</td>\n",
       "      <td>1</td>\n",
       "      <td>1351209600</td>\n",
       "      <td>Great food!</td>\n",
       "      <td>I wanted a food for a a dog with skin problems...</td>\n",
       "      <td>wanted food dog skin problems skin greatly imp...</td>\n",
       "    </tr>\n",
       "    <tr>\n",
       "      <th>42269</th>\n",
       "      <td>45991</td>\n",
       "      <td>B007VQQT1K</td>\n",
       "      <td>A34P4V70RNC2YV</td>\n",
       "      <td>S. Guss</td>\n",
       "      <td>0</td>\n",
       "      <td>0</td>\n",
       "      <td>1</td>\n",
       "      <td>1351209600</td>\n",
       "      <td>Great Irish Tea</td>\n",
       "      <td>We recently returned from a wonderful three we...</td>\n",
       "      <td>recently returned wonderful three week excursi...</td>\n",
       "    </tr>\n",
       "    <tr>\n",
       "      <th>14526</th>\n",
       "      <td>15842</td>\n",
       "      <td>B007TJGZ5E</td>\n",
       "      <td>A3UOYYQS5Z47MS</td>\n",
       "      <td>David A. Levin \"DaveL\"</td>\n",
       "      <td>0</td>\n",
       "      <td>0</td>\n",
       "      <td>1</td>\n",
       "      <td>1351209600</td>\n",
       "      <td>Morning Coffee</td>\n",
       "      <td>Great coffee at a good price. I'm a subscripti...</td>\n",
       "      <td>great coffee good price subscription buyer buy...</td>\n",
       "    </tr>\n",
       "    <tr>\n",
       "      <th>15069</th>\n",
       "      <td>16426</td>\n",
       "      <td>B007TJGZ54</td>\n",
       "      <td>A29BJSTYH9W3JI</td>\n",
       "      <td>Harry</td>\n",
       "      <td>0</td>\n",
       "      <td>0</td>\n",
       "      <td>1</td>\n",
       "      <td>1351209600</td>\n",
       "      <td>super coffee</td>\n",
       "      <td>Great coffee and so easy to brew.  This coffee...</td>\n",
       "      <td>great coffee easy brew coffee great aroma good...</td>\n",
       "    </tr>\n",
       "    <tr>\n",
       "      <th>83618</th>\n",
       "      <td>91002</td>\n",
       "      <td>B001E5E470</td>\n",
       "      <td>AGADB4E6N1EDS</td>\n",
       "      <td>L. A. Stephenson \"Mom of four\"</td>\n",
       "      <td>0</td>\n",
       "      <td>0</td>\n",
       "      <td>1</td>\n",
       "      <td>1351209600</td>\n",
       "      <td>Help for a Lousy Cook</td>\n",
       "      <td>I'm a lousy cook and I know it.  However, when...</td>\n",
       "      <td>lousy cook know however kids grind little garl...</td>\n",
       "    </tr>\n",
       "    <tr>\n",
       "      <th>85745</th>\n",
       "      <td>93367</td>\n",
       "      <td>B007TGDXMU</td>\n",
       "      <td>AAMUNRK134Y5P</td>\n",
       "      <td>Tony Schy</td>\n",
       "      <td>0</td>\n",
       "      <td>0</td>\n",
       "      <td>1</td>\n",
       "      <td>1351209600</td>\n",
       "      <td>Very pleased</td>\n",
       "      <td>Good price, good quality with convenience.  Fu...</td>\n",
       "      <td>good price good quality convenience fully met ...</td>\n",
       "    </tr>\n",
       "    <tr>\n",
       "      <th>85744</th>\n",
       "      <td>93366</td>\n",
       "      <td>B007TGDXMU</td>\n",
       "      <td>AGUBQN9M09VQ4</td>\n",
       "      <td>Inger Jackson</td>\n",
       "      <td>0</td>\n",
       "      <td>0</td>\n",
       "      <td>0</td>\n",
       "      <td>1351209600</td>\n",
       "      <td>Not what I expected</td>\n",
       "      <td>First of all the \"k-cups\" were weird and the t...</td>\n",
       "      <td>first k cups weird taste not thought would not...</td>\n",
       "    </tr>\n",
       "    <tr>\n",
       "      <th>85743</th>\n",
       "      <td>93365</td>\n",
       "      <td>B007TGDXMU</td>\n",
       "      <td>A9JMG87TELB6N</td>\n",
       "      <td>Ludmila Newman</td>\n",
       "      <td>0</td>\n",
       "      <td>0</td>\n",
       "      <td>1</td>\n",
       "      <td>1351209600</td>\n",
       "      <td>Best coffee I ever had</td>\n",
       "      <td>This is the best coffee I have ever had. I hav...</td>\n",
       "      <td>best coffee ever keurig coffee maker several y...</td>\n",
       "    </tr>\n",
       "    <tr>\n",
       "      <th>84914</th>\n",
       "      <td>92421</td>\n",
       "      <td>B007TGDXMK</td>\n",
       "      <td>A1BSGNCHEI1PJI</td>\n",
       "      <td>Kelly Bowser \"Runs W Scissors\"</td>\n",
       "      <td>0</td>\n",
       "      <td>0</td>\n",
       "      <td>1</td>\n",
       "      <td>1351209600</td>\n",
       "      <td>Very Nice Medium Roast</td>\n",
       "      <td>This coffee has the best aroma!  Great medium ...</td>\n",
       "      <td>coffee best aroma great medium taste replaced ...</td>\n",
       "    </tr>\n",
       "    <tr>\n",
       "      <th>14300</th>\n",
       "      <td>15605</td>\n",
       "      <td>B000255OIG</td>\n",
       "      <td>AUINI96NMGXUI</td>\n",
       "      <td>Kkrys23</td>\n",
       "      <td>0</td>\n",
       "      <td>0</td>\n",
       "      <td>1</td>\n",
       "      <td>1351209600</td>\n",
       "      <td>Love this faucet</td>\n",
       "      <td>Love this faucet.  My husband had installed th...</td>\n",
       "      <td>love faucet husband installed one old house cu...</td>\n",
       "    </tr>\n",
       "    <tr>\n",
       "      <th>14299</th>\n",
       "      <td>15604</td>\n",
       "      <td>B000255OIG</td>\n",
       "      <td>A3SSEJ8IEM4YGW</td>\n",
       "      <td>Seagaul</td>\n",
       "      <td>0</td>\n",
       "      <td>0</td>\n",
       "      <td>1</td>\n",
       "      <td>1351209600</td>\n",
       "      <td>Dogs love it.</td>\n",
       "      <td>This is the \"all gone\" treat after dinner.  It...</td>\n",
       "      <td>gone treat dinner treat dogs work run chance l...</td>\n",
       "    </tr>\n",
       "  </tbody>\n",
       "</table>\n",
       "</div>"
      ],
      "text/plain": [
       "           Id   ProductId          UserId                        ProfileName  \\\n",
       "5259     5703  B009WSNWC4   AMP7K1O84DH1T                               ESTY   \n",
       "1005     1089  B004FD13RW    A1BPLP0BKERV                               Paul   \n",
       "63160   68621  B005IOXBY0  A1ORVAUR5C5N8X                         amondigirl   \n",
       "9513    10404  B005HI55CS  A36ERNIM0TKG3T                   Donald E. Bolton   \n",
       "86066   93711  B001NZPFB0  A3318V6FJ2KIII                          T. Dennis   \n",
       "30235   32932  B001P05K8Q  A3L0B5NBTQ7ZHO                              Julie   \n",
       "96778  105165  B005EF0HZ4  A2A5Z7LC91EFVA                     Gretchen Casey   \n",
       "96779  105166  B005EF0HZ4  A1JXSMYVHFPWM1                     marsha m beers   \n",
       "39050   42397  B0014DXT5A   AZUCLRMHEBUG0                 T. HANLEY \"reader\"   \n",
       "5472     5924  B00523NRVO  A2JDXKFZ0PFHKU                   James W. Shondel   \n",
       "24496   26772  B004ZY4TK4   A4IL0CLL27Q33                         D. Brennan   \n",
       "52220   56723  B0012XBD7I  A32NC2UF34RJQY                    D. Pagliassotti   \n",
       "6548     7178  B004OQLIHK   AKHQMSUORSA91                           Pen Name   \n",
       "89213   97089  B004O8KBK8  A1JPKFGGF128X1                             MTNick   \n",
       "96263  104607  B000FACFIA  A1TTGEM50SIS2R                               Abby   \n",
       "43703   47562  B004M0Y8T8  A2QJS6MHTIFSRI                            Georgie   \n",
       "51204   55627  B004CYLW7A  A2CMS7BYL8BKP1                            luv2fly   \n",
       "22401   24518  B0016JJEFG   AO9WE22147CRH                       Arvind Rajan   \n",
       "30998   33768  B002ESVRWQ  A293T21WVQ3TDC  James E. Palmiter \"Bargin Hunter\"   \n",
       "32585   35471  B000WSHV1Q  A1YT628H711FN7                       Laura Tomevi   \n",
       "76059   82772  B0049K99RW  A1Y73Y4VX3AJMZ                      Rispir Chrone   \n",
       "29158   31794  B0049D7HRS  A3LR9HCV3D96I3                       Gypsy Healer   \n",
       "16026   17512  B0045Z6K50  A3HM6TNYB7FNDL                          C. Furman   \n",
       "41621   45226  B00443Z35G  A3G23SMM1E1KPV                        L. E. Scott   \n",
       "7156     7821  B000HB9TLI  A353IAF5Y1XE53               J. RIGOR \"shop mama\"   \n",
       "55100   59787  B002K9BG16  A30A7W9CZ77GFY     Cecelia Thomas \"Lady Kinrowan\"   \n",
       "87501   95241  B00401OZ1U  A1KIL93AY6MFGS                       John K. Kirk   \n",
       "78715   85601  B003ZURM80  A1O6MADFNBRX7H                        Denise Lake   \n",
       "50708   55049  B000IHJEDE  A2DFSA2JXQKVY3                             C-Rush   \n",
       "25112   27424  B003WEFSAI  A37O0JPLJ8BOXP                       Texaschick59   \n",
       "7620     8322  B003VXFK44  A3GFZIL1E0Z5V8                           bloomen1   \n",
       "13539   14784  B000S859NC  A2H7STZ2URUCOE  Christopher Whedon \"the odd bead\"   \n",
       "19181   20930  B001L1MKLY  A38XYFHXEUNUW6                          bleaufire   \n",
       "9          10  B00171APVA  A21BT40VZCCYT4                      Carol A. Reed   \n",
       "55731   60464  B003QNJYXM  A2E2F8WSUB33VE                   Maria A. Alfonzo   \n",
       "66057   71787  B007RTR8AC  A2PZM8DT1KGT10     Edwina E. Cowgill \"book lover\"   \n",
       "67928   73819  B008AHJZWY   AL0PVH6QPNWMW                            good151   \n",
       "82885   90216  B00866AM2G   AY839W9JQDZM2                           Daniella   \n",
       "82884   90215  B00866AM2G   ADTOX2JFWWA0B                         Arnos Vale   \n",
       "43268   47077  B001C4PKIK  A3IMXYITIO8WHN                  Thomas R. Jackson   \n",
       "42269   45991  B007VQQT1K  A34P4V70RNC2YV                            S. Guss   \n",
       "14526   15842  B007TJGZ5E  A3UOYYQS5Z47MS             David A. Levin \"DaveL\"   \n",
       "15069   16426  B007TJGZ54  A29BJSTYH9W3JI                              Harry   \n",
       "83618   91002  B001E5E470   AGADB4E6N1EDS     L. A. Stephenson \"Mom of four\"   \n",
       "85745   93367  B007TGDXMU   AAMUNRK134Y5P                          Tony Schy   \n",
       "85744   93366  B007TGDXMU   AGUBQN9M09VQ4                      Inger Jackson   \n",
       "85743   93365  B007TGDXMU   A9JMG87TELB6N                     Ludmila Newman   \n",
       "84914   92421  B007TGDXMK  A1BSGNCHEI1PJI     Kelly Bowser \"Runs W Scissors\"   \n",
       "14300   15605  B000255OIG   AUINI96NMGXUI                            Kkrys23   \n",
       "14299   15604  B000255OIG  A3SSEJ8IEM4YGW                            Seagaul   \n",
       "\n",
       "       HelpfulnessNumerator  HelpfulnessDenominator  Score        Time  \\\n",
       "5259                      0                       0      1  1351209600   \n",
       "1005                      0                       0      1  1351209600   \n",
       "63160                     0                       0      1  1351209600   \n",
       "9513                      0                       0      1  1351209600   \n",
       "86066                     0                       0      1  1351209600   \n",
       "30235                     0                       0      1  1351209600   \n",
       "96778                     0                       0      1  1351209600   \n",
       "96779                     0                       0      0  1351209600   \n",
       "39050                     0                       0      1  1351209600   \n",
       "5472                      0                       0      1  1351209600   \n",
       "24496                     0                       0      0  1351209600   \n",
       "52220                     0                       0      1  1351209600   \n",
       "6548                      0                       0      1  1351209600   \n",
       "89213                     0                       0      1  1351209600   \n",
       "96263                     0                       0      1  1351209600   \n",
       "43703                     0                       0      1  1351209600   \n",
       "51204                     0                       0      0  1351209600   \n",
       "22401                     0                       0      0  1351209600   \n",
       "30998                     0                       0      0  1351209600   \n",
       "32585                     0                       0      1  1351209600   \n",
       "76059                     0                       0      1  1351209600   \n",
       "29158                     0                       0      1  1351209600   \n",
       "16026                     0                       0      1  1351209600   \n",
       "41621                     0                       0      1  1351209600   \n",
       "7156                      0                       0      0  1351209600   \n",
       "55100                     0                       0      1  1351209600   \n",
       "87501                     0                       0      1  1351209600   \n",
       "78715                     0                       0      1  1351209600   \n",
       "50708                     0                       0      1  1351209600   \n",
       "25112                     0                       0      1  1351209600   \n",
       "7620                      0                       0      1  1351209600   \n",
       "13539                     0                       0      1  1351209600   \n",
       "19181                     0                       0      1  1351209600   \n",
       "9                         0                       0      1  1351209600   \n",
       "55731                     0                       0      1  1351209600   \n",
       "66057                     0                       0      1  1351209600   \n",
       "67928                     0                       0      0  1351209600   \n",
       "82885                     0                       0      1  1351209600   \n",
       "82884                     0                       0      1  1351209600   \n",
       "43268                     0                       0      1  1351209600   \n",
       "42269                     0                       0      1  1351209600   \n",
       "14526                     0                       0      1  1351209600   \n",
       "15069                     0                       0      1  1351209600   \n",
       "83618                     0                       0      1  1351209600   \n",
       "85745                     0                       0      1  1351209600   \n",
       "85744                     0                       0      0  1351209600   \n",
       "85743                     0                       0      1  1351209600   \n",
       "84914                     0                       0      1  1351209600   \n",
       "14300                     0                       0      1  1351209600   \n",
       "14299                     0                       0      1  1351209600   \n",
       "\n",
       "                                                 Summary  \\\n",
       "5259                                           DELICIOUS   \n",
       "1005                                      It is awesome.   \n",
       "63160                                           WOW.....   \n",
       "9513                          Hidden Springs Maple syrup   \n",
       "86066            My dog enjoys it and it helps her hips.   \n",
       "30235                       Great results but they stink   \n",
       "96778                                    Gluten Free Kid   \n",
       "96779                                       Disappointed   \n",
       "39050                         ZipFizz liquid energy shot   \n",
       "5472                                    The perfect pop!   \n",
       "24496                                       Buyer beware   \n",
       "52220                                 Great for HS lunch   \n",
       "6548                                          Delicious!   \n",
       "89213                                  Yummy and Healthy   \n",
       "96263                         Licorice Scottie Dogs, Red   \n",
       "43703                              Sleeping a lot better   \n",
       "51204     Yuk! And who goes to Amazon to buy cereal?????   \n",
       "22401                                    bad tasting tea   \n",
       "30998                                      A bit weak...   \n",
       "32585                                        Great Treat   \n",
       "76059                              Nice traditional chai   \n",
       "29158                                          Delicious   \n",
       "16026          Full- bodied without a bitter after-taste   \n",
       "41621                             Great Swedish Pastries   \n",
       "7156                                Don't like the taste   \n",
       "55100  Butler's chocolate is the real deal direct fro...   \n",
       "87501                                 Metromint or Bust!   \n",
       "78715                       5 Star Tea at a super price!   \n",
       "50708                                           Not bad.   \n",
       "25112                                          Drink mix   \n",
       "7620                   Rodeo Drive is Crazy Good Coffee!   \n",
       "13539                                          GREAT TEA   \n",
       "19181                                     Yummy & Subtle   \n",
       "9                                       Healthy Dog Food   \n",
       "55731                                           Excelent   \n",
       "66057                                   Fabulous Shampoo   \n",
       "67928                                          Hint Fizz   \n",
       "82885                                        I love this   \n",
       "82884                                           Love it.   \n",
       "43268                                        Great food!   \n",
       "42269                                    Great Irish Tea   \n",
       "14526                                     Morning Coffee   \n",
       "15069                                       super coffee   \n",
       "83618                              Help for a Lousy Cook   \n",
       "85745                                       Very pleased   \n",
       "85744                                Not what I expected   \n",
       "85743                             Best coffee I ever had   \n",
       "84914                             Very Nice Medium Roast   \n",
       "14300                                   Love this faucet   \n",
       "14299                                      Dogs love it.   \n",
       "\n",
       "                                                    Text  \\\n",
       "5259   Purchased this product at a local store in NY ...   \n",
       "1005   My partner is very happy with the tea, and is ...   \n",
       "63160  This chocolate is amazing..I love the taste an...   \n",
       "9513   This is one of the very finest maple syrups I ...   \n",
       "86066  My dog was diagnosed with hip dysplasia as a 6...   \n",
       "30235  We originally purchased these chews from our v...   \n",
       "96778  We LOVE Lucy's cookies!  The Maple Bliss are w...   \n",
       "96779  I have not been able to find the Maple flavor ...   \n",
       "39050  Have used this for years.  Gives long lasting ...   \n",
       "5472   These lollipops are are well done, look exactl...   \n",
       "24496  Nespresso makes GREAT coffee and GREAT machine...   \n",
       "52220  Great for HS lunch, kid enjoy as a snack also,...   \n",
       "6548   I have ordered these raisins multiple times.  ...   \n",
       "89213  Loved the cranberry-like flavor and slightly c...   \n",
       "96263  I love the Gimbals Red Licorice Scottie dogs I...   \n",
       "43703  Hubby and I (both 63) have been drinking about...   \n",
       "51204  This stuff tasted like (insert favorite negati...   \n",
       "22401  We drink a lot of tea... from all over the wor...   \n",
       "30998  The coffee \"Blend\" is really lean on Kona and ...   \n",
       "32585  My cats love these. They are very hard to find...   \n",
       "76059  I got hooked on this chai when I decided to gi...   \n",
       "29158  Individually packaged assorted rice crackers a...   \n",
       "16026  This is my everyday coffee choice...a good all...   \n",
       "41621  Svenhard's varity pack pastries are great.  In...   \n",
       "7156   I do not like sour taste and this has a sour k...   \n",
       "55100  Nifty hot chocolate discs added to your warm m...   \n",
       "87501  Chilled Oragemint is a classic refreshment for...   \n",
       "78715  This tea is very good and perfect for the pric...   \n",
       "50708  These are small and very salty. The taste is g...   \n",
       "25112  We love this drink mix it taste delicious and ...   \n",
       "7620   Rodeo Drive is my absolute favorite and I'm re...   \n",
       "13539  Rooibos Natural Red tea is something of a pers...   \n",
       "19181  Just made my first pot of this wonderful coffe...   \n",
       "9      This is a very healthy dog food. Good for thei...   \n",
       "55731  Good price, flavor, fast delivery And good pre...   \n",
       "66057  The name says it all- Clear Scalp and Hair  - ...   \n",
       "67928  I love hint water so when I saw they offered h...   \n",
       "82885  It's is in my opinion the best coconut water o...   \n",
       "82884  I love this but think its a little to expensiv...   \n",
       "43268  I wanted a food for a a dog with skin problems...   \n",
       "42269  We recently returned from a wonderful three we...   \n",
       "14526  Great coffee at a good price. I'm a subscripti...   \n",
       "15069  Great coffee and so easy to brew.  This coffee...   \n",
       "83618  I'm a lousy cook and I know it.  However, when...   \n",
       "85745  Good price, good quality with convenience.  Fu...   \n",
       "85744  First of all the \"k-cups\" were weird and the t...   \n",
       "85743  This is the best coffee I have ever had. I hav...   \n",
       "84914  This coffee has the best aroma!  Great medium ...   \n",
       "14300  Love this faucet.  My husband had installed th...   \n",
       "14299  This is the \"all gone\" treat after dinner.  It...   \n",
       "\n",
       "                                             Review_Text  \n",
       "5259   purchased product local store ny kids love qui...  \n",
       "1005   partner happy tea feeling much better since st...  \n",
       "63160  chocolate amazing love taste smell chocolate f...  \n",
       "9513   one finest maple syrups ordered enjoyed bought...  \n",
       "86066  dog diagnosed hip dysplasia old puppy vet said...  \n",
       "30235  originally purchased chews veterinarian decide...  \n",
       "96778  love lucy cookies maple bliss wonderful bad ha...  \n",
       "96779  not able find maple flavor cookies area anywhe...  \n",
       "39050  used years gives long lasting energy boost no ...  \n",
       "5472   lollipops well done look exactly like picture ...  \n",
       "24496  nespresso makes great coffee great machines sw...  \n",
       "52220  great hs lunch kid enjoy snack also buy salted...  \n",
       "6548   ordered raisins multiple times always great ar...  \n",
       "89213  loved cranberry like flavor slightly crunchy t...  \n",
       "96263  love gimbals red licorice scottie dogs purchas...  \n",
       "43703  hubby drinking oz night months found falling d...  \n",
       "51204  stuff tasted like insert favorite negative adj...  \n",
       "22401  drink lot tea world far worst tasting tea purc...  \n",
       "30998  coffee blend really lean kona really fat fill ...  \n",
       "32585  cats love hard find anywhere used available pe...  \n",
       "76059  got hooked chai decided give coffee still litt...  \n",
       "29158  individually packaged assorted rice crackers r...  \n",
       "16026  everyday coffee choice good around crowd pleas...  \n",
       "41621  svenhard varity pack pastries great individual...  \n",
       "7156   not like sour taste sour kind taste not like s...  \n",
       "55100  nifty hot chocolate discs added warm milk milk...  \n",
       "87501  chilled oragemint classic refreshment dry scra...  \n",
       "78715  tea good perfect price not go wrong product mu...  \n",
       "50708  small salty taste good strong good thing packa...  \n",
       "25112  love drink mix taste delicious impossible yo f...  \n",
       "7620   rodeo drive absolute favorite ready order find...  \n",
       "13539  rooibos natural red tea something personal tas...  \n",
       "19181  made first pot wonderful coffee simply delish ...  \n",
       "9      healthy dog food good digestion also good smal...  \n",
       "55731  good price flavor fast delivery good presentat...  \n",
       "66057  name says clear scalp hair leaves hair clear p...  \n",
       "67928  love hint water saw offered hint fizz try wors...  \n",
       "82885  opinion best coconut water especially since no...  \n",
       "82884  love think little expensive everyday use refre...  \n",
       "43268  wanted food dog skin problems skin greatly imp...  \n",
       "42269  recently returned wonderful three week excursi...  \n",
       "14526  great coffee good price subscription buyer buy...  \n",
       "15069  great coffee easy brew coffee great aroma good...  \n",
       "83618  lousy cook know however kids grind little garl...  \n",
       "85745  good price good quality convenience fully met ...  \n",
       "85744  first k cups weird taste not thought would not...  \n",
       "85743  best coffee ever keurig coffee maker several y...  \n",
       "84914  coffee best aroma great medium taste replaced ...  \n",
       "14300  love faucet husband installed one old house cu...  \n",
       "14299  gone treat dinner treat dogs work run chance l...  "
      ]
     },
     "execution_count": 17,
     "metadata": {},
     "output_type": "execute_result"
    }
   ],
   "source": [
    "final.head(50)"
   ]
  },
  {
   "cell_type": "code",
   "execution_count": 18,
   "metadata": {},
   "outputs": [],
   "source": [
    "# Dropping unnecessary columns and keeping only Review_Text and Score Columns\n",
    "\n",
    "final_df=final[['Review_Text','Score']]"
   ]
  },
  {
   "cell_type": "code",
   "execution_count": 19,
   "metadata": {},
   "outputs": [
    {
     "data": {
      "text/html": [
       "<div>\n",
       "<style scoped>\n",
       "    .dataframe tbody tr th:only-of-type {\n",
       "        vertical-align: middle;\n",
       "    }\n",
       "\n",
       "    .dataframe tbody tr th {\n",
       "        vertical-align: top;\n",
       "    }\n",
       "\n",
       "    .dataframe thead th {\n",
       "        text-align: right;\n",
       "    }\n",
       "</style>\n",
       "<table border=\"1\" class=\"dataframe\">\n",
       "  <thead>\n",
       "    <tr style=\"text-align: right;\">\n",
       "      <th></th>\n",
       "      <th>Review_Text</th>\n",
       "      <th>Score</th>\n",
       "    </tr>\n",
       "  </thead>\n",
       "  <tbody>\n",
       "    <tr>\n",
       "      <th>5259</th>\n",
       "      <td>purchased product local store ny kids love qui...</td>\n",
       "      <td>1</td>\n",
       "    </tr>\n",
       "    <tr>\n",
       "      <th>1005</th>\n",
       "      <td>partner happy tea feeling much better since st...</td>\n",
       "      <td>1</td>\n",
       "    </tr>\n",
       "    <tr>\n",
       "      <th>63160</th>\n",
       "      <td>chocolate amazing love taste smell chocolate f...</td>\n",
       "      <td>1</td>\n",
       "    </tr>\n",
       "    <tr>\n",
       "      <th>9513</th>\n",
       "      <td>one finest maple syrups ordered enjoyed bought...</td>\n",
       "      <td>1</td>\n",
       "    </tr>\n",
       "    <tr>\n",
       "      <th>86066</th>\n",
       "      <td>dog diagnosed hip dysplasia old puppy vet said...</td>\n",
       "      <td>1</td>\n",
       "    </tr>\n",
       "  </tbody>\n",
       "</table>\n",
       "</div>"
      ],
      "text/plain": [
       "                                             Review_Text  Score\n",
       "5259   purchased product local store ny kids love qui...      1\n",
       "1005   partner happy tea feeling much better since st...      1\n",
       "63160  chocolate amazing love taste smell chocolate f...      1\n",
       "9513   one finest maple syrups ordered enjoyed bought...      1\n",
       "86066  dog diagnosed hip dysplasia old puppy vet said...      1"
      ]
     },
     "execution_count": 19,
     "metadata": {},
     "output_type": "execute_result"
    }
   ],
   "source": [
    "final_df.head()"
   ]
  },
  {
   "cell_type": "code",
   "execution_count": 20,
   "metadata": {},
   "outputs": [
    {
     "data": {
      "text/plain": [
       "(87773, 2)"
      ]
     },
     "execution_count": 20,
     "metadata": {},
     "output_type": "execute_result"
    }
   ],
   "source": [
    "final_df.shape"
   ]
  },
  {
   "cell_type": "code",
   "execution_count": 21,
   "metadata": {},
   "outputs": [],
   "source": [
    "#Splitting the data into Features and Labels\n",
    "\n",
    "X=final_df['Review_Text'].values\n",
    "y=final_df['Score'].values"
   ]
  },
  {
   "cell_type": "code",
   "execution_count": 22,
   "metadata": {},
   "outputs": [],
   "source": [
    "# Splitting the data into Training and Testing\n",
    "\n",
    "from sklearn.model_selection import train_test_split\n",
    "\n",
    "X_train, X_test, y_train, y_test= train_test_split(X, y,test_size=0.20,random_state=3,shuffle=False) \n",
    "X_train, X_cv, y_train, y_cv= train_test_split(X_train, y_train, test_size=0.20,random_state=3,shuffle=False) "
   ]
  },
  {
   "cell_type": "code",
   "execution_count": 23,
   "metadata": {},
   "outputs": [
    {
     "name": "stdout",
     "output_type": "stream",
     "text": [
      "(56174,) (56174,)\n",
      "(14044,) (14044,)\n",
      "(17555,) (17555,)\n"
     ]
    }
   ],
   "source": [
    "# Shape of the Training and Test data\n",
    "\n",
    "print(X_train.shape, y_train.shape)\n",
    "print(X_cv.shape, y_cv.shape)\n",
    "print(X_test.shape, y_test.shape)\n",
    "\n"
   ]
  },
  {
   "cell_type": "code",
   "execution_count": 24,
   "metadata": {},
   "outputs": [
    {
     "name": "stdout",
     "output_type": "stream",
     "text": [
      "After vectorizations\n",
      "(56174, 43903) (56174,)\n",
      "(14044, 43903) (14044,)\n",
      "(17555, 43903) (17555,)\n"
     ]
    }
   ],
   "source": [
    "# Converting to BOW\n",
    "\n",
    "from sklearn.feature_extraction.text import CountVectorizer\n",
    "vectorizer = CountVectorizer()\n",
    "vectorizer.fit(X_train) # fit has to happen only on train data\n",
    "\n",
    "# we use the fitted CountVectorizer to convert the text to vector\n",
    "X_train_bow = vectorizer.transform(X_train)\n",
    "X_cv_bow = vectorizer.transform(X_cv)\n",
    "X_test_bow = vectorizer.transform(X_test)\n",
    "\n",
    "print(\"After vectorizations\")\n",
    "print(X_train_bow.shape, y_train.shape)\n",
    "print(X_cv_bow.shape, y_cv.shape)\n",
    "print(X_test_bow.shape, y_test.shape)"
   ]
  },
  {
   "cell_type": "markdown",
   "metadata": {},
   "source": [
    "## Hyperparameter tuning to find best \"depth\" and 'min_samples_split\"' using RandomizedSearchCV"
   ]
  },
  {
   "cell_type": "code",
   "execution_count": 53,
   "metadata": {},
   "outputs": [],
   "source": [
    "from sklearn.model_selection import RandomizedSearchCV\n",
    "# Assigning values to the parameters\n",
    "depth=[1, 5, 10, 50, 100, 500, 1000]\n",
    "min_samples_split=[5, 10, 100, 500]\n",
    "params_grid=dict(max_depth=depth,min_samples_split=min_samples_split)"
   ]
  },
  {
   "cell_type": "code",
   "execution_count": 54,
   "metadata": {},
   "outputs": [
    {
     "data": {
      "text/plain": [
       "{'max_depth': [1, 5, 10, 50, 100, 500, 1000],\n",
       " 'min_samples_split': [5, 10, 100, 500]}"
      ]
     },
     "execution_count": 54,
     "metadata": {},
     "output_type": "execute_result"
    }
   ],
   "source": [
    "params_grid"
   ]
  },
  {
   "cell_type": "code",
   "execution_count": 55,
   "metadata": {},
   "outputs": [],
   "source": [
    "# Estimator\n",
    "\n",
    "from sklearn.tree import DecisionTreeClassifier\n",
    "DT=DecisionTreeClassifier(class_weight='balanced',random_state=3)"
   ]
  },
  {
   "cell_type": "code",
   "execution_count": 56,
   "metadata": {},
   "outputs": [
    {
     "data": {
      "text/plain": [
       "RandomizedSearchCV(cv=5, error_score='raise-deprecating',\n",
       "                   estimator=DecisionTreeClassifier(class_weight='balanced',\n",
       "                                                    criterion='gini',\n",
       "                                                    max_depth=None,\n",
       "                                                    max_features=None,\n",
       "                                                    max_leaf_nodes=None,\n",
       "                                                    min_impurity_decrease=0.0,\n",
       "                                                    min_impurity_split=None,\n",
       "                                                    min_samples_leaf=1,\n",
       "                                                    min_samples_split=2,\n",
       "                                                    min_weight_fraction_leaf=0.0,\n",
       "                                                    presort=False,\n",
       "                                                    random_state=3,\n",
       "                                                    splitter='best'),\n",
       "                   iid='warn', n_iter=30, n_jobs=-1,\n",
       "                   param_distributions={'max_depth': [1, 5, 10, 50, 100, 500,\n",
       "                                                      1000],\n",
       "                                        'min_samples_split': [5, 10, 100, 500]},\n",
       "                   pre_dispatch='2*n_jobs', random_state=None, refit=True,\n",
       "                   return_train_score=False, scoring='roc_auc', verbose=0)"
      ]
     },
     "execution_count": 56,
     "metadata": {},
     "output_type": "execute_result"
    }
   ],
   "source": [
    "# Building RandomizedsSearchCV\n",
    "\n",
    "DT_RandomCV=RandomizedSearchCV(DT,params_grid,cv=5,n_iter=30,scoring='roc_auc',n_jobs=-1)\n",
    "DT_RandomCV.fit(X_train_bow,y_train)"
   ]
  },
  {
   "cell_type": "code",
   "execution_count": 57,
   "metadata": {},
   "outputs": [
    {
     "data": {
      "text/plain": [
       "{'min_samples_split': 500, 'max_depth': 50}"
      ]
     },
     "execution_count": 57,
     "metadata": {},
     "output_type": "execute_result"
    }
   ],
   "source": [
    "# Finding best parameters\n",
    "DT_RandomCV.best_params_"
   ]
  },
  {
   "cell_type": "markdown",
   "metadata": {},
   "source": [
    "## Building Decision Tree using best the parameters"
   ]
  },
  {
   "cell_type": "code",
   "execution_count": 58,
   "metadata": {},
   "outputs": [
    {
     "data": {
      "image/png": "[encoded data removed]",
      "text/plain": [
       "<Figure size 432x288 with 1 Axes>"
      ]
     },
     "metadata": {},
     "output_type": "display_data"
    }
   ],
   "source": [
    "from sklearn.tree import DecisionTreeClassifier\n",
    "DT=DecisionTreeClassifier(max_depth=50,min_samples_split=500,class_weight='balanced',random_state=2)\n",
    "DT.fit(X_train_bow,y_train)\n",
    "\n",
    "# roc_auc_score(y_true, y_score) the 2nd parameter should be probability estimates of the positive class\n",
    "# not the predicted outputs\n",
    "\n",
    "y_train_pred =  DT.predict_proba(X_train_bow)[:,1]\n",
    "y_cv_pred =  DT.predict_proba(X_cv_bow)[:,1]\n",
    "y_test_pred=DT.predict_proba(X_test_bow)[:,1]\n",
    "\n",
    "train_fpr, train_tpr, thresholds_tr = roc_curve(y_train, DT.predict_proba(X_train_bow)[:,1])\n",
    "test_fpr, test_tpr, thresholds_te = roc_curve(y_test, DT.predict_proba(X_test_bow)[:,1])\n",
    "\n",
    "plt.plot(train_fpr, train_tpr, label=\"train AUC =\"+str(auc(train_fpr, train_tpr)))\n",
    "plt.plot(test_fpr, test_tpr, label=\"test AUC =\"+str(auc(test_fpr, test_tpr)))\n",
    "plt.plot([0, 1], [0, 1],'r--')\n",
    "plt.xlim([0,1])\n",
    "plt.ylim([0,1])\n",
    "plt.legend()\n",
    "plt.xlabel(\"False Positive Rate(FPR)\")\n",
    "plt.ylabel(\"True Positive Rate(TPR)\")\n",
    "plt.title(\"Receiver Operating Characteristic Curves(ROC)\")\n",
    "plt.show()\n",
    "\n"
   ]
  },
  {
   "cell_type": "markdown",
   "metadata": {},
   "source": [
    "## Plotting Confusion matrix using seaborn"
   ]
  },
  {
   "cell_type": "code",
   "execution_count": 59,
   "metadata": {},
   "outputs": [],
   "source": [
    "# we are writing our own function to predict, with defined thresould\n",
    "# we will pick a threshold that will give the least fpr\n",
    "\n",
    "def find_best_threshold(threshould, fpr, tpr):\n",
    "    t = threshould[np.argmax(tpr*(1-fpr))]\n",
    "    # (tpr*(1-fpr)) will be maximum if your fpr is very low and tpr is very high\n",
    "    print(\"The maximum value of tpr*(1-fpr)\", max(tpr*(1-fpr)), \"for threshold\", np.round(t,3))\n",
    "    print()\n",
    "    return t\n",
    "\n",
    "def predict_with_best_t(proba, threshould):\n",
    "    predictions = []\n",
    "    for i in proba:\n",
    "        if i>=threshould:\n",
    "            predictions.append(1)\n",
    "        else:\n",
    "            predictions.append(0)\n",
    "    return predictions"
   ]
  },
  {
   "cell_type": "code",
   "execution_count": 60,
   "metadata": {},
   "outputs": [
    {
     "name": "stdout",
     "output_type": "stream",
     "text": [
      "\n",
      "The maximum value of tpr*(1-fpr) 0.6746349349198928 for threshold 0.49\n",
      "\n",
      "Train confusion matrix:\n",
      "\n",
      "[[ 8398  1425]\n",
      " [ 9775 36576]]\n",
      "\n",
      "Test confusion matrix:\n",
      "\n",
      "[[ 1525   642]\n",
      " [ 3411 11977]]\n"
     ]
    }
   ],
   "source": [
    "\n",
    "print()\n",
    "from sklearn.metrics import confusion_matrix\n",
    "best_t = find_best_threshold(thresholds_tr, train_fpr, train_tpr)\n",
    "print(\"Train confusion matrix:\")\n",
    "print()\n",
    "print(confusion_matrix(y_train, predict_with_best_t(y_train_pred, best_t)))\n",
    "print()\n",
    "print(\"Test confusion matrix:\")\n",
    "print()\n",
    "print(confusion_matrix(y_test, predict_with_best_t(y_test_pred, best_t)))"
   ]
  },
  {
   "cell_type": "code",
   "execution_count": 61,
   "metadata": {},
   "outputs": [],
   "source": [
    "Train_Confusion_Matrix=confusion_matrix(y_train, predict_with_best_t(y_train_pred, best_t))\n",
    "Test_Confusion_Matrix=confusion_matrix(y_test, predict_with_best_t(y_test_pred, best_t))\n",
    "df_Train=pd.DataFrame(Train_Confusion_Matrix,columns=np.unique(y_train), index = np.unique(y_train))\n",
    "df_Test=pd.DataFrame(Test_Confusion_Matrix,columns=np.unique(y_test), index = np.unique(y_test))\n",
    "df_Train.index.name = 'Actual'\n",
    "df_Train.columns.name = 'Predicted'\n",
    "df_Test.index.name = 'Actual'\n",
    "df_Test.columns.name = 'Predicted'\n"
   ]
  },
  {
   "cell_type": "code",
   "execution_count": 62,
   "metadata": {},
   "outputs": [
    {
     "data": {
      "text/plain": [
       "Text(0.5, 1, 'Train Confusion Matrix')"
      ]
     },
     "execution_count": 62,
     "metadata": {},
     "output_type": "execute_result"
    },
    {
     "data": {
      "image/png": "[encoded data removed]",
      "text/plain": [
       "<Figure size 504x288 with 2 Axes>"
      ]
     },
     "metadata": {},
     "output_type": "display_data"
    }
   ],
   "source": [
    "plt.figure(figsize = (7,4))\n",
    "sns.set(font_scale=1)#for label size\n",
    "sns.heatmap(df_Train, cmap=\"Blues\", annot=True,fmt='2d')\n",
    "plt.title(\"Train Confusion Matrix\")"
   ]
  },
  {
   "cell_type": "code",
   "execution_count": 63,
   "metadata": {},
   "outputs": [
    {
     "data": {
      "text/plain": [
       "Text(0.5, 1, 'Test Confusion Matrix')"
      ]
     },
     "execution_count": 63,
     "metadata": {},
     "output_type": "execute_result"
    },
    {
     "data": {
      "image/png": "[encoded data removed]",
      "text/plain": [
       "<Figure size 504x288 with 2 Axes>"
      ]
     },
     "metadata": {},
     "output_type": "display_data"
    }
   ],
   "source": [
    "plt.figure(figsize = (7,4))\n",
    "sns.set(font_scale=1)#for label size\n",
    "sns.heatmap(df_Test, cmap=\"Blues\", annot=True,fmt='2d')\n",
    "plt.title(\"Test Confusion Matrix\")"
   ]
  },
  {
   "cell_type": "markdown",
   "metadata": {
    "colab_type": "text",
    "id": "jm4vkPwMiWOu"
   },
   "source": [
    "### Top 20 important features "
   ]
  },
  {
   "cell_type": "code",
   "execution_count": 64,
   "metadata": {
    "colab": {},
    "colab_type": "code",
    "id": "puCcjOAkiWOv"
   },
   "outputs": [],
   "source": [
    "features=DT.feature_importances_"
   ]
  },
  {
   "cell_type": "code",
   "execution_count": 65,
   "metadata": {},
   "outputs": [
    {
     "data": {
      "text/plain": [
       "array([0., 0., 0., ..., 0., 0., 0.])"
      ]
     },
     "execution_count": 65,
     "metadata": {},
     "output_type": "execute_result"
    }
   ],
   "source": [
    "features"
   ]
  },
  {
   "cell_type": "code",
   "execution_count": 66,
   "metadata": {},
   "outputs": [
    {
     "data": {
      "text/plain": [
       "43903"
      ]
     },
     "execution_count": 66,
     "metadata": {},
     "output_type": "execute_result"
    }
   ],
   "source": [
    "len(features)"
   ]
  },
  {
   "cell_type": "code",
   "execution_count": 67,
   "metadata": {},
   "outputs": [
    {
     "data": {
      "text/plain": [
       "array([    0, 29177, 29178, ...,  9975, 16694, 25849], dtype=int64)"
      ]
     },
     "execution_count": 67,
     "metadata": {},
     "output_type": "execute_result"
    }
   ],
   "source": [
    "Top20_features=features.argsort()\n",
    "Top20_features"
   ]
  },
  {
   "cell_type": "code",
   "execution_count": 68,
   "metadata": {},
   "outputs": [
    {
     "data": {
      "text/plain": [
       "array([11948, 24510, 40828, 39151, 43217,  2604, 43097,  2727, 13153,\n",
       "       13843, 25568, 22456, 16353, 28181, 22440, 10787,  3545,  9975,\n",
       "       16694, 25849], dtype=int64)"
      ]
     },
     "execution_count": 68,
     "metadata": {},
     "output_type": "execute_result"
    }
   ],
   "source": [
    "#Finding top 20 features of Positive Class\n",
    "Top20_features=Top20_features[-20:]\n",
    "Top20_features"
   ]
  },
  {
   "cell_type": "code",
   "execution_count": 69,
   "metadata": {},
   "outputs": [
    {
     "name": "stdout",
     "output_type": "stream",
     "text": [
      "['easy' 'money' 'unfortunately' 'thought' 'worst' 'awful' 'wonderful'\n",
      " 'bad' 'excellent' 'favorite' 'nice' 'loves' 'good' 'perfect' 'love'\n",
      " 'disappointed' 'best' 'delicious' 'great' 'not']\n"
     ]
    }
   ],
   "source": [
    "# printing the top 20 positive feature names\n",
    "\n",
    "print(np.take(vectorizer.get_feature_names(),Top20_features))"
   ]
  },
  {
   "cell_type": "code",
   "execution_count": 70,
   "metadata": {},
   "outputs": [],
   "source": [
    "Top20_features_Names=np.take(vectorizer.get_feature_names(),Top20_features)"
   ]
  },
  {
   "cell_type": "code",
   "execution_count": 71,
   "metadata": {},
   "outputs": [],
   "source": [
    "# Creating a dataframe for the top 20 features\n",
    "\n",
    "Top20_features=pd.DataFrame(Top20_features,columns=['Indices'])\n",
    "Top20_features=Top20_features.sort_values(by='Indices',ascending=True)"
   ]
  },
  {
   "cell_type": "code",
   "execution_count": 72,
   "metadata": {},
   "outputs": [],
   "source": [
    "Top20_features=Top20_features.head(20)"
   ]
  },
  {
   "cell_type": "code",
   "execution_count": 73,
   "metadata": {},
   "outputs": [],
   "source": [
    "Top20_features['feature_names']=Top20_features_Names"
   ]
  },
  {
   "cell_type": "code",
   "execution_count": 74,
   "metadata": {},
   "outputs": [
    {
     "data": {
      "text/html": [
       "<div>\n",
       "<style scoped>\n",
       "    .dataframe tbody tr th:only-of-type {\n",
       "        vertical-align: middle;\n",
       "    }\n",
       "\n",
       "    .dataframe tbody tr th {\n",
       "        vertical-align: top;\n",
       "    }\n",
       "\n",
       "    .dataframe thead th {\n",
       "        text-align: right;\n",
       "    }\n",
       "</style>\n",
       "<table border=\"1\" class=\"dataframe\">\n",
       "  <thead>\n",
       "    <tr style=\"text-align: right;\">\n",
       "      <th></th>\n",
       "      <th>Indices</th>\n",
       "      <th>feature_names</th>\n",
       "    </tr>\n",
       "  </thead>\n",
       "  <tbody>\n",
       "    <tr>\n",
       "      <th>5</th>\n",
       "      <td>2604</td>\n",
       "      <td>easy</td>\n",
       "    </tr>\n",
       "    <tr>\n",
       "      <th>7</th>\n",
       "      <td>2727</td>\n",
       "      <td>money</td>\n",
       "    </tr>\n",
       "    <tr>\n",
       "      <th>16</th>\n",
       "      <td>3545</td>\n",
       "      <td>unfortunately</td>\n",
       "    </tr>\n",
       "    <tr>\n",
       "      <th>17</th>\n",
       "      <td>9975</td>\n",
       "      <td>thought</td>\n",
       "    </tr>\n",
       "    <tr>\n",
       "      <th>15</th>\n",
       "      <td>10787</td>\n",
       "      <td>worst</td>\n",
       "    </tr>\n",
       "    <tr>\n",
       "      <th>0</th>\n",
       "      <td>11948</td>\n",
       "      <td>awful</td>\n",
       "    </tr>\n",
       "    <tr>\n",
       "      <th>8</th>\n",
       "      <td>13153</td>\n",
       "      <td>wonderful</td>\n",
       "    </tr>\n",
       "    <tr>\n",
       "      <th>9</th>\n",
       "      <td>13843</td>\n",
       "      <td>bad</td>\n",
       "    </tr>\n",
       "    <tr>\n",
       "      <th>12</th>\n",
       "      <td>16353</td>\n",
       "      <td>excellent</td>\n",
       "    </tr>\n",
       "    <tr>\n",
       "      <th>18</th>\n",
       "      <td>16694</td>\n",
       "      <td>favorite</td>\n",
       "    </tr>\n",
       "    <tr>\n",
       "      <th>14</th>\n",
       "      <td>22440</td>\n",
       "      <td>nice</td>\n",
       "    </tr>\n",
       "    <tr>\n",
       "      <th>11</th>\n",
       "      <td>22456</td>\n",
       "      <td>loves</td>\n",
       "    </tr>\n",
       "    <tr>\n",
       "      <th>1</th>\n",
       "      <td>24510</td>\n",
       "      <td>good</td>\n",
       "    </tr>\n",
       "    <tr>\n",
       "      <th>10</th>\n",
       "      <td>25568</td>\n",
       "      <td>perfect</td>\n",
       "    </tr>\n",
       "    <tr>\n",
       "      <th>19</th>\n",
       "      <td>25849</td>\n",
       "      <td>love</td>\n",
       "    </tr>\n",
       "    <tr>\n",
       "      <th>13</th>\n",
       "      <td>28181</td>\n",
       "      <td>disappointed</td>\n",
       "    </tr>\n",
       "    <tr>\n",
       "      <th>3</th>\n",
       "      <td>39151</td>\n",
       "      <td>best</td>\n",
       "    </tr>\n",
       "    <tr>\n",
       "      <th>2</th>\n",
       "      <td>40828</td>\n",
       "      <td>delicious</td>\n",
       "    </tr>\n",
       "    <tr>\n",
       "      <th>6</th>\n",
       "      <td>43097</td>\n",
       "      <td>great</td>\n",
       "    </tr>\n",
       "    <tr>\n",
       "      <th>4</th>\n",
       "      <td>43217</td>\n",
       "      <td>not</td>\n",
       "    </tr>\n",
       "  </tbody>\n",
       "</table>\n",
       "</div>"
      ],
      "text/plain": [
       "    Indices  feature_names\n",
       "5      2604           easy\n",
       "7      2727          money\n",
       "16     3545  unfortunately\n",
       "17     9975        thought\n",
       "15    10787          worst\n",
       "0     11948          awful\n",
       "8     13153      wonderful\n",
       "9     13843            bad\n",
       "12    16353      excellent\n",
       "18    16694       favorite\n",
       "14    22440           nice\n",
       "11    22456          loves\n",
       "1     24510           good\n",
       "10    25568        perfect\n",
       "19    25849           love\n",
       "13    28181   disappointed\n",
       "3     39151           best\n",
       "2     40828      delicious\n",
       "6     43097          great\n",
       "4     43217            not"
      ]
     },
     "execution_count": 74,
     "metadata": {},
     "output_type": "execute_result"
    }
   ],
   "source": [
    "Top20_features"
   ]
  },
  {
   "cell_type": "code",
   "execution_count": 75,
   "metadata": {},
   "outputs": [],
   "source": [
    "All_features=vectorizer.get_feature_names()"
   ]
  },
  {
   "cell_type": "markdown",
   "metadata": {
    "colab_type": "text",
    "id": "7JyitDTTiWOx"
   },
   "source": [
    "###  Graphviz visualization of Decision Tree on BOW"
   ]
  },
  {
   "cell_type": "code",
   "execution_count": 76,
   "metadata": {},
   "outputs": [],
   "source": [
    "from sklearn.tree import export_graphviz\n",
    "import pydotplus\n",
    "from IPython.display import Image\n",
    "import graphviz\n",
    "from sklearn import tree"
   ]
  },
  {
   "cell_type": "code",
   "execution_count": 78,
   "metadata": {},
   "outputs": [
    {
     "data": {
      "image/png": "[encoded data removed]",
      "text/plain": [
       "<IPython.core.display.Image object>"
      ]
     },
     "execution_count": 78,
     "metadata": {},
     "output_type": "execute_result"
    }
   ],
   "source": [
    "# Create DOT data\n",
    "dot_data =tree.export_graphviz(decision_tree=DT, out_file = None,max_depth=3, feature_names = All_features)\n",
    "\n",
    "# Draw graph\n",
    "graph = pydotplus.graph_from_dot_data(dot_data)  \n",
    "\n",
    "# Show graph\n",
    "Image(graph.create_png())\n",
    "\n"
   ]
  },
  {
   "cell_type": "code",
   "execution_count": 79,
   "metadata": {},
   "outputs": [
    {
     "data": {
      "text/plain": [
       "True"
      ]
     },
     "execution_count": 79,
     "metadata": {},
     "output_type": "execute_result"
    }
   ],
   "source": [
    "# Create png\n",
    "\n",
    "graph.write_png(\"graphviz_BOW.png\")"
   ]
  },
  {
   "cell_type": "markdown",
   "metadata": {
    "colab_type": "text",
    "id": "5przjMTbiWOz"
   },
   "source": [
    "## Applying Decision Trees on TFIDF"
   ]
  },
  {
   "cell_type": "code",
   "execution_count": 80,
   "metadata": {
    "colab": {},
    "colab_type": "code",
    "id": "Bm3mfI7miWOz"
   },
   "outputs": [
    {
     "name": "stdout",
     "output_type": "stream",
     "text": [
      "After vectorizations\n",
      "(56174, 500) (56174,)\n",
      "(14044, 500) (14044,)\n",
      "(17555, 500) (17555,)\n"
     ]
    }
   ],
   "source": [
    "tf_idf_vect = TfidfVectorizer(min_df=10,max_features=500,norm='l1')\n",
    "tf_idf_vect.fit(X_train) # fit has to happen only on train data\n",
    "\n",
    "# we use the fitted Tfidf vectorizer to convert the text to vector\n",
    "X_train_tfidf = tf_idf_vect.transform(X_train)\n",
    "X_cv_tfidf = tf_idf_vect.transform(X_cv)\n",
    "X_test_tfidf = tf_idf_vect.transform(X_test)\n",
    "\n",
    "print(\"After vectorizations\")\n",
    "print(X_train_tfidf.shape, y_train.shape)\n",
    "print(X_cv_tfidf.shape, y_cv.shape)\n",
    "print(X_test_tfidf.shape, y_test.shape)"
   ]
  },
  {
   "cell_type": "markdown",
   "metadata": {},
   "source": [
    "## Hyperparameter tuning to find best \"depth\" and 'min_samples_split\"' using RandomizedSearchCV"
   ]
  },
  {
   "cell_type": "code",
   "execution_count": 81,
   "metadata": {},
   "outputs": [],
   "source": [
    "from sklearn.model_selection import RandomizedSearchCV\n",
    "# Assigning values to the parameters\n",
    "depth=[1, 5, 10, 50, 100, 500, 1000]\n",
    "min_samples_split=[5, 10, 100, 500]\n",
    "params_grid=dict(max_depth=depth,min_samples_split=min_samples_split)"
   ]
  },
  {
   "cell_type": "code",
   "execution_count": 83,
   "metadata": {},
   "outputs": [],
   "source": [
    "# Estimator\n",
    "\n",
    "from sklearn.tree import DecisionTreeClassifier\n",
    "DT=DecisionTreeClassifier(class_weight='balanced',random_state=4)"
   ]
  },
  {
   "cell_type": "code",
   "execution_count": 84,
   "metadata": {},
   "outputs": [
    {
     "data": {
      "text/plain": [
       "RandomizedSearchCV(cv=5, error_score='raise-deprecating',\n",
       "                   estimator=DecisionTreeClassifier(class_weight='balanced',\n",
       "                                                    criterion='gini',\n",
       "                                                    max_depth=None,\n",
       "                                                    max_features=None,\n",
       "                                                    max_leaf_nodes=None,\n",
       "                                                    min_impurity_decrease=0.0,\n",
       "                                                    min_impurity_split=None,\n",
       "                                                    min_samples_leaf=1,\n",
       "                                                    min_samples_split=2,\n",
       "                                                    min_weight_fraction_leaf=0.0,\n",
       "                                                    presort=False,\n",
       "                                                    random_state=4,\n",
       "                                                    splitter='best'),\n",
       "                   iid='warn', n_iter=30, n_jobs=-1,\n",
       "                   param_distributions={'max_depth': [1, 5, 10, 50, 100, 500,\n",
       "                                                      1000],\n",
       "                                        'min_samples_split': [5, 10, 100, 500]},\n",
       "                   pre_dispatch='2*n_jobs', random_state=None, refit=True,\n",
       "                   return_train_score=False, scoring='roc_auc', verbose=0)"
      ]
     },
     "execution_count": 84,
     "metadata": {},
     "output_type": "execute_result"
    }
   ],
   "source": [
    "# Building RandomizedsSearchCV\n",
    "\n",
    "DT_RandomCV=RandomizedSearchCV(DT,params_grid,cv=5,n_iter=30,scoring='roc_auc',n_jobs=-1)\n",
    "DT_RandomCV.fit(X_train_tfidf,y_train)"
   ]
  },
  {
   "cell_type": "code",
   "execution_count": 85,
   "metadata": {},
   "outputs": [
    {
     "data": {
      "text/plain": [
       "{'min_samples_split': 500, 'max_depth': 50}"
      ]
     },
     "execution_count": 85,
     "metadata": {},
     "output_type": "execute_result"
    }
   ],
   "source": [
    "# Finding best parameters\n",
    "DT_RandomCV.best_params_"
   ]
  },
  {
   "cell_type": "markdown",
   "metadata": {},
   "source": [
    "## Building Decision Tree using best parameters"
   ]
  },
  {
   "cell_type": "code",
   "execution_count": 99,
   "metadata": {},
   "outputs": [
    {
     "data": {
      "image/png": "[encoded data removed]",
      "text/plain": [
       "<Figure size 432x288 with 1 Axes>"
      ]
     },
     "metadata": {},
     "output_type": "display_data"
    }
   ],
   "source": [
    "from sklearn.tree import DecisionTreeClassifier\n",
    "DT_tfidf=DecisionTreeClassifier(max_depth=50,min_samples_split=500,class_weight='balanced',random_state=4)\n",
    "DT_tfidf.fit(X_train_tfidf,y_train)\n",
    "\n",
    "# roc_auc_score(y_true, y_score) the 2nd parameter should be probability estimates of the positive class\n",
    "# not the predicted outputs\n",
    "\n",
    "y_train_pred =  DT_tfidf.predict_proba(X_train_tfidf)[:,1]\n",
    "y_cv_pred =  DT_tfidf.predict_proba(X_cv_tfidf)[:,1]\n",
    "y_test_pred=DT_tfidf.predict_proba(X_test_tfidf)[:,1]\n",
    "\n",
    "train_fpr, train_tpr, thresholds_tr_tfidf = roc_curve(y_train, DT_tfidf.predict_proba(X_train_tfidf)[:,1])\n",
    "test_fpr, test_tpr, thresholds_te_tfidf = roc_curve(y_test, DT_tfidf.predict_proba(X_test_tfidf)[:,1])\n",
    "\n",
    "plt.plot(train_fpr, train_tpr, label=\"train AUC =\"+str(auc(train_fpr, train_tpr)))\n",
    "plt.plot(test_fpr, test_tpr, label=\"test AUC =\"+str(auc(test_fpr, test_tpr)))\n",
    "plt.plot([0, 1], [0, 1],'r--')\n",
    "plt.xlim([0,1])\n",
    "plt.ylim([0,1])\n",
    "plt.legend()\n",
    "plt.xlabel(\"False Positive Rate(FPR)\")\n",
    "plt.ylabel(\"True Positive Rate(TPR)\")\n",
    "plt.title(\"Receiver Operating Characteristic Curves(ROC)\")\n",
    "plt.show()\n",
    "\n"
   ]
  },
  {
   "cell_type": "markdown",
   "metadata": {},
   "source": [
    "## Plotting Confusion Matrix using seaborn"
   ]
  },
  {
   "cell_type": "code",
   "execution_count": 100,
   "metadata": {},
   "outputs": [
    {
     "name": "stdout",
     "output_type": "stream",
     "text": [
      "\n",
      "The maximum value of tpr*(1-fpr) 0.6565105827220462 for threshold 0.488\n",
      "\n",
      "Train confusion matrix:\n",
      "\n",
      "[[ 8159  1664]\n",
      " [ 9715 36636]]\n",
      "\n",
      "Test confusion matrix:\n",
      "\n",
      "[[ 1457   710]\n",
      " [ 3474 11914]]\n"
     ]
    }
   ],
   "source": [
    "\n",
    "print()\n",
    "from sklearn.metrics import confusion_matrix\n",
    "best_t = find_best_threshold(thresholds_tr_tfidf, train_fpr, train_tpr)\n",
    "print(\"Train confusion matrix:\")\n",
    "print()\n",
    "print(confusion_matrix(y_train, predict_with_best_t(y_train_pred, best_t)))\n",
    "print()\n",
    "print(\"Test confusion matrix:\")\n",
    "print()\n",
    "print(confusion_matrix(y_test, predict_with_best_t(y_test_pred, best_t)))"
   ]
  },
  {
   "cell_type": "code",
   "execution_count": 101,
   "metadata": {},
   "outputs": [],
   "source": [
    "Train_Confusion_Matrix=confusion_matrix(y_train, predict_with_best_t(y_train_pred, best_t))\n",
    "Test_Confusion_Matrix=confusion_matrix(y_test, predict_with_best_t(y_test_pred, best_t))\n",
    "df_Train=pd.DataFrame(Train_Confusion_Matrix,columns=np.unique(y_train), index = np.unique(y_train))\n",
    "df_Test=pd.DataFrame(Test_Confusion_Matrix,columns=np.unique(y_test), index = np.unique(y_test))\n",
    "df_Train.index.name = 'Actual'\n",
    "df_Train.columns.name = 'Predicted'\n",
    "df_Test.index.name = 'Actual'\n",
    "df_Test.columns.name = 'Predicted'\n"
   ]
  },
  {
   "cell_type": "code",
   "execution_count": 102,
   "metadata": {},
   "outputs": [
    {
     "data": {
      "text/plain": [
       "Text(0.5, 1, 'Train Confusion Matrix')"
      ]
     },
     "execution_count": 102,
     "metadata": {},
     "output_type": "execute_result"
    },
    {
     "data": {
      "image/png": "[encoded data removed]",
      "text/plain": [
       "<Figure size 504x288 with 2 Axes>"
      ]
     },
     "metadata": {},
     "output_type": "display_data"
    }
   ],
   "source": [
    "plt.figure(figsize = (7,4))\n",
    "sns.set(font_scale=1)#for label size\n",
    "sns.heatmap(df_Train, cmap=\"Blues\", annot=True,fmt='2d')\n",
    "plt.title(\"Train Confusion Matrix\")"
   ]
  },
  {
   "cell_type": "code",
   "execution_count": 103,
   "metadata": {},
   "outputs": [
    {
     "data": {
      "text/plain": [
       "Text(0.5, 1, 'Test Confusion Matrix')"
      ]
     },
     "execution_count": 103,
     "metadata": {},
     "output_type": "execute_result"
    },
    {
     "data": {
      "image/png": "[encoded data removed]",
      "text/plain": [
       "<Figure size 504x288 with 2 Axes>"
      ]
     },
     "metadata": {},
     "output_type": "display_data"
    }
   ],
   "source": [
    "plt.figure(figsize = (7,4))\n",
    "sns.set(font_scale=1)#for label size\n",
    "sns.heatmap(df_Test, cmap=\"Blues\", annot=True,fmt='2d')\n",
    "plt.title(\"Test Confusion Matrix\")"
   ]
  },
  {
   "cell_type": "markdown",
   "metadata": {
    "colab_type": "text",
    "id": "PIKUCldjiWO0"
   },
   "source": [
    "### Top 20 important features"
   ]
  },
  {
   "cell_type": "code",
   "execution_count": 104,
   "metadata": {
    "colab": {},
    "colab_type": "code",
    "id": "p2P0iHQciWO1"
   },
   "outputs": [],
   "source": [
    "features_tfidf=DT_tfidf.feature_importances_"
   ]
  },
  {
   "cell_type": "code",
   "execution_count": 105,
   "metadata": {},
   "outputs": [],
   "source": [
    "Top20_features=features_tfidf.argsort()\n"
   ]
  },
  {
   "cell_type": "code",
   "execution_count": 106,
   "metadata": {},
   "outputs": [
    {
     "data": {
      "text/plain": [
       "array([ 26, 452, 351, 217, 493, 489, 284, 164, 153, 297, 266, 333,  30,\n",
       "       199,  38, 264, 120, 125, 202, 301], dtype=int64)"
      ]
     },
     "execution_count": 106,
     "metadata": {},
     "output_type": "execute_result"
    }
   ],
   "source": [
    "#Finding top 20 features of Positive Class\n",
    "Top20_features=Top20_features[-20:]\n",
    "Top20_features"
   ]
  },
  {
   "cell_type": "code",
   "execution_count": 107,
   "metadata": {},
   "outputs": [
    {
     "name": "stdout",
     "output_type": "stream",
     "text": [
      "['away' 'thought' 'product' 'highly' 'would' 'wonderful' 'money'\n",
      " 'favorite' 'excellent' 'nice' 'loves' 'perfect' 'bad' 'good' 'best'\n",
      " 'love' 'delicious' 'disappointed' 'great' 'not']\n"
     ]
    }
   ],
   "source": [
    "# printing the top 20 positive feature names\n",
    "\n",
    "print(np.take(tf_idf_vect.get_feature_names(),Top20_features))"
   ]
  },
  {
   "cell_type": "code",
   "execution_count": 108,
   "metadata": {},
   "outputs": [],
   "source": [
    "Top20_features_Names=np.take(tf_idf_vect.get_feature_names(),Top20_features)"
   ]
  },
  {
   "cell_type": "code",
   "execution_count": 109,
   "metadata": {},
   "outputs": [],
   "source": [
    "# Creating a dataframe for the top 20 features\n",
    "\n",
    "Top20_features=pd.DataFrame(Top20_features,columns=['Indices'])\n",
    "Top20_features=Top20_features.sort_values(by='Indices',ascending=True)"
   ]
  },
  {
   "cell_type": "code",
   "execution_count": 110,
   "metadata": {},
   "outputs": [],
   "source": [
    "Top20_features=Top20_features.head(20)"
   ]
  },
  {
   "cell_type": "code",
   "execution_count": 111,
   "metadata": {},
   "outputs": [],
   "source": [
    "Top20_features['feature_names']=Top20_features_Names"
   ]
  },
  {
   "cell_type": "code",
   "execution_count": 112,
   "metadata": {},
   "outputs": [
    {
     "data": {
      "text/html": [
       "<div>\n",
       "<style scoped>\n",
       "    .dataframe tbody tr th:only-of-type {\n",
       "        vertical-align: middle;\n",
       "    }\n",
       "\n",
       "    .dataframe tbody tr th {\n",
       "        vertical-align: top;\n",
       "    }\n",
       "\n",
       "    .dataframe thead th {\n",
       "        text-align: right;\n",
       "    }\n",
       "</style>\n",
       "<table border=\"1\" class=\"dataframe\">\n",
       "  <thead>\n",
       "    <tr style=\"text-align: right;\">\n",
       "      <th></th>\n",
       "      <th>Indices</th>\n",
       "      <th>feature_names</th>\n",
       "    </tr>\n",
       "  </thead>\n",
       "  <tbody>\n",
       "    <tr>\n",
       "      <th>0</th>\n",
       "      <td>26</td>\n",
       "      <td>away</td>\n",
       "    </tr>\n",
       "    <tr>\n",
       "      <th>12</th>\n",
       "      <td>30</td>\n",
       "      <td>thought</td>\n",
       "    </tr>\n",
       "    <tr>\n",
       "      <th>14</th>\n",
       "      <td>38</td>\n",
       "      <td>product</td>\n",
       "    </tr>\n",
       "    <tr>\n",
       "      <th>16</th>\n",
       "      <td>120</td>\n",
       "      <td>highly</td>\n",
       "    </tr>\n",
       "    <tr>\n",
       "      <th>17</th>\n",
       "      <td>125</td>\n",
       "      <td>would</td>\n",
       "    </tr>\n",
       "    <tr>\n",
       "      <th>8</th>\n",
       "      <td>153</td>\n",
       "      <td>wonderful</td>\n",
       "    </tr>\n",
       "    <tr>\n",
       "      <th>7</th>\n",
       "      <td>164</td>\n",
       "      <td>money</td>\n",
       "    </tr>\n",
       "    <tr>\n",
       "      <th>13</th>\n",
       "      <td>199</td>\n",
       "      <td>favorite</td>\n",
       "    </tr>\n",
       "    <tr>\n",
       "      <th>18</th>\n",
       "      <td>202</td>\n",
       "      <td>excellent</td>\n",
       "    </tr>\n",
       "    <tr>\n",
       "      <th>3</th>\n",
       "      <td>217</td>\n",
       "      <td>nice</td>\n",
       "    </tr>\n",
       "    <tr>\n",
       "      <th>15</th>\n",
       "      <td>264</td>\n",
       "      <td>loves</td>\n",
       "    </tr>\n",
       "    <tr>\n",
       "      <th>10</th>\n",
       "      <td>266</td>\n",
       "      <td>perfect</td>\n",
       "    </tr>\n",
       "    <tr>\n",
       "      <th>6</th>\n",
       "      <td>284</td>\n",
       "      <td>bad</td>\n",
       "    </tr>\n",
       "    <tr>\n",
       "      <th>9</th>\n",
       "      <td>297</td>\n",
       "      <td>good</td>\n",
       "    </tr>\n",
       "    <tr>\n",
       "      <th>19</th>\n",
       "      <td>301</td>\n",
       "      <td>best</td>\n",
       "    </tr>\n",
       "    <tr>\n",
       "      <th>11</th>\n",
       "      <td>333</td>\n",
       "      <td>love</td>\n",
       "    </tr>\n",
       "    <tr>\n",
       "      <th>2</th>\n",
       "      <td>351</td>\n",
       "      <td>delicious</td>\n",
       "    </tr>\n",
       "    <tr>\n",
       "      <th>1</th>\n",
       "      <td>452</td>\n",
       "      <td>disappointed</td>\n",
       "    </tr>\n",
       "    <tr>\n",
       "      <th>5</th>\n",
       "      <td>489</td>\n",
       "      <td>great</td>\n",
       "    </tr>\n",
       "    <tr>\n",
       "      <th>4</th>\n",
       "      <td>493</td>\n",
       "      <td>not</td>\n",
       "    </tr>\n",
       "  </tbody>\n",
       "</table>\n",
       "</div>"
      ],
      "text/plain": [
       "    Indices feature_names\n",
       "0        26          away\n",
       "12       30       thought\n",
       "14       38       product\n",
       "16      120        highly\n",
       "17      125         would\n",
       "8       153     wonderful\n",
       "7       164         money\n",
       "13      199      favorite\n",
       "18      202     excellent\n",
       "3       217          nice\n",
       "15      264         loves\n",
       "10      266       perfect\n",
       "6       284           bad\n",
       "9       297          good\n",
       "19      301          best\n",
       "11      333          love\n",
       "2       351     delicious\n",
       "1       452  disappointed\n",
       "5       489         great\n",
       "4       493           not"
      ]
     },
     "execution_count": 112,
     "metadata": {},
     "output_type": "execute_result"
    }
   ],
   "source": [
    "Top20_features"
   ]
  },
  {
   "cell_type": "code",
   "execution_count": 113,
   "metadata": {},
   "outputs": [],
   "source": [
    "All_features_tfidf=tf_idf_vect.get_feature_names()"
   ]
  },
  {
   "cell_type": "markdown",
   "metadata": {
    "colab_type": "text",
    "id": "RTZB9ipUiWO3"
   },
   "source": [
    "### Graphviz visualization of Decision Tree on TFIDF"
   ]
  },
  {
   "cell_type": "code",
   "execution_count": 114,
   "metadata": {
    "colab": {},
    "colab_type": "code",
    "id": "DMbZoPoTiWO4"
   },
   "outputs": [],
   "source": [
    "from sklearn.tree import export_graphviz\n",
    "import pydotplus\n",
    "from IPython.display import Image\n",
    "import graphviz\n",
    "from sklearn import tree"
   ]
  },
  {
   "cell_type": "code",
   "execution_count": 115,
   "metadata": {},
   "outputs": [
    {
     "data": {
      "image/png": "[encoded data removed]",
      "text/plain": [
       "<IPython.core.display.Image object>"
      ]
     },
     "execution_count": 115,
     "metadata": {},
     "output_type": "execute_result"
    }
   ],
   "source": [
    "# Create DOT data\n",
    "dot_data =tree.export_graphviz(decision_tree=DT_tfidf, out_file = None,max_depth=3, feature_names = All_features_tfidf)\n",
    "\n",
    "# Draw graph\n",
    "graph = pydotplus.graph_from_dot_data(dot_data)  \n",
    "\n",
    "# Show graph\n",
    "Image(graph.create_png())\n",
    "\n"
   ]
  },
  {
   "cell_type": "code",
   "execution_count": 116,
   "metadata": {},
   "outputs": [
    {
     "data": {
      "text/plain": [
       "True"
      ]
     },
     "execution_count": 116,
     "metadata": {},
     "output_type": "execute_result"
    }
   ],
   "source": [
    "# Create png\n",
    "\n",
    "graph.write_png(\"graphviz_tfidf_L1.png\")"
   ]
  },
  {
   "cell_type": "code",
   "execution_count": 117,
   "metadata": {},
   "outputs": [
    {
     "name": "stdout",
     "output_type": "stream",
     "text": [
      "After vectorizations\n",
      "(56174, 500) (56174,)\n",
      "(14044, 500) (14044,)\n",
      "(17555, 500) (17555,)\n"
     ]
    }
   ],
   "source": [
    "## TFIDF on L2 regularization\n",
    "\n",
    "tf_idf_vect = TfidfVectorizer(min_df=10,max_features=500,norm='l2')\n",
    "tf_idf_vect.fit(X_train) # fit has to happen only on train data\n",
    "\n",
    "# we use the fitted Tfidf vectorizer to convert the text to vector\n",
    "X_train_tfidf = tf_idf_vect.transform(X_train)\n",
    "X_cv_tfidf = tf_idf_vect.transform(X_cv)\n",
    "X_test_tfidf = tf_idf_vect.transform(X_test)\n",
    "\n",
    "print(\"After vectorizations\")\n",
    "print(X_train_tfidf.shape, y_train.shape)\n",
    "print(X_cv_tfidf.shape, y_cv.shape)\n",
    "print(X_test_tfidf.shape, y_test.shape)"
   ]
  },
  {
   "cell_type": "markdown",
   "metadata": {},
   "source": [
    "## Hyperparameter tuning to find best \"depth\" and 'min_samples_split\"' using RandomizedSearchCV"
   ]
  },
  {
   "cell_type": "code",
   "execution_count": 118,
   "metadata": {},
   "outputs": [],
   "source": [
    "from sklearn.model_selection import RandomizedSearchCV\n",
    "# Assigning values to the parameters\n",
    "depth=[1, 5, 10, 50, 100, 500, 1000]\n",
    "min_samples_split=[5, 10, 100, 500]\n",
    "params_grid=dict(max_depth=depth,min_samples_split=min_samples_split)"
   ]
  },
  {
   "cell_type": "code",
   "execution_count": 119,
   "metadata": {},
   "outputs": [],
   "source": [
    "# Estimator\n",
    "\n",
    "from sklearn.tree import DecisionTreeClassifier\n",
    "DT=DecisionTreeClassifier(class_weight='balanced',random_state=5)"
   ]
  },
  {
   "cell_type": "code",
   "execution_count": 120,
   "metadata": {},
   "outputs": [
    {
     "data": {
      "text/plain": [
       "RandomizedSearchCV(cv=5, error_score='raise-deprecating',\n",
       "                   estimator=DecisionTreeClassifier(class_weight='balanced',\n",
       "                                                    criterion='gini',\n",
       "                                                    max_depth=None,\n",
       "                                                    max_features=None,\n",
       "                                                    max_leaf_nodes=None,\n",
       "                                                    min_impurity_decrease=0.0,\n",
       "                                                    min_impurity_split=None,\n",
       "                                                    min_samples_leaf=1,\n",
       "                                                    min_samples_split=2,\n",
       "                                                    min_weight_fraction_leaf=0.0,\n",
       "                                                    presort=False,\n",
       "                                                    random_state=5,\n",
       "                                                    splitter='best'),\n",
       "                   iid='warn', n_iter=30, n_jobs=-1,\n",
       "                   param_distributions={'max_depth': [1, 5, 10, 50, 100, 500,\n",
       "                                                      1000],\n",
       "                                        'min_samples_split': [5, 10, 100, 500]},\n",
       "                   pre_dispatch='2*n_jobs', random_state=None, refit=True,\n",
       "                   return_train_score=False, scoring='roc_auc', verbose=0)"
      ]
     },
     "execution_count": 120,
     "metadata": {},
     "output_type": "execute_result"
    }
   ],
   "source": [
    "# Building RandomizedsSearchCV\n",
    "\n",
    "DT_RandomCV=RandomizedSearchCV(DT,params_grid,cv=5,n_iter=30,scoring='roc_auc',n_jobs=-1)\n",
    "DT_RandomCV.fit(X_train_tfidf,y_train)"
   ]
  },
  {
   "cell_type": "code",
   "execution_count": 121,
   "metadata": {},
   "outputs": [
    {
     "data": {
      "text/plain": [
       "{'min_samples_split': 500, 'max_depth': 50}"
      ]
     },
     "execution_count": 121,
     "metadata": {},
     "output_type": "execute_result"
    }
   ],
   "source": [
    "# Finding best parameters\n",
    "DT_RandomCV.best_params_"
   ]
  },
  {
   "cell_type": "markdown",
   "metadata": {},
   "source": [
    "## Building Decision Tree using best the parameters"
   ]
  },
  {
   "cell_type": "code",
   "execution_count": 122,
   "metadata": {},
   "outputs": [
    {
     "data": {
      "image/png": "[encoded data removed]",
      "text/plain": [
       "<Figure size 432x288 with 1 Axes>"
      ]
     },
     "metadata": {},
     "output_type": "display_data"
    }
   ],
   "source": [
    "from sklearn.tree import DecisionTreeClassifier\n",
    "DT_tfidf_L2=DecisionTreeClassifier(max_depth=50,min_samples_split=500,class_weight='balanced',random_state=4)\n",
    "DT_tfidf_L2.fit(X_train_tfidf,y_train)\n",
    "\n",
    "# roc_auc_score(y_true, y_score) the 2nd parameter should be probability estimates of the positive class\n",
    "# not the predicted outputs\n",
    "\n",
    "y_train_pred =  DT_tfidf_L2.predict_proba(X_train_tfidf)[:,1]\n",
    "y_cv_pred =  DT_tfidf_L2.predict_proba(X_cv_tfidf)[:,1]\n",
    "y_test_pred=DT_tfidf_L2.predict_proba(X_test_tfidf)[:,1]\n",
    "\n",
    "train_fpr, train_tpr, thresholds_tr_tfidf = roc_curve(y_train, DT_tfidf_L2.predict_proba(X_train_tfidf)[:,1])\n",
    "test_fpr, test_tpr, thresholds_te_tfidf = roc_curve(y_test, DT_tfidf_L2.predict_proba(X_test_tfidf)[:,1])\n",
    "\n",
    "plt.plot(train_fpr, train_tpr, label=\"train AUC =\"+str(auc(train_fpr, train_tpr)))\n",
    "plt.plot(test_fpr, test_tpr, label=\"test AUC =\"+str(auc(test_fpr, test_tpr)))\n",
    "plt.plot([0, 1], [0, 1],'r--')\n",
    "plt.xlim([0,1])\n",
    "plt.ylim([0,1])\n",
    "plt.legend()\n",
    "plt.xlabel(\"False Positive Rate(FPR)\")\n",
    "plt.ylabel(\"True Positive Rate(TPR)\")\n",
    "plt.title(\"Receiver Operating Characteristic Curves(ROC)\")\n",
    "plt.show()\n",
    "\n"
   ]
  },
  {
   "cell_type": "code",
   "execution_count": 123,
   "metadata": {},
   "outputs": [
    {
     "name": "stdout",
     "output_type": "stream",
     "text": [
      "\n",
      "The maximum value of tpr*(1-fpr) 0.6649226332294641 for threshold 0.479\n",
      "\n",
      "Train confusion matrix:\n",
      "\n",
      "[[ 8410  1413]\n",
      " [10353 35998]]\n",
      "\n",
      "Test confusion matrix:\n",
      "\n",
      "[[ 1499   668]\n",
      " [ 3648 11740]]\n"
     ]
    }
   ],
   "source": [
    "\n",
    "print()\n",
    "from sklearn.metrics import confusion_matrix\n",
    "best_t = find_best_threshold(thresholds_tr_tfidf, train_fpr, train_tpr)\n",
    "print(\"Train confusion matrix:\")\n",
    "print()\n",
    "print(confusion_matrix(y_train, predict_with_best_t(y_train_pred, best_t)))\n",
    "print()\n",
    "print(\"Test confusion matrix:\")\n",
    "print()\n",
    "print(confusion_matrix(y_test, predict_with_best_t(y_test_pred, best_t)))"
   ]
  },
  {
   "cell_type": "code",
   "execution_count": 124,
   "metadata": {},
   "outputs": [],
   "source": [
    "Train_Confusion_Matrix=confusion_matrix(y_train, predict_with_best_t(y_train_pred, best_t))\n",
    "Test_Confusion_Matrix=confusion_matrix(y_test, predict_with_best_t(y_test_pred, best_t))\n",
    "df_Train=pd.DataFrame(Train_Confusion_Matrix,columns=np.unique(y_train), index = np.unique(y_train))\n",
    "df_Test=pd.DataFrame(Test_Confusion_Matrix,columns=np.unique(y_test), index = np.unique(y_test))\n",
    "df_Train.index.name = 'Actual'\n",
    "df_Train.columns.name = 'Predicted'\n",
    "df_Test.index.name = 'Actual'\n",
    "df_Test.columns.name = 'Predicted'\n"
   ]
  },
  {
   "cell_type": "code",
   "execution_count": 125,
   "metadata": {},
   "outputs": [
    {
     "data": {
      "text/plain": [
       "Text(0.5, 1, 'Train Confusion Matrix')"
      ]
     },
     "execution_count": 125,
     "metadata": {},
     "output_type": "execute_result"
    },
    {
     "data": {
      "image/png": "[encoded data removed]",
      "text/plain": [
       "<Figure size 504x288 with 2 Axes>"
      ]
     },
     "metadata": {},
     "output_type": "display_data"
    }
   ],
   "source": [
    "plt.figure(figsize = (7,4))\n",
    "sns.set(font_scale=1)#for label size\n",
    "sns.heatmap(df_Train, cmap=\"Blues\", annot=True,fmt='2d')\n",
    "plt.title(\"Train Confusion Matrix\")"
   ]
  },
  {
   "cell_type": "code",
   "execution_count": 126,
   "metadata": {},
   "outputs": [
    {
     "data": {
      "text/plain": [
       "Text(0.5, 1, 'Test Confusion Matrix')"
      ]
     },
     "execution_count": 126,
     "metadata": {},
     "output_type": "execute_result"
    },
    {
     "data": {
      "image/png": "[encoded data removed]",
      "text/plain": [
       "<Figure size 504x288 with 2 Axes>"
      ]
     },
     "metadata": {},
     "output_type": "display_data"
    }
   ],
   "source": [
    "plt.figure(figsize = (7,4))\n",
    "sns.set(font_scale=1)#for label size\n",
    "sns.heatmap(df_Test, cmap=\"Blues\", annot=True,fmt='2d')\n",
    "plt.title(\"Test Confusion Matrix\")"
   ]
  },
  {
   "cell_type": "code",
   "execution_count": 142,
   "metadata": {},
   "outputs": [],
   "source": [
    "## Top 20 features of tfidf with L2 regularization\n",
    "\n",
    "features_tfidf_L2=DT_tfidf_L2.feature_importances_"
   ]
  },
  {
   "cell_type": "code",
   "execution_count": 143,
   "metadata": {},
   "outputs": [],
   "source": [
    "Top20_features=features_tfidf_L2.argsort()\n"
   ]
  },
  {
   "cell_type": "code",
   "execution_count": 144,
   "metadata": {},
   "outputs": [
    {
     "data": {
      "text/plain": [
       "array([210,  14, 440, 135, 284, 489, 164, 153, 452,  30, 297, 266, 333,\n",
       "       199,  38, 264, 125, 120, 202, 301], dtype=int64)"
      ]
     },
     "execution_count": 144,
     "metadata": {},
     "output_type": "execute_result"
    }
   ],
   "source": [
    "#Finding top 20 features of Positive Class\n",
    "Top20_features=Top20_features[-20:]\n",
    "Top20_features"
   ]
  },
  {
   "cell_type": "code",
   "execution_count": 145,
   "metadata": {},
   "outputs": [
    {
     "name": "stdout",
     "output_type": "stream",
     "text": [
      "['happy' 'amazing' 'tasty' 'easy' 'money' 'wonderful' 'favorite'\n",
      " 'excellent' 'thought' 'bad' 'nice' 'loves' 'perfect' 'good' 'best' 'love'\n",
      " 'disappointed' 'delicious' 'great' 'not']\n"
     ]
    }
   ],
   "source": [
    "# printing the top 20 positive feature names\n",
    "\n",
    "print(np.take(tf_idf_vect.get_feature_names(),Top20_features))"
   ]
  },
  {
   "cell_type": "code",
   "execution_count": 146,
   "metadata": {},
   "outputs": [],
   "source": [
    "Top20_features_Names=np.take(tf_idf_vect.get_feature_names(),Top20_features)"
   ]
  },
  {
   "cell_type": "code",
   "execution_count": 147,
   "metadata": {},
   "outputs": [],
   "source": [
    "# Creating a dataframe for the top 20 features\n",
    "\n",
    "Top20_features=pd.DataFrame(Top20_features,columns=['Indices'])\n",
    "Top20_features=Top20_features.sort_values(by='Indices',ascending=True)"
   ]
  },
  {
   "cell_type": "code",
   "execution_count": 148,
   "metadata": {},
   "outputs": [],
   "source": [
    "Top20_features=Top20_features.head(20)"
   ]
  },
  {
   "cell_type": "code",
   "execution_count": 149,
   "metadata": {},
   "outputs": [],
   "source": [
    "Top20_features['feature_names']=Top20_features_Names"
   ]
  },
  {
   "cell_type": "code",
   "execution_count": 150,
   "metadata": {},
   "outputs": [
    {
     "data": {
      "text/html": [
       "<div>\n",
       "<style scoped>\n",
       "    .dataframe tbody tr th:only-of-type {\n",
       "        vertical-align: middle;\n",
       "    }\n",
       "\n",
       "    .dataframe tbody tr th {\n",
       "        vertical-align: top;\n",
       "    }\n",
       "\n",
       "    .dataframe thead th {\n",
       "        text-align: right;\n",
       "    }\n",
       "</style>\n",
       "<table border=\"1\" class=\"dataframe\">\n",
       "  <thead>\n",
       "    <tr style=\"text-align: right;\">\n",
       "      <th></th>\n",
       "      <th>Indices</th>\n",
       "      <th>feature_names</th>\n",
       "    </tr>\n",
       "  </thead>\n",
       "  <tbody>\n",
       "    <tr>\n",
       "      <th>1</th>\n",
       "      <td>14</td>\n",
       "      <td>happy</td>\n",
       "    </tr>\n",
       "    <tr>\n",
       "      <th>9</th>\n",
       "      <td>30</td>\n",
       "      <td>amazing</td>\n",
       "    </tr>\n",
       "    <tr>\n",
       "      <th>14</th>\n",
       "      <td>38</td>\n",
       "      <td>tasty</td>\n",
       "    </tr>\n",
       "    <tr>\n",
       "      <th>17</th>\n",
       "      <td>120</td>\n",
       "      <td>easy</td>\n",
       "    </tr>\n",
       "    <tr>\n",
       "      <th>16</th>\n",
       "      <td>125</td>\n",
       "      <td>money</td>\n",
       "    </tr>\n",
       "    <tr>\n",
       "      <th>3</th>\n",
       "      <td>135</td>\n",
       "      <td>wonderful</td>\n",
       "    </tr>\n",
       "    <tr>\n",
       "      <th>7</th>\n",
       "      <td>153</td>\n",
       "      <td>favorite</td>\n",
       "    </tr>\n",
       "    <tr>\n",
       "      <th>6</th>\n",
       "      <td>164</td>\n",
       "      <td>excellent</td>\n",
       "    </tr>\n",
       "    <tr>\n",
       "      <th>13</th>\n",
       "      <td>199</td>\n",
       "      <td>thought</td>\n",
       "    </tr>\n",
       "    <tr>\n",
       "      <th>18</th>\n",
       "      <td>202</td>\n",
       "      <td>bad</td>\n",
       "    </tr>\n",
       "    <tr>\n",
       "      <th>0</th>\n",
       "      <td>210</td>\n",
       "      <td>nice</td>\n",
       "    </tr>\n",
       "    <tr>\n",
       "      <th>15</th>\n",
       "      <td>264</td>\n",
       "      <td>loves</td>\n",
       "    </tr>\n",
       "    <tr>\n",
       "      <th>11</th>\n",
       "      <td>266</td>\n",
       "      <td>perfect</td>\n",
       "    </tr>\n",
       "    <tr>\n",
       "      <th>4</th>\n",
       "      <td>284</td>\n",
       "      <td>good</td>\n",
       "    </tr>\n",
       "    <tr>\n",
       "      <th>10</th>\n",
       "      <td>297</td>\n",
       "      <td>best</td>\n",
       "    </tr>\n",
       "    <tr>\n",
       "      <th>19</th>\n",
       "      <td>301</td>\n",
       "      <td>love</td>\n",
       "    </tr>\n",
       "    <tr>\n",
       "      <th>12</th>\n",
       "      <td>333</td>\n",
       "      <td>disappointed</td>\n",
       "    </tr>\n",
       "    <tr>\n",
       "      <th>2</th>\n",
       "      <td>440</td>\n",
       "      <td>delicious</td>\n",
       "    </tr>\n",
       "    <tr>\n",
       "      <th>8</th>\n",
       "      <td>452</td>\n",
       "      <td>great</td>\n",
       "    </tr>\n",
       "    <tr>\n",
       "      <th>5</th>\n",
       "      <td>489</td>\n",
       "      <td>not</td>\n",
       "    </tr>\n",
       "  </tbody>\n",
       "</table>\n",
       "</div>"
      ],
      "text/plain": [
       "    Indices feature_names\n",
       "1        14         happy\n",
       "9        30       amazing\n",
       "14       38         tasty\n",
       "17      120          easy\n",
       "16      125         money\n",
       "3       135     wonderful\n",
       "7       153      favorite\n",
       "6       164     excellent\n",
       "13      199       thought\n",
       "18      202           bad\n",
       "0       210          nice\n",
       "15      264         loves\n",
       "11      266       perfect\n",
       "4       284          good\n",
       "10      297          best\n",
       "19      301          love\n",
       "12      333  disappointed\n",
       "2       440     delicious\n",
       "8       452         great\n",
       "5       489           not"
      ]
     },
     "execution_count": 150,
     "metadata": {},
     "output_type": "execute_result"
    }
   ],
   "source": [
    "Top20_features"
   ]
  },
  {
   "cell_type": "code",
   "execution_count": 151,
   "metadata": {},
   "outputs": [],
   "source": [
    "All_features_tfidf_L2=tf_idf_vect.get_feature_names()"
   ]
  },
  {
   "cell_type": "code",
   "execution_count": 152,
   "metadata": {},
   "outputs": [],
   "source": [
    "## Graphviz visualization of Decision Tree on tfidf :L2 regularization\n",
    "\n",
    "from sklearn.tree import export_graphviz\n",
    "import pydotplus\n",
    "from IPython.display import Image\n",
    "import graphviz\n",
    "from sklearn import tree"
   ]
  },
  {
   "cell_type": "code",
   "execution_count": 153,
   "metadata": {},
   "outputs": [
    {
     "data": {
      "image/png": "[encoded data removed]",
      "text/plain": [
       "<IPython.core.display.Image object>"
      ]
     },
     "execution_count": 153,
     "metadata": {},
     "output_type": "execute_result"
    }
   ],
   "source": [
    "# Create DOT data\n",
    "dot_data =tree.export_graphviz(decision_tree=DT_tfidf_L2, out_file = None,max_depth=3, feature_names = All_features_tfidf_L2)\n",
    "\n",
    "# Draw graph\n",
    "graph = pydotplus.graph_from_dot_data(dot_data)  \n",
    "\n",
    "# Show graph\n",
    "Image(graph.create_png())\n",
    "\n"
   ]
  },
  {
   "cell_type": "code",
   "execution_count": 154,
   "metadata": {},
   "outputs": [
    {
     "data": {
      "text/plain": [
       "True"
      ]
     },
     "execution_count": 154,
     "metadata": {},
     "output_type": "execute_result"
    }
   ],
   "source": [
    "# Create png\n",
    "\n",
    "graph.write_png(\"graphviz_tfidf_L2.png\")"
   ]
  },
  {
   "cell_type": "markdown",
   "metadata": {
    "colab_type": "text",
    "id": "NVhl_V6MiWO5"
   },
   "source": [
    "## Applying Decision Trees on AVG W2V"
   ]
  },
  {
   "cell_type": "code",
   "execution_count": 25,
   "metadata": {
    "colab": {},
    "colab_type": "code",
    "id": "uYDXnzMmiWO5"
   },
   "outputs": [],
   "source": [
    "\n",
    "list_of_sentance_train=[]\n",
    "for sentance in X_train:\n",
    "    list_of_sentance_train.append(sentance.split())"
   ]
  },
  {
   "cell_type": "code",
   "execution_count": 26,
   "metadata": {},
   "outputs": [],
   "source": [
    "from gensim.models import Word2Vec\n",
    "from gensim.models import KeyedVectors"
   ]
  },
  {
   "cell_type": "code",
   "execution_count": 27,
   "metadata": {},
   "outputs": [],
   "source": [
    "# This line of code trains your w2v model on the give list of sentances\n",
    "w2v_model=Word2Vec(list_of_sentance_train,min_count=5,size=50, workers=4)"
   ]
  },
  {
   "cell_type": "code",
   "execution_count": 28,
   "metadata": {},
   "outputs": [
    {
     "name": "stdout",
     "output_type": "stream",
     "text": [
      "number of words that occured minimum 5 times  14159\n",
      "sample words  ['purchased', 'product', 'local', 'store', 'ny', 'kids', 'love', 'quick', 'easy', 'meal', 'put', 'toaster', 'oven', 'toast', 'min', 'ready', 'eat', 'strongly', 'recommend', 'partner', 'happy', 'tea', 'feeling', 'much', 'better', 'since', 'starting', 'drink', 'drinking', 'hot', 'normal', 'iced', 'chilled', 'likes', 'refreshing', 'nature', 'chocolate', 'amazing', 'taste', 'smell', 'found', 'new', 'one', 'finest', 'maple', 'syrups', 'ordered', 'enjoyed', 'bought', 'fancy']\n"
     ]
    }
   ],
   "source": [
    "w2v_words = list(w2v_model.wv.vocab)\n",
    "print(\"number of words that occured minimum 5 times \",len(w2v_words))\n",
    "print(\"sample words \", w2v_words[0:50])"
   ]
  },
  {
   "cell_type": "markdown",
   "metadata": {},
   "source": [
    "## Converting Reviews into Numerical Vectors using W2V vectors"
   ]
  },
  {
   "cell_type": "markdown",
   "metadata": {},
   "source": [
    "## Algorithm: Avg W2V"
   ]
  },
  {
   "cell_type": "code",
   "execution_count": 29,
   "metadata": {},
   "outputs": [],
   "source": [
    "from tqdm import tqdm\n",
    "import numpy as np"
   ]
  },
  {
   "cell_type": "markdown",
   "metadata": {},
   "source": [
    "## Converting Train data text"
   ]
  },
  {
   "cell_type": "code",
   "execution_count": 30,
   "metadata": {},
   "outputs": [
    {
     "name": "stderr",
     "output_type": "stream",
     "text": [
      "100%|███████████████████████████████████████████████████████████████████████████| 56174/56174 [02:14<00:00, 416.71it/s]\n"
     ]
    }
   ],
   "source": [
    "# average Word2Vec\n",
    "# compute average word2vec for each review.\n",
    "sent_vectors = []; # the avg-w2v for each sentence/review is stored in this list\n",
    "for sent in tqdm(list_of_sentance_train): # for each review/sentence\n",
    "    sent_vec = np.zeros(50) # as word vectors are of zero length 50, you might need to change this to 300 if you use google's w2v\n",
    "    cnt_words =0; # num of words with a valid vector in the sentence/review\n",
    "    for word in sent: # for each word in a review/sentence\n",
    "        if word in w2v_words:\n",
    "            vec = w2v_model.wv[word]\n",
    "            sent_vec += vec\n",
    "            cnt_words += 1\n",
    "    if cnt_words != 0:\n",
    "        sent_vec /= cnt_words\n",
    "    sent_vectors.append(sent_vec)\n",
    "sent_vectors_train = np.array(sent_vectors)\n"
   ]
  },
  {
   "cell_type": "code",
   "execution_count": 31,
   "metadata": {},
   "outputs": [
    {
     "name": "stdout",
     "output_type": "stream",
     "text": [
      "(56174, 50)\n",
      "[-0.24088348 -0.17217938  0.34458257  0.20901505 -0.46931693 -0.07857027\n",
      " -0.81296048  0.50579995  0.00596466 -0.92452358  0.370473   -0.40794242\n",
      "  0.08881405  0.42022151 -0.48877624  0.57867011  0.01730235  0.32684699\n",
      "  0.27955227  0.57855617  0.02067689  0.48075995 -0.31932452 -0.91452351\n",
      " -0.12489517 -0.02631747 -0.29404973 -0.22143068  0.25592744  1.0772705\n",
      " -0.44216881 -0.37517012  0.53841669 -0.16720705  0.45658075  0.43959757\n",
      " -0.06443139  0.3200278  -0.07540293 -1.17899164  0.11860835  0.01796186\n",
      "  0.41246233  0.94001043 -0.28933815  0.66124378  0.74911851  0.48829696\n",
      "  0.94535648 -0.4713075 ]\n"
     ]
    }
   ],
   "source": [
    "print(sent_vectors_train.shape)\n",
    "print(sent_vectors_train[0])"
   ]
  },
  {
   "cell_type": "markdown",
   "metadata": {},
   "source": [
    "## Converting CV data text"
   ]
  },
  {
   "cell_type": "code",
   "execution_count": 32,
   "metadata": {},
   "outputs": [],
   "source": [
    "list_of_sentance_cv=[]\n",
    "for sentance in X_cv:\n",
    "    list_of_sentance_cv.append(sentance.split())"
   ]
  },
  {
   "cell_type": "code",
   "execution_count": 33,
   "metadata": {},
   "outputs": [
    {
     "name": "stderr",
     "output_type": "stream",
     "text": [
      "100%|███████████████████████████████████████████████████████████████████████████| 14044/14044 [00:34<00:00, 412.40it/s]\n"
     ]
    }
   ],
   "source": [
    "# average Word2Vec\n",
    "# compute average word2vec for each review.\n",
    "sent_vectors_cv = []; # the avg-w2v for each sentence/review is stored in this list\n",
    "for sent in tqdm(list_of_sentance_cv): # for each review/sentence\n",
    "    sent_vec = np.zeros(50) # as word vectors are of zero length 50, you might need to change this to 300 if you use google's w2v\n",
    "    cnt_words =0; # num of words with a valid vector in the sentence/review\n",
    "    for word in sent: # for each word in a review/sentence\n",
    "        if word in w2v_words:\n",
    "            vec = w2v_model.wv[word]\n",
    "            sent_vec += vec\n",
    "            cnt_words += 1\n",
    "    if cnt_words != 0:\n",
    "        sent_vec /= cnt_words\n",
    "    sent_vectors_cv.append(sent_vec)\n",
    "sent_vectors_cv = np.array(sent_vectors_cv)\n"
   ]
  },
  {
   "cell_type": "code",
   "execution_count": 34,
   "metadata": {},
   "outputs": [
    {
     "name": "stdout",
     "output_type": "stream",
     "text": [
      "(14044, 50)\n",
      "[-0.50765732 -0.32845357 -0.30643425  0.21578251 -0.21921924 -0.55948037\n",
      " -0.32738525  0.27241372  0.17067781 -0.02539748  0.19308467 -0.49745558\n",
      " -0.01800593  0.73802286 -0.2869965   0.62569017 -0.05939303  0.06368123\n",
      "  0.20304203 -0.10514853  0.06547124  0.05735426  0.24748137 -0.4848464\n",
      "  0.48618482  0.82936485 -0.63731182  0.22824947  0.24605437  0.80651089\n",
      "  0.49601087 -0.46203521  0.51861653 -0.05887693  0.66361143  0.22754054\n",
      "  0.79428052  0.09016797  0.00471827  0.05311472  0.38804162 -0.42134522\n",
      " -0.16701919 -0.1484259  -0.05255342  1.14785023 -0.41527463  0.53198424\n",
      " -0.57067103  0.209489  ]\n"
     ]
    }
   ],
   "source": [
    "print(sent_vectors_cv.shape)\n",
    "print(sent_vectors_cv[0])"
   ]
  },
  {
   "cell_type": "markdown",
   "metadata": {},
   "source": [
    "## Converting Test data text"
   ]
  },
  {
   "cell_type": "code",
   "execution_count": 36,
   "metadata": {},
   "outputs": [],
   "source": [
    "list_of_sentance_test=[]\n",
    "for sentance in X_test:\n",
    "    list_of_sentance_test.append(sentance.split())"
   ]
  },
  {
   "cell_type": "code",
   "execution_count": 37,
   "metadata": {},
   "outputs": [
    {
     "name": "stderr",
     "output_type": "stream",
     "text": [
      "100%|███████████████████████████████████████████████████████████████████████████| 17555/17555 [00:42<00:00, 415.44it/s]\n"
     ]
    },
    {
     "name": "stdout",
     "output_type": "stream",
     "text": [
      "(17555, 50)\n",
      "[-1.00292558  0.04324219  0.38741096 -0.20215276  0.01019121 -0.79846379\n",
      "  0.05519976  0.74862369  0.37443852 -0.02302838  0.5252147  -0.15764272\n",
      " -0.28680595  0.00694217 -0.85091386  0.68105364 -0.55455128  0.71226953\n",
      "  0.37711362 -0.60094723 -0.1942199   0.61014393  0.42909409 -1.16092415\n",
      "  0.05789615 -0.59521893 -0.18687784 -0.14213835  0.6252823   1.02539935\n",
      " -0.40508882  0.1657429   0.69093178 -0.20482798 -0.0055846  -0.15096126\n",
      "  1.16153132  0.19363833  0.16997406 -0.53535903 -0.0082052  -0.25094176\n",
      " -0.29031521  0.31010907 -0.4605465   1.15178081 -0.1554725   0.1627589\n",
      " -0.22738764  0.40551041]\n"
     ]
    }
   ],
   "source": [
    "# average Word2Vec\n",
    "# compute average word2vec for each review.\n",
    "sent_vectors_test = []; # the avg-w2v for each sentence/review is stored in this list\n",
    "for sent in tqdm(list_of_sentance_test): # for each review/sentence\n",
    "    sent_vec = np.zeros(50) # as word vectors are of zero length 50, you might need to change this to 300 if you use google's w2v\n",
    "    cnt_words =0; # num of words with a valid vector in the sentence/review\n",
    "    for word in sent: # for each word in a review/sentence\n",
    "        if word in w2v_words:\n",
    "            vec = w2v_model.wv[word]\n",
    "            sent_vec += vec\n",
    "            cnt_words += 1\n",
    "    if cnt_words != 0:\n",
    "        sent_vec /= cnt_words\n",
    "    sent_vectors_test.append(sent_vec)\n",
    "sent_vectors_test = np.array(sent_vectors_test)\n",
    "print(sent_vectors_test.shape)\n",
    "print(sent_vectors_test[0])"
   ]
  },
  {
   "cell_type": "markdown",
   "metadata": {},
   "source": [
    "## Hyperparameter tuning to find best \"depth\" and 'min_samples_split\"' using RandomizedSearchCV"
   ]
  },
  {
   "cell_type": "code",
   "execution_count": 38,
   "metadata": {},
   "outputs": [],
   "source": [
    "from sklearn.model_selection import RandomizedSearchCV\n",
    "# Assigning values to the parameters\n",
    "depth=[1, 5, 10, 50, 100, 500, 1000]\n",
    "min_samples_split=[5, 10, 100, 500]\n",
    "params_grid=dict(max_depth=depth,min_samples_split=min_samples_split)"
   ]
  },
  {
   "cell_type": "code",
   "execution_count": 40,
   "metadata": {},
   "outputs": [],
   "source": [
    "# Estimator\n",
    "from sklearn.tree import DecisionTreeClassifier\n",
    "DT=DecisionTreeClassifier(class_weight='balanced',random_state=5)"
   ]
  },
  {
   "cell_type": "code",
   "execution_count": 44,
   "metadata": {},
   "outputs": [
    {
     "data": {
      "text/plain": [
       "RandomizedSearchCV(cv=5, error_score='raise-deprecating',\n",
       "                   estimator=DecisionTreeClassifier(class_weight='balanced',\n",
       "                                                    criterion='gini',\n",
       "                                                    max_depth=None,\n",
       "                                                    max_features=None,\n",
       "                                                    max_leaf_nodes=None,\n",
       "                                                    min_impurity_decrease=0.0,\n",
       "                                                    min_impurity_split=None,\n",
       "                                                    min_samples_leaf=1,\n",
       "                                                    min_samples_split=2,\n",
       "                                                    min_weight_fraction_leaf=0.0,\n",
       "                                                    presort=False,\n",
       "                                                    random_state=5,\n",
       "                                                    splitter='best'),\n",
       "                   iid='warn', n_iter=70, n_jobs=-1,\n",
       "                   param_distributions={'max_depth': [1, 5, 10, 50, 100, 500,\n",
       "                                                      1000],\n",
       "                                        'min_samples_split': [5, 10, 100, 500]},\n",
       "                   pre_dispatch='2*n_jobs', random_state=None, refit=True,\n",
       "                   return_train_score=False, scoring='roc_auc', verbose=0)"
      ]
     },
     "execution_count": 44,
     "metadata": {},
     "output_type": "execute_result"
    }
   ],
   "source": [
    "# Building RandomizedsSearchCV\n",
    "\n",
    "DT_RandomCV=RandomizedSearchCV(DT,params_grid,cv=5,n_iter=70,scoring='roc_auc',n_jobs=-1)\n",
    "DT_RandomCV.fit(sent_vectors_train,y_train)"
   ]
  },
  {
   "cell_type": "code",
   "execution_count": 47,
   "metadata": {},
   "outputs": [
    {
     "data": {
      "text/plain": [
       "{'min_samples_split': 500, 'max_depth': 10}"
      ]
     },
     "execution_count": 47,
     "metadata": {},
     "output_type": "execute_result"
    }
   ],
   "source": [
    "# Finding best parameters\n",
    "DT_RandomCV.best_params_"
   ]
  },
  {
   "cell_type": "markdown",
   "metadata": {},
   "source": [
    "## Building Decision Tree using best the parameters"
   ]
  },
  {
   "cell_type": "code",
   "execution_count": 48,
   "metadata": {},
   "outputs": [
    {
     "data": {
      "image/png": "[encoded data removed]",
      "text/plain": [
       "<Figure size 432x288 with 1 Axes>"
      ]
     },
     "metadata": {
      "needs_background": "light"
     },
     "output_type": "display_data"
    }
   ],
   "source": [
    "from sklearn.tree import DecisionTreeClassifier\n",
    "DT=DecisionTreeClassifier(max_depth=10,min_samples_split=500,class_weight='balanced',random_state=2)\n",
    "DT.fit(sent_vectors_train,y_train)\n",
    "\n",
    "# roc_auc_score(y_true, y_score) the 2nd parameter should be probability estimates of the positive class\n",
    "# not the predicted outputs\n",
    "\n",
    "y_train_pred =  DT.predict_proba(sent_vectors_train)[:,1]\n",
    "y_cv_pred =  DT.predict_proba(sent_vectors_cv)[:,1]\n",
    "y_test_pred=DT.predict_proba(sent_vectors_test)[:,1]\n",
    "\n",
    "train_fpr, train_tpr, thresholds_tr = roc_curve(y_train, DT.predict_proba(sent_vectors_train)[:,1])\n",
    "test_fpr, test_tpr, thresholds_te = roc_curve(y_test, DT.predict_proba(sent_vectors_test)[:,1])\n",
    "\n",
    "plt.plot(train_fpr, train_tpr, label=\"train AUC =\"+str(auc(train_fpr, train_tpr)))\n",
    "plt.plot(test_fpr, test_tpr, label=\"test AUC =\"+str(auc(test_fpr, test_tpr)))\n",
    "plt.plot([0, 1], [0, 1],'r--')\n",
    "plt.xlim([0,1])\n",
    "plt.ylim([0,1])\n",
    "plt.legend()\n",
    "plt.xlabel(\"False Positive Rate(FPR)\")\n",
    "plt.ylabel(\"True Positive Rate(TPR)\")\n",
    "plt.title(\"Receiver Operating Characteristic Curves(ROC)\")\n",
    "plt.show()\n",
    "\n"
   ]
  },
  {
   "cell_type": "markdown",
   "metadata": {},
   "source": [
    "## Plotting confusion matrix using seaborn"
   ]
  },
  {
   "cell_type": "code",
   "execution_count": 49,
   "metadata": {},
   "outputs": [],
   "source": [
    "# we are writing our own function to predict, with defined thresould\n",
    "# we will pick a threshold that will give the least fpr\n",
    "\n",
    "def find_best_threshold(threshould, fpr, tpr):\n",
    "    t = threshould[np.argmax(tpr*(1-fpr))]\n",
    "    # (tpr*(1-fpr)) will be maximum if your fpr is very low and tpr is very high\n",
    "    print(\"The maximum value of tpr*(1-fpr)\", max(tpr*(1-fpr)), \"for threshold\", np.round(t,3))\n",
    "    print()\n",
    "    return t\n",
    "\n",
    "def predict_with_best_t(proba, threshould):\n",
    "    predictions = []\n",
    "    for i in proba:\n",
    "        if i>=threshould:\n",
    "            predictions.append(1)\n",
    "        else:\n",
    "            predictions.append(0)\n",
    "    return predictions"
   ]
  },
  {
   "cell_type": "code",
   "execution_count": 50,
   "metadata": {},
   "outputs": [
    {
     "name": "stdout",
     "output_type": "stream",
     "text": [
      "\n",
      "The maximum value of tpr*(1-fpr) 0.6167914706428572 for threshold 0.496\n",
      "\n",
      "Train confusion matrix:\n",
      "\n",
      "[[ 7931  1892]\n",
      " [10942 35409]]\n",
      "\n",
      "Test confusion matrix:\n",
      "\n",
      "[[ 1484   683]\n",
      " [ 3692 11696]]\n"
     ]
    }
   ],
   "source": [
    "\n",
    "print()\n",
    "from sklearn.metrics import confusion_matrix\n",
    "best_t = find_best_threshold(thresholds_tr, train_fpr, train_tpr)\n",
    "print(\"Train confusion matrix:\")\n",
    "print()\n",
    "print(confusion_matrix(y_train, predict_with_best_t(y_train_pred, best_t)))\n",
    "print()\n",
    "print(\"Test confusion matrix:\")\n",
    "print()\n",
    "print(confusion_matrix(y_test, predict_with_best_t(y_test_pred, best_t)))"
   ]
  },
  {
   "cell_type": "code",
   "execution_count": 51,
   "metadata": {},
   "outputs": [],
   "source": [
    "Train_Confusion_Matrix=confusion_matrix(y_train, predict_with_best_t(y_train_pred, best_t))\n",
    "Test_Confusion_Matrix=confusion_matrix(y_test, predict_with_best_t(y_test_pred, best_t))\n",
    "df_Train=pd.DataFrame(Train_Confusion_Matrix,columns=np.unique(y_train), index = np.unique(y_train))\n",
    "df_Test=pd.DataFrame(Test_Confusion_Matrix,columns=np.unique(y_test), index = np.unique(y_test))\n",
    "df_Train.index.name = 'Actual'\n",
    "df_Train.columns.name = 'Predicted'\n",
    "df_Test.index.name = 'Actual'\n",
    "df_Test.columns.name = 'Predicted'\n"
   ]
  },
  {
   "cell_type": "code",
   "execution_count": 52,
   "metadata": {},
   "outputs": [
    {
     "data": {
      "text/plain": [
       "Text(0.5, 1, 'Train Confusion Matrix')"
      ]
     },
     "execution_count": 52,
     "metadata": {},
     "output_type": "execute_result"
    },
    {
     "data": {
      "image/png": "[encoded data removed]",
      "text/plain": [
       "<Figure size 504x288 with 2 Axes>"
      ]
     },
     "metadata": {
      "needs_background": "light"
     },
     "output_type": "display_data"
    }
   ],
   "source": [
    "plt.figure(figsize = (7,4))\n",
    "sns.set(font_scale=1)#for label size\n",
    "sns.heatmap(df_Train, cmap=\"Blues\", annot=True,fmt='2d')\n",
    "plt.title(\"Train Confusion Matrix\")"
   ]
  },
  {
   "cell_type": "code",
   "execution_count": 53,
   "metadata": {},
   "outputs": [
    {
     "data": {
      "text/plain": [
       "Text(0.5, 1, 'Test Confusion Matrix')"
      ]
     },
     "execution_count": 53,
     "metadata": {},
     "output_type": "execute_result"
    },
    {
     "data": {
      "image/png": "[encoded data removed]",
      "text/plain": [
       "<Figure size 504x288 with 2 Axes>"
      ]
     },
     "metadata": {},
     "output_type": "display_data"
    }
   ],
   "source": [
    "plt.figure(figsize = (7,4))\n",
    "sns.set(font_scale=1)#for label size\n",
    "sns.heatmap(df_Test, cmap=\"Blues\", annot=True,fmt='2d')\n",
    "plt.title(\"Test Confusion Matrix\")"
   ]
  },
  {
   "cell_type": "markdown",
   "metadata": {
    "colab_type": "text",
    "id": "PnwVzXytiWO7"
   },
   "source": [
    "## Applying Decision Trees on TFIDF W2V"
   ]
  },
  {
   "cell_type": "markdown",
   "metadata": {
    "colab": {},
    "colab_type": "code",
    "id": "YqODkVCgiWO7"
   },
   "source": [
    "## Converting Train data to Tfidf_w2v"
   ]
  },
  {
   "cell_type": "code",
   "execution_count": 54,
   "metadata": {},
   "outputs": [],
   "source": [
    "model = TfidfVectorizer(norm='l1')\n",
    "tf_idf_matrix_train = model.fit_transform(X_train)\n",
    "# we are converting a dictionary with word as a key, and the idf as a value\n",
    "dictionary = dict(zip(model.get_feature_names(), list(model.idf_)))"
   ]
  },
  {
   "cell_type": "code",
   "execution_count": 55,
   "metadata": {},
   "outputs": [
    {
     "name": "stderr",
     "output_type": "stream",
     "text": [
      "100%|████████████████████████████████████████████████████████████████████████████| 56174/56174 [36:00<00:00, 26.00it/s]\n"
     ]
    }
   ],
   "source": [
    "# TF-IDF weighted Word2Vec\n",
    "tfidf_feat = model.get_feature_names() # tfidf words/col-names\n",
    "# final_tf_idf is the sparse matrix with row= sentence, col=word and cell_val = tfidf\n",
    "\n",
    "tfidf_sent_vectors_train = []; # the tfidf-w2v for each sentence/review is stored in this list\n",
    "row=0;\n",
    "for sent in tqdm(list_of_sentance_train): # for each review/sentence \n",
    "    sent_vec = np.zeros(50) # as word vectors are of zero length\n",
    "    weight_sum =0; # num of words with a valid vector in the sentence/review\n",
    "    for word in sent: # for each word in a review/sentence\n",
    "        if word in w2v_words and word in tfidf_feat:\n",
    "            vec = w2v_model.wv[word]\n",
    "#             tf_idf = tf_idf_matrix[row, tfidf_feat.index(word)]\n",
    "            # to reduce the computation we are \n",
    "            # dictionary[word] = idf value of word in whole courpus\n",
    "            # sent.count(word) = tf valeus of word in this review\n",
    "            tf_idf = dictionary[word]*(sent.count(word)/len(sent))\n",
    "            sent_vec += (vec * tf_idf)\n",
    "            weight_sum += tf_idf\n",
    "    if weight_sum != 0:\n",
    "        sent_vec /= weight_sum\n",
    "    tfidf_sent_vectors_train.append(sent_vec)\n",
    "    row += 1"
   ]
  },
  {
   "cell_type": "code",
   "execution_count": 56,
   "metadata": {},
   "outputs": [],
   "source": [
    "tfidf_sent_vectors_train = np.array(tfidf_sent_vectors_train)"
   ]
  },
  {
   "cell_type": "code",
   "execution_count": 57,
   "metadata": {},
   "outputs": [
    {
     "name": "stdout",
     "output_type": "stream",
     "text": [
      "(56174, 50)\n",
      "[-1.34122182e-01 -1.87977637e-01  2.86143294e-01  1.72376146e-01\n",
      " -4.49649756e-01 -8.26726459e-02 -8.35226564e-01  3.39047744e-01\n",
      "  2.49116842e-02 -6.62930672e-01  2.85774624e-01 -3.87977924e-01\n",
      "  2.51826278e-01  4.54321261e-01 -6.46677735e-01  6.17343771e-01\n",
      " -8.70820312e-02  2.96407482e-01  4.94610597e-02  4.39097847e-01\n",
      "  1.07915378e-01  4.70386234e-01 -3.25521996e-01 -9.31881007e-01\n",
      " -2.07344765e-01 -9.27619098e-02 -1.53894055e-01 -5.63802693e-02\n",
      "  1.88001154e-01  8.69300173e-01 -4.23407714e-01 -3.62257894e-01\n",
      "  3.46642949e-01 -2.90403967e-01  3.33406098e-01  3.37720257e-01\n",
      " -1.81931292e-02  2.86397829e-01  1.13858454e-01 -1.18503347e+00\n",
      "  1.86698382e-02 -5.85654213e-04  3.55451641e-01  8.64208338e-01\n",
      " -1.52110876e-01  4.30637837e-01  6.81718862e-01  5.52177885e-01\n",
      "  7.97280308e-01 -3.39462916e-01]\n"
     ]
    }
   ],
   "source": [
    "print(tfidf_sent_vectors_train.shape)\n",
    "print(tfidf_sent_vectors_train[0])"
   ]
  },
  {
   "cell_type": "markdown",
   "metadata": {},
   "source": [
    "## Converting CV data to tfidf-w2v"
   ]
  },
  {
   "cell_type": "code",
   "execution_count": 58,
   "metadata": {},
   "outputs": [
    {
     "name": "stderr",
     "output_type": "stream",
     "text": [
      "100%|████████████████████████████████████████████████████████████████████████████| 14044/14044 [08:29<00:00, 27.59it/s]\n"
     ]
    }
   ],
   "source": [
    "\n",
    "tfidf_sent_vectors_cv = []; # the tfidf-w2v for each sentence/review is stored in this list\n",
    "row=0;\n",
    "for sent in tqdm(list_of_sentance_cv): # for each review/sentence \n",
    "    sent_vec = np.zeros(50) # as word vectors are of zero length\n",
    "    weight_sum =0; # num of words with a valid vector in the sentence/review\n",
    "    for word in sent: # for each word in a review/sentence\n",
    "        if word in w2v_words and word in tfidf_feat:\n",
    "            vec = w2v_model.wv[word]\n",
    "#             tf_idf = tf_idf_matrix[row, tfidf_feat.index(word)]\n",
    "            # to reduce the computation we are \n",
    "            # dictionary[word] = idf value of word in whole courpus\n",
    "            # sent.count(word) = tf valeus of word in this review\n",
    "            tf_idf = dictionary[word]*(sent.count(word)/len(sent))# Using same dictioanry which is created for train\n",
    "            sent_vec += (vec * tf_idf)\n",
    "            weight_sum += tf_idf\n",
    "    if weight_sum != 0:\n",
    "        sent_vec /= weight_sum\n",
    "    tfidf_sent_vectors_cv.append(sent_vec)\n",
    "    row += 1"
   ]
  },
  {
   "cell_type": "code",
   "execution_count": 59,
   "metadata": {},
   "outputs": [],
   "source": [
    "tfidf_sent_vectors_cv = np.array(tfidf_sent_vectors_cv)"
   ]
  },
  {
   "cell_type": "code",
   "execution_count": 60,
   "metadata": {},
   "outputs": [
    {
     "name": "stdout",
     "output_type": "stream",
     "text": [
      "(14044, 50)\n",
      "[-0.32451702 -0.37879885 -0.59672488  0.21154801 -0.22724102 -0.62177451\n",
      " -0.35618379  0.24595046  0.04813326  0.19687833  0.28530184 -0.52988626\n",
      "  0.0493418   0.90394465 -0.28497446  0.71876355  0.02809051  0.02917751\n",
      "  0.25650841 -0.01870639 -0.06012093  0.09386846  0.13106105 -0.40374005\n",
      "  0.35303428  0.834633   -0.54963726  0.39018683  0.32928001  0.80014903\n",
      "  0.66741774 -0.30457004  0.39693245 -0.1680415   0.84341417  0.35788032\n",
      "  0.91699622  0.18545899  0.11473545  0.31158035  0.35332794 -0.57610438\n",
      " -0.27372568 -0.34563667  0.20892795  1.09103784 -0.37454096  0.46000045\n",
      " -0.52396132  0.12708561]\n"
     ]
    }
   ],
   "source": [
    "print(tfidf_sent_vectors_cv.shape)\n",
    "print(tfidf_sent_vectors_cv[0])"
   ]
  },
  {
   "cell_type": "markdown",
   "metadata": {},
   "source": [
    "## Converting Test data to tfidf-w2v"
   ]
  },
  {
   "cell_type": "code",
   "execution_count": 61,
   "metadata": {},
   "outputs": [
    {
     "name": "stderr",
     "output_type": "stream",
     "text": [
      "100%|████████████████████████████████████████████████████████████████████████████| 17555/17555 [10:34<00:00, 21.86it/s]\n"
     ]
    }
   ],
   "source": [
    "\n",
    "tfidf_sent_vectors_test = []; # the tfidf-w2v for each sentence/review is stored in this list\n",
    "row=0;\n",
    "for sent in tqdm(list_of_sentance_test): # for each review/sentence \n",
    "    sent_vec = np.zeros(50) # as word vectors are of zero length\n",
    "    weight_sum =0; # num of words with a valid vector in the sentence/review\n",
    "    for word in sent: # for each word in a review/sentence\n",
    "        if word in w2v_words and word in tfidf_feat:\n",
    "            vec = w2v_model.wv[word]\n",
    "#             tf_idf = tf_idf_matrix[row, tfidf_feat.index(word)]\n",
    "            # to reduce the computation we are \n",
    "            # dictionary[word] = idf value of word in whole courpus\n",
    "            # sent.count(word) = tf valeus of word in this review\n",
    "            tf_idf = dictionary[word]*(sent.count(word)/len(sent))# Using the same dictionary which is created for train\n",
    "            sent_vec += (vec * tf_idf)\n",
    "            weight_sum += tf_idf\n",
    "    if weight_sum != 0:\n",
    "        sent_vec /= weight_sum\n",
    "    tfidf_sent_vectors_test.append(sent_vec)\n",
    "    row += 1"
   ]
  },
  {
   "cell_type": "code",
   "execution_count": 62,
   "metadata": {},
   "outputs": [],
   "source": [
    "tfidf_sent_vectors_test = np.array(tfidf_sent_vectors_test)"
   ]
  },
  {
   "cell_type": "code",
   "execution_count": 63,
   "metadata": {},
   "outputs": [
    {
     "name": "stdout",
     "output_type": "stream",
     "text": [
      "(17555, 50)\n",
      "[-1.09830368  0.05567868  0.42790069 -0.23245973  0.09944499 -0.80194011\n",
      "  0.11058257  0.6666076   0.37939317  0.01033726  0.57953171 -0.25485179\n",
      " -0.29437402  0.06864687 -0.83148714  0.64636043 -0.57321291  0.81662938\n",
      "  0.4280058  -0.65828451 -0.15602646  0.67635672  0.40668076 -1.12377633\n",
      "  0.11457005 -0.57890863 -0.11133807 -0.01601785  0.56870663  0.89977049\n",
      " -0.49887368 -0.01884592  0.62705956 -0.27434293  0.02692884 -0.18147701\n",
      "  1.05292933  0.21103415  0.29442986 -0.57790131  0.03627283 -0.21939878\n",
      " -0.21238767  0.38859658 -0.38424746  0.98686071 -0.06512394  0.06219954\n",
      " -0.24696275  0.42707662]\n"
     ]
    }
   ],
   "source": [
    "print(tfidf_sent_vectors_test.shape)\n",
    "print(tfidf_sent_vectors_test[0])"
   ]
  },
  {
   "cell_type": "markdown",
   "metadata": {},
   "source": [
    "## Hyperparameter tuning to find best \"depth\" and 'min_samples_split\"' using RandomizedSearchCV"
   ]
  },
  {
   "cell_type": "code",
   "execution_count": 64,
   "metadata": {},
   "outputs": [],
   "source": [
    "from sklearn.model_selection import RandomizedSearchCV\n",
    "# Assigning values to the parameters\n",
    "depth=[1, 5, 10, 50, 100, 500, 1000]\n",
    "min_samples_split=[5, 10, 100, 500]\n",
    "params_grid=dict(max_depth=depth,min_samples_split=min_samples_split)"
   ]
  },
  {
   "cell_type": "code",
   "execution_count": 65,
   "metadata": {},
   "outputs": [],
   "source": [
    "# Estimator\n",
    "\n",
    "from sklearn.tree import DecisionTreeClassifier\n",
    "DT=DecisionTreeClassifier(class_weight='balanced',random_state=3)"
   ]
  },
  {
   "cell_type": "code",
   "execution_count": 69,
   "metadata": {},
   "outputs": [
    {
     "data": {
      "text/plain": [
       "RandomizedSearchCV(cv=5, error_score='raise-deprecating',\n",
       "                   estimator=DecisionTreeClassifier(class_weight='balanced',\n",
       "                                                    criterion='gini',\n",
       "                                                    max_depth=None,\n",
       "                                                    max_features=None,\n",
       "                                                    max_leaf_nodes=None,\n",
       "                                                    min_impurity_decrease=0.0,\n",
       "                                                    min_impurity_split=None,\n",
       "                                                    min_samples_leaf=1,\n",
       "                                                    min_samples_split=2,\n",
       "                                                    min_weight_fraction_leaf=0.0,\n",
       "                                                    presort=False,\n",
       "                                                    random_state=3,\n",
       "                                                    splitter='best'),\n",
       "                   iid='warn', n_iter=100, n_jobs=-1,\n",
       "                   param_distributions={'max_depth': [1, 5, 10, 50, 100, 500,\n",
       "                                                      1000],\n",
       "                                        'min_samples_split': [5, 10, 100, 500]},\n",
       "                   pre_dispatch='2*n_jobs', random_state=None, refit=True,\n",
       "                   return_train_score=False, scoring='roc_auc', verbose=0)"
      ]
     },
     "execution_count": 69,
     "metadata": {},
     "output_type": "execute_result"
    }
   ],
   "source": [
    "# Building RandomizedsSearchCV\n",
    "\n",
    "DT_RandomCV=RandomizedSearchCV(DT,params_grid,cv=5,n_iter=100,scoring='roc_auc',n_jobs=-1)\n",
    "DT_RandomCV.fit(tfidf_sent_vectors_train,y_train)"
   ]
  },
  {
   "cell_type": "code",
   "execution_count": 70,
   "metadata": {},
   "outputs": [
    {
     "data": {
      "text/plain": [
       "{'min_samples_split': 500, 'max_depth': 10}"
      ]
     },
     "execution_count": 70,
     "metadata": {},
     "output_type": "execute_result"
    }
   ],
   "source": [
    "# Finding best parameters\n",
    "DT_RandomCV.best_params_"
   ]
  },
  {
   "cell_type": "markdown",
   "metadata": {},
   "source": [
    "## Building Decision Tree using best the parameters"
   ]
  },
  {
   "cell_type": "code",
   "execution_count": 72,
   "metadata": {},
   "outputs": [
    {
     "data": {
      "image/png": "[encoded data removed]",
      "text/plain": [
       "<Figure size 432x288 with 1 Axes>"
      ]
     },
     "metadata": {},
     "output_type": "display_data"
    }
   ],
   "source": [
    "from sklearn.tree import DecisionTreeClassifier\n",
    "DT=DecisionTreeClassifier(max_depth=10,min_samples_split=500,class_weight='balanced',random_state=6)\n",
    "DT.fit(tfidf_sent_vectors_train,y_train)\n",
    "\n",
    "# roc_auc_score(y_true, y_score) the 2nd parameter should be probability estimates of the positive class\n",
    "# not the predicted outputs\n",
    "\n",
    "y_train_pred =  DT.predict_proba(tfidf_sent_vectors_train)[:,1]\n",
    "y_cv_pred =  DT.predict_proba(tfidf_sent_vectors_cv)[:,1]\n",
    "y_test_pred=DT.predict_proba(tfidf_sent_vectors_test)[:,1]\n",
    "\n",
    "train_fpr, train_tpr, thresholds_tr = roc_curve(y_train, DT.predict_proba(tfidf_sent_vectors_train)[:,1])\n",
    "test_fpr, test_tpr, thresholds_te = roc_curve(y_test, DT.predict_proba(tfidf_sent_vectors_test)[:,1])\n",
    "\n",
    "plt.plot(train_fpr, train_tpr, label=\"train AUC =\"+str(auc(train_fpr, train_tpr)))\n",
    "plt.plot(test_fpr, test_tpr, label=\"test AUC =\"+str(auc(test_fpr, test_tpr)))\n",
    "plt.plot([0, 1], [0, 1],'r--')\n",
    "plt.xlim([0,1])\n",
    "plt.ylim([0,1])\n",
    "plt.legend()\n",
    "plt.xlabel(\"False Positive Rate(FPR)\")\n",
    "plt.ylabel(\"True Positive Rate(TPR)\")\n",
    "plt.title(\"Receiver Operating Characteristic Curves(ROC)\")\n",
    "plt.show()\n",
    "\n"
   ]
  },
  {
   "cell_type": "code",
   "execution_count": 73,
   "metadata": {},
   "outputs": [
    {
     "name": "stdout",
     "output_type": "stream",
     "text": [
      "\n",
      "The maximum value of tpr*(1-fpr) 0.582922067864475 for threshold 0.481\n",
      "\n",
      "Train confusion matrix:\n",
      "\n",
      "[[ 7853  1970]\n",
      " [12554 33797]]\n",
      "\n",
      "Test confusion matrix:\n",
      "\n",
      "[[ 1471   696]\n",
      " [ 4319 11069]]\n"
     ]
    }
   ],
   "source": [
    "\n",
    "print()\n",
    "from sklearn.metrics import confusion_matrix\n",
    "best_t = find_best_threshold(thresholds_tr, train_fpr, train_tpr)\n",
    "print(\"Train confusion matrix:\")\n",
    "print()\n",
    "print(confusion_matrix(y_train, predict_with_best_t(y_train_pred, best_t)))\n",
    "print()\n",
    "print(\"Test confusion matrix:\")\n",
    "print()\n",
    "print(confusion_matrix(y_test, predict_with_best_t(y_test_pred, best_t)))"
   ]
  },
  {
   "cell_type": "code",
   "execution_count": 74,
   "metadata": {},
   "outputs": [],
   "source": [
    "Train_Confusion_Matrix=confusion_matrix(y_train, predict_with_best_t(y_train_pred, best_t))\n",
    "Test_Confusion_Matrix=confusion_matrix(y_test, predict_with_best_t(y_test_pred, best_t))\n",
    "df_Train=pd.DataFrame(Train_Confusion_Matrix,columns=np.unique(y_train), index = np.unique(y_train))\n",
    "df_Test=pd.DataFrame(Test_Confusion_Matrix,columns=np.unique(y_test), index = np.unique(y_test))\n",
    "df_Train.index.name = 'Actual'\n",
    "df_Train.columns.name = 'Predicted'\n",
    "df_Test.index.name = 'Actual'\n",
    "df_Test.columns.name = 'Predicted'\n"
   ]
  },
  {
   "cell_type": "code",
   "execution_count": 75,
   "metadata": {},
   "outputs": [
    {
     "data": {
      "text/plain": [
       "Text(0.5, 1, 'Train Confusion Matrix')"
      ]
     },
     "execution_count": 75,
     "metadata": {},
     "output_type": "execute_result"
    },
    {
     "data": {
      "image/png": "[encoded data removed]",
      "text/plain": [
       "<Figure size 504x288 with 2 Axes>"
      ]
     },
     "metadata": {},
     "output_type": "display_data"
    }
   ],
   "source": [
    "plt.figure(figsize = (7,4))\n",
    "sns.set(font_scale=1)#for label size\n",
    "sns.heatmap(df_Train, cmap=\"Blues\", annot=True,fmt='2d')\n",
    "plt.title(\"Train Confusion Matrix\")"
   ]
  },
  {
   "cell_type": "code",
   "execution_count": 76,
   "metadata": {},
   "outputs": [
    {
     "data": {
      "text/plain": [
       "Text(0.5, 1, 'Test Confusion Matrix')"
      ]
     },
     "execution_count": 76,
     "metadata": {},
     "output_type": "execute_result"
    },
    {
     "data": {
      "image/png": "[encoded data removed]",
      "text/plain": [
       "<Figure size 504x288 with 2 Axes>"
      ]
     },
     "metadata": {},
     "output_type": "display_data"
    }
   ],
   "source": [
    "plt.figure(figsize = (7,4))\n",
    "sns.set(font_scale=1)#for label size\n",
    "sns.heatmap(df_Test, cmap=\"Blues\", annot=True,fmt='2d')\n",
    "plt.title(\"Test Confusion Matrix\")"
   ]
  },
  {
   "cell_type": "markdown",
   "metadata": {},
   "source": [
    "## Converting Train data to Tfidf_w2v :l2 regularization"
   ]
  },
  {
   "cell_type": "code",
   "execution_count": 77,
   "metadata": {},
   "outputs": [],
   "source": [
    "model = TfidfVectorizer(norm='l2')\n",
    "tf_idf_matrix_train = model.fit_transform(X_train)\n",
    "# we are converting a dictionary with word as a key, and the idf as a value\n",
    "dictionary = dict(zip(model.get_feature_names(), list(model.idf_)))"
   ]
  },
  {
   "cell_type": "code",
   "execution_count": 78,
   "metadata": {},
   "outputs": [
    {
     "name": "stderr",
     "output_type": "stream",
     "text": [
      "100%|████████████████████████████████████████████████████████████████████████████| 56174/56174 [34:16<00:00, 27.31it/s]\n"
     ]
    }
   ],
   "source": [
    "# TF-IDF weighted Word2Vec\n",
    "tfidf_feat = model.get_feature_names() # tfidf words/col-names\n",
    "# final_tf_idf is the sparse matrix with row= sentence, col=word and cell_val = tfidf\n",
    "\n",
    "tfidf_sent_vectors_train = []; # the tfidf-w2v for each sentence/review is stored in this list\n",
    "row=0;\n",
    "for sent in tqdm(list_of_sentance_train): # for each review/sentence \n",
    "    sent_vec = np.zeros(50) # as word vectors are of zero length\n",
    "    weight_sum =0; # num of words with a valid vector in the sentence/review\n",
    "    for word in sent: # for each word in a review/sentence\n",
    "        if word in w2v_words and word in tfidf_feat:\n",
    "            vec = w2v_model.wv[word]\n",
    "#             tf_idf = tf_idf_matrix[row, tfidf_feat.index(word)]\n",
    "            # to reduce the computation we are \n",
    "            # dictionary[word] = idf value of word in whole courpus\n",
    "            # sent.count(word) = tf valeus of word in this review\n",
    "            tf_idf = dictionary[word]*(sent.count(word)/len(sent))\n",
    "            sent_vec += (vec * tf_idf)\n",
    "            weight_sum += tf_idf\n",
    "    if weight_sum != 0:\n",
    "        sent_vec /= weight_sum\n",
    "    tfidf_sent_vectors_train.append(sent_vec)\n",
    "    row += 1"
   ]
  },
  {
   "cell_type": "code",
   "execution_count": 79,
   "metadata": {},
   "outputs": [],
   "source": [
    "tfidf_sent_vectors_train = np.array(tfidf_sent_vectors_train)"
   ]
  },
  {
   "cell_type": "code",
   "execution_count": 80,
   "metadata": {},
   "outputs": [
    {
     "name": "stdout",
     "output_type": "stream",
     "text": [
      "(56174, 50)\n",
      "[-1.34122182e-01 -1.87977637e-01  2.86143294e-01  1.72376146e-01\n",
      " -4.49649756e-01 -8.26726459e-02 -8.35226564e-01  3.39047744e-01\n",
      "  2.49116842e-02 -6.62930672e-01  2.85774624e-01 -3.87977924e-01\n",
      "  2.51826278e-01  4.54321261e-01 -6.46677735e-01  6.17343771e-01\n",
      " -8.70820312e-02  2.96407482e-01  4.94610597e-02  4.39097847e-01\n",
      "  1.07915378e-01  4.70386234e-01 -3.25521996e-01 -9.31881007e-01\n",
      " -2.07344765e-01 -9.27619098e-02 -1.53894055e-01 -5.63802693e-02\n",
      "  1.88001154e-01  8.69300173e-01 -4.23407714e-01 -3.62257894e-01\n",
      "  3.46642949e-01 -2.90403967e-01  3.33406098e-01  3.37720257e-01\n",
      " -1.81931292e-02  2.86397829e-01  1.13858454e-01 -1.18503347e+00\n",
      "  1.86698382e-02 -5.85654213e-04  3.55451641e-01  8.64208338e-01\n",
      " -1.52110876e-01  4.30637837e-01  6.81718862e-01  5.52177885e-01\n",
      "  7.97280308e-01 -3.39462916e-01]\n"
     ]
    }
   ],
   "source": [
    "print(tfidf_sent_vectors_train.shape)\n",
    "print(tfidf_sent_vectors_train[0])"
   ]
  },
  {
   "cell_type": "markdown",
   "metadata": {},
   "source": [
    "## Converting CV data to tfidf-w2v"
   ]
  },
  {
   "cell_type": "code",
   "execution_count": 81,
   "metadata": {},
   "outputs": [
    {
     "name": "stderr",
     "output_type": "stream",
     "text": [
      "100%|████████████████████████████████████████████████████████████████████████████| 14044/14044 [08:06<00:00, 28.88it/s]\n"
     ]
    }
   ],
   "source": [
    "\n",
    "tfidf_sent_vectors_cv = []; # the tfidf-w2v for each sentence/review is stored in this list\n",
    "row=0;\n",
    "for sent in tqdm(list_of_sentance_cv): # for each review/sentence \n",
    "    sent_vec = np.zeros(50) # as word vectors are of zero length\n",
    "    weight_sum =0; # num of words with a valid vector in the sentence/review\n",
    "    for word in sent: # for each word in a review/sentence\n",
    "        if word in w2v_words and word in tfidf_feat:\n",
    "            vec = w2v_model.wv[word]\n",
    "#             tf_idf = tf_idf_matrix[row, tfidf_feat.index(word)]\n",
    "            # to reduce the computation we are \n",
    "            # dictionary[word] = idf value of word in whole courpus\n",
    "            # sent.count(word) = tf valeus of word in this review\n",
    "            tf_idf = dictionary[word]*(sent.count(word)/len(sent))\n",
    "            sent_vec += (vec * tf_idf)\n",
    "            weight_sum += tf_idf\n",
    "    if weight_sum != 0:\n",
    "        sent_vec /= weight_sum\n",
    "    tfidf_sent_vectors_cv.append(sent_vec)\n",
    "    row += 1"
   ]
  },
  {
   "cell_type": "code",
   "execution_count": 82,
   "metadata": {},
   "outputs": [],
   "source": [
    "tfidf_sent_vectors_cv = np.array(tfidf_sent_vectors_cv)"
   ]
  },
  {
   "cell_type": "code",
   "execution_count": 83,
   "metadata": {},
   "outputs": [
    {
     "name": "stdout",
     "output_type": "stream",
     "text": [
      "(14044, 50)\n",
      "[-0.32451702 -0.37879885 -0.59672488  0.21154801 -0.22724102 -0.62177451\n",
      " -0.35618379  0.24595046  0.04813326  0.19687833  0.28530184 -0.52988626\n",
      "  0.0493418   0.90394465 -0.28497446  0.71876355  0.02809051  0.02917751\n",
      "  0.25650841 -0.01870639 -0.06012093  0.09386846  0.13106105 -0.40374005\n",
      "  0.35303428  0.834633   -0.54963726  0.39018683  0.32928001  0.80014903\n",
      "  0.66741774 -0.30457004  0.39693245 -0.1680415   0.84341417  0.35788032\n",
      "  0.91699622  0.18545899  0.11473545  0.31158035  0.35332794 -0.57610438\n",
      " -0.27372568 -0.34563667  0.20892795  1.09103784 -0.37454096  0.46000045\n",
      " -0.52396132  0.12708561]\n"
     ]
    }
   ],
   "source": [
    "print(tfidf_sent_vectors_cv.shape)\n",
    "print(tfidf_sent_vectors_cv[0])"
   ]
  },
  {
   "cell_type": "markdown",
   "metadata": {},
   "source": [
    "## Converting Test data to tfidf-w2v"
   ]
  },
  {
   "cell_type": "code",
   "execution_count": 84,
   "metadata": {},
   "outputs": [
    {
     "name": "stderr",
     "output_type": "stream",
     "text": [
      "100%|████████████████████████████████████████████████████████████████████████████| 17555/17555 [10:06<00:00, 28.95it/s]\n"
     ]
    }
   ],
   "source": [
    "tfidf_sent_vectors_test = []; # the tfidf-w2v for each sentence/review is stored in this list\n",
    "row=0;\n",
    "for sent in tqdm(list_of_sentance_test): # for each review/sentence \n",
    "    sent_vec = np.zeros(50) # as word vectors are of zero length\n",
    "    weight_sum =0; # num of words with a valid vector in the sentence/review\n",
    "    for word in sent: # for each word in a review/sentence\n",
    "        if word in w2v_words and word in tfidf_feat:\n",
    "            vec = w2v_model.wv[word]\n",
    "#             tf_idf = tf_idf_matrix[row, tfidf_feat.index(word)]\n",
    "            # to reduce the computation we are \n",
    "            # dictionary[word] = idf value of word in whole courpus\n",
    "            # sent.count(word) = tf valeus of word in this review\n",
    "            tf_idf = dictionary[word]*(sent.count(word)/len(sent))\n",
    "            sent_vec += (vec * tf_idf)\n",
    "            weight_sum += tf_idf\n",
    "    if weight_sum != 0:\n",
    "        sent_vec /= weight_sum\n",
    "    tfidf_sent_vectors_test.append(sent_vec)\n",
    "    row += 1"
   ]
  },
  {
   "cell_type": "code",
   "execution_count": 85,
   "metadata": {},
   "outputs": [],
   "source": [
    "tfidf_sent_vectors_test = np.array(tfidf_sent_vectors_test)"
   ]
  },
  {
   "cell_type": "code",
   "execution_count": 86,
   "metadata": {},
   "outputs": [
    {
     "name": "stdout",
     "output_type": "stream",
     "text": [
      "(17555, 50)\n",
      "[-1.09830368  0.05567868  0.42790069 -0.23245973  0.09944499 -0.80194011\n",
      "  0.11058257  0.6666076   0.37939317  0.01033726  0.57953171 -0.25485179\n",
      " -0.29437402  0.06864687 -0.83148714  0.64636043 -0.57321291  0.81662938\n",
      "  0.4280058  -0.65828451 -0.15602646  0.67635672  0.40668076 -1.12377633\n",
      "  0.11457005 -0.57890863 -0.11133807 -0.01601785  0.56870663  0.89977049\n",
      " -0.49887368 -0.01884592  0.62705956 -0.27434293  0.02692884 -0.18147701\n",
      "  1.05292933  0.21103415  0.29442986 -0.57790131  0.03627283 -0.21939878\n",
      " -0.21238767  0.38859658 -0.38424746  0.98686071 -0.06512394  0.06219954\n",
      " -0.24696275  0.42707662]\n"
     ]
    }
   ],
   "source": [
    "print(tfidf_sent_vectors_test.shape)\n",
    "print(tfidf_sent_vectors_test[0])"
   ]
  },
  {
   "cell_type": "markdown",
   "metadata": {},
   "source": [
    "## Hyperparameter tuning to find best \"depth\" and 'min_samples_split\"' using RandomizedSearchCV"
   ]
  },
  {
   "cell_type": "code",
   "execution_count": 87,
   "metadata": {},
   "outputs": [],
   "source": [
    "from sklearn.model_selection import RandomizedSearchCV\n",
    "# Assigning values to the parameters\n",
    "depth=[1, 5, 10, 50, 100, 500, 1000]\n",
    "min_samples_split=[5, 10, 100, 500]\n",
    "params_grid=dict(max_depth=depth,min_samples_split=min_samples_split)"
   ]
  },
  {
   "cell_type": "code",
   "execution_count": 88,
   "metadata": {},
   "outputs": [],
   "source": [
    "# Estimator\n",
    "\n",
    "from sklearn.tree import DecisionTreeClassifier\n",
    "DT=DecisionTreeClassifier(class_weight='balanced',random_state=7)"
   ]
  },
  {
   "cell_type": "code",
   "execution_count": 89,
   "metadata": {},
   "outputs": [
    {
     "data": {
      "text/plain": [
       "RandomizedSearchCV(cv=5, error_score='raise-deprecating',\n",
       "                   estimator=DecisionTreeClassifier(class_weight='balanced',\n",
       "                                                    criterion='gini',\n",
       "                                                    max_depth=None,\n",
       "                                                    max_features=None,\n",
       "                                                    max_leaf_nodes=None,\n",
       "                                                    min_impurity_decrease=0.0,\n",
       "                                                    min_impurity_split=None,\n",
       "                                                    min_samples_leaf=1,\n",
       "                                                    min_samples_split=2,\n",
       "                                                    min_weight_fraction_leaf=0.0,\n",
       "                                                    presort=False,\n",
       "                                                    random_state=7,\n",
       "                                                    splitter='best'),\n",
       "                   iid='warn', n_iter=100, n_jobs=-1,\n",
       "                   param_distributions={'max_depth': [1, 5, 10, 50, 100, 500,\n",
       "                                                      1000],\n",
       "                                        'min_samples_split': [5, 10, 100, 500]},\n",
       "                   pre_dispatch='2*n_jobs', random_state=None, refit=True,\n",
       "                   return_train_score=False, scoring='roc_auc', verbose=0)"
      ]
     },
     "execution_count": 89,
     "metadata": {},
     "output_type": "execute_result"
    }
   ],
   "source": [
    "# Building RandomizedsSearchCV\n",
    "\n",
    "DT_RandomCV=RandomizedSearchCV(DT,params_grid,cv=5,n_iter=100,scoring='roc_auc',n_jobs=-1)\n",
    "DT_RandomCV.fit(tfidf_sent_vectors_train,y_train)"
   ]
  },
  {
   "cell_type": "code",
   "execution_count": 90,
   "metadata": {},
   "outputs": [
    {
     "data": {
      "text/plain": [
       "{'min_samples_split': 500, 'max_depth': 10}"
      ]
     },
     "execution_count": 90,
     "metadata": {},
     "output_type": "execute_result"
    }
   ],
   "source": [
    "# Finding best parameters\n",
    "DT_RandomCV.best_params_"
   ]
  },
  {
   "cell_type": "markdown",
   "metadata": {},
   "source": [
    "## Building Decision Tree using best the parameters"
   ]
  },
  {
   "cell_type": "code",
   "execution_count": 92,
   "metadata": {},
   "outputs": [
    {
     "data": {
      "image/png": "[encoded data removed]",
      "text/plain": [
       "<Figure size 432x288 with 1 Axes>"
      ]
     },
     "metadata": {},
     "output_type": "display_data"
    }
   ],
   "source": [
    "from sklearn.tree import DecisionTreeClassifier\n",
    "DT=DecisionTreeClassifier(max_depth=10,min_samples_split=500,class_weight='balanced',random_state=2)\n",
    "DT.fit(tfidf_sent_vectors_train,y_train)\n",
    "\n",
    "# roc_auc_score(y_true, y_score) the 2nd parameter should be probability estimates of the positive class\n",
    "# not the predicted outputs\n",
    "\n",
    "y_train_pred =  DT.predict_proba(tfidf_sent_vectors_train)[:,1]\n",
    "y_cv_pred =  DT.predict_proba(tfidf_sent_vectors_cv)[:,1]\n",
    "y_test_pred=DT.predict_proba(tfidf_sent_vectors_test)[:,1]\n",
    "\n",
    "train_fpr, train_tpr, thresholds_tr = roc_curve(y_train, DT.predict_proba(tfidf_sent_vectors_train)[:,1])\n",
    "test_fpr, test_tpr, thresholds_te = roc_curve(y_test, DT.predict_proba(tfidf_sent_vectors_test)[:,1])\n",
    "\n",
    "plt.plot(train_fpr, train_tpr, label=\"train AUC =\"+str(auc(train_fpr, train_tpr)))\n",
    "plt.plot(test_fpr, test_tpr, label=\"test AUC =\"+str(auc(test_fpr, test_tpr)))\n",
    "plt.plot([0, 1], [0, 1],'r--')\n",
    "plt.xlim([0,1])\n",
    "plt.ylim([0,1])\n",
    "plt.legend()\n",
    "plt.xlabel(\"False Positive Rate(FPR)\")\n",
    "plt.ylabel(\"True Positive Rate(TPR)\")\n",
    "plt.title(\"Receiver Operating Characteristic Curves(ROC)\")\n",
    "plt.show()\n",
    "\n"
   ]
  },
  {
   "cell_type": "code",
   "execution_count": 93,
   "metadata": {},
   "outputs": [
    {
     "name": "stdout",
     "output_type": "stream",
     "text": [
      "\n",
      "The maximum value of tpr*(1-fpr) 0.5828582975471525 for threshold 0.481\n",
      "\n",
      "Train confusion matrix:\n",
      "\n",
      "[[ 7854  1969]\n",
      " [12562 33789]]\n",
      "\n",
      "Test confusion matrix:\n",
      "\n",
      "[[ 1471   696]\n",
      " [ 4323 11065]]\n"
     ]
    }
   ],
   "source": [
    "\n",
    "print()\n",
    "from sklearn.metrics import confusion_matrix\n",
    "best_t = find_best_threshold(thresholds_tr, train_fpr, train_tpr)\n",
    "print(\"Train confusion matrix:\")\n",
    "print()\n",
    "print(confusion_matrix(y_train, predict_with_best_t(y_train_pred, best_t)))\n",
    "print()\n",
    "print(\"Test confusion matrix:\")\n",
    "print()\n",
    "print(confusion_matrix(y_test, predict_with_best_t(y_test_pred, best_t)))"
   ]
  },
  {
   "cell_type": "code",
   "execution_count": 94,
   "metadata": {},
   "outputs": [],
   "source": [
    "Train_Confusion_Matrix=confusion_matrix(y_train, predict_with_best_t(y_train_pred, best_t))\n",
    "Test_Confusion_Matrix=confusion_matrix(y_test, predict_with_best_t(y_test_pred, best_t))\n",
    "df_Train=pd.DataFrame(Train_Confusion_Matrix,columns=np.unique(y_train), index = np.unique(y_train))\n",
    "df_Test=pd.DataFrame(Test_Confusion_Matrix,columns=np.unique(y_test), index = np.unique(y_test))\n",
    "df_Train.index.name = 'Actual'\n",
    "df_Train.columns.name = 'Predicted'\n",
    "df_Test.index.name = 'Actual'\n",
    "df_Test.columns.name = 'Predicted'\n"
   ]
  },
  {
   "cell_type": "code",
   "execution_count": 95,
   "metadata": {},
   "outputs": [
    {
     "data": {
      "text/plain": [
       "Text(0.5, 1, 'Train Confusion Matrix')"
      ]
     },
     "execution_count": 95,
     "metadata": {},
     "output_type": "execute_result"
    },
    {
     "data": {
      "image/png": "[encoded data removed]",
      "text/plain": [
       "<Figure size 504x288 with 2 Axes>"
      ]
     },
     "metadata": {},
     "output_type": "display_data"
    }
   ],
   "source": [
    "plt.figure(figsize = (7,4))\n",
    "sns.set(font_scale=1)#for label size\n",
    "sns.heatmap(df_Train, cmap=\"Blues\", annot=True,fmt='2d')\n",
    "plt.title(\"Train Confusion Matrix\")"
   ]
  },
  {
   "cell_type": "code",
   "execution_count": 96,
   "metadata": {},
   "outputs": [
    {
     "data": {
      "text/plain": [
       "Text(0.5, 1, 'Test Confusion Matrix')"
      ]
     },
     "execution_count": 96,
     "metadata": {},
     "output_type": "execute_result"
    },
    {
     "data": {
      "image/png": "[encoded data removed]",
      "text/plain": [
       "<Figure size 504x288 with 2 Axes>"
      ]
     },
     "metadata": {},
     "output_type": "display_data"
    }
   ],
   "source": [
    "plt.figure(figsize = (7,4))\n",
    "sns.set(font_scale=1)#for label size\n",
    "sns.heatmap(df_Test, cmap=\"Blues\", annot=True,fmt='2d')\n",
    "plt.title(\"Test Confusion Matrix\")"
   ]
  },
  {
   "cell_type": "markdown",
   "metadata": {
    "colab_type": "text",
    "id": "Em-rF6u2iWO8"
   },
   "source": [
    "# Conclusions"
   ]
  },
  {
   "cell_type": "code",
   "execution_count": 115,
   "metadata": {
    "colab": {},
    "colab_type": "code",
    "id": "3Hnu2QziiWO9"
   },
   "outputs": [],
   "source": [
    "from prettytable import PrettyTable"
   ]
  },
  {
   "cell_type": "code",
   "execution_count": 116,
   "metadata": {},
   "outputs": [],
   "source": [
    "x=PrettyTable()"
   ]
  },
  {
   "cell_type": "code",
   "execution_count": 117,
   "metadata": {},
   "outputs": [],
   "source": [
    "x.field_names=['Vectorizer','Regularization','min_samples_split','max_depth','AUC']"
   ]
  },
  {
   "cell_type": "code",
   "execution_count": 118,
   "metadata": {},
   "outputs": [],
   "source": [
    "x.add_row(['BOW','-',500,50,81.14])\n",
    "x.add_row(['TFIDF','L1',500,50,78.64])\n",
    "x.add_row(['TFIDF','L2',500,50,79.13])\n",
    "x.add_row(['AVGW2V','-',500,10,80.54])\n",
    "x.add_row(['TFIDF_AVGW2V','L1',500,10,79.69])\n",
    "x.add_row(['TFIDF_AVGW2V','L2',500,10,79.68])"
   ]
  },
  {
   "cell_type": "code",
   "execution_count": 119,
   "metadata": {},
   "outputs": [
    {
     "name": "stdout",
     "output_type": "stream",
     "text": [
      "+--------------+----------------+-------------------+-----------+-------+\n",
      "|  Vectorizer  | Regularization | min_samples_split | max_depth |  AUC  |\n",
      "+--------------+----------------+-------------------+-----------+-------+\n",
      "|     BOW      |       -        |        500        |     50    | 81.14 |\n",
      "|    TFIDF     |       L1       |        500        |     50    | 78.64 |\n",
      "|    TFIDF     |       L2       |        500        |     50    | 79.13 |\n",
      "|    AVGW2V    |       -        |        500        |     10    | 80.54 |\n",
      "| TFIDF_AVGW2V |       L1       |        500        |     10    | 79.69 |\n",
      "| TFIDF_AVGW2V |       L2       |        500        |     10    | 79.68 |\n",
      "+--------------+----------------+-------------------+-----------+-------+\n"
     ]
    }
   ],
   "source": [
    "print(x)"
   ]
  }
 ],
 "metadata": {
  "colab": {
   "collapsed_sections": [
    "NTwQITJKiWN5",
    "T_LFck8iiWOX",
    "mjfrB76yiWOa",
    "0tcbbZxSiWOd",
    "u566lt93iWOf",
    "mUNnof40iWOl",
    "heHLB_FCiWOm",
    "ylTn3LgiiWOo",
    "NVhl_V6MiWO5",
    "PnwVzXytiWO7"
   ],
   "name": "08 Amazon Fine Food Reviews Analysis_Decision Trees.ipynb",
   "provenance": [],
   "version": "0.3.2"
  },
  "kernelspec": {
   "display_name": "Python 3",
   "language": "python",
   "name": "python3"
  },
  "language_info": {
   "codemirror_mode": {
    "name": "ipython",
    "version": 3
   },
   "file_extension": ".py",
   "mimetype": "text/x-python",
   "name": "python",
   "nbconvert_exporter": "python",
   "pygments_lexer": "ipython3",
   "version": "3.7.3"
  }
 },
 "nbformat": 4,
 "nbformat_minor": 1
}
