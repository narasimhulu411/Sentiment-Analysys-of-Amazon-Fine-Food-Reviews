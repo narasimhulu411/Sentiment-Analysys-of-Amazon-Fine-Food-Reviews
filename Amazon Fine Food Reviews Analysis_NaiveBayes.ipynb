{
 "cells": [
  {
   "cell_type": "markdown",
   "metadata": {
    "colab_type": "text",
    "id": "UIn1GsFNJkjH"
   },
   "source": [
    "# Amazon Fine Food Reviews Analysis\n",
    "\n",
    "\n",
    "Data Source: https://www.kaggle.com/snap/amazon-fine-food-reviews <br>\n",
    "\n",
    "EDA: https://nycdatascience.com/blog/student-works/amazon-fine-foods-visualization/\n",
    "\n",
    "\n",
    "The Amazon Fine Food Reviews dataset consists of reviews of fine foods from Amazon.<br>\n",
    "\n",
    "Number of reviews: 568,454<br>\n",
    "Number of users: 256,059<br>\n",
    "Number of products: 74,258<br>\n",
    "Timespan: Oct 1999 - Oct 2012<br>\n",
    "Number of Attributes/Columns in data: 10 \n",
    "\n",
    "Attribute Information:\n",
    "\n",
    "1. Id\n",
    "2. ProductId - unique identifier for the product\n",
    "3. UserId - unqiue identifier for the user\n",
    "4. ProfileName\n",
    "5. HelpfulnessNumerator - number of users who found the review helpful\n",
    "6. HelpfulnessDenominator - number of users who indicated whether they found the review helpful or not\n",
    "7. Score - rating between 1 and 5\n",
    "8. Time - timestamp for the review\n",
    "9. Summary - brief summary of the review\n",
    "10. Text - text of the review\n",
    "\n",
    "\n",
    "#### Objective:\n",
    "Given a review, determine whether the review is positive (rating of 4 or 5) or negative (rating of 1 or 2).\n",
    "\n",
    "<br>\n",
    "[Q] How to determine if a review is positive or negative?<br>\n",
    "<br> \n",
    "[Ans] We could use Score/Rating. A rating of 4 or 5 can be cosnidered as a positive review. A rating of 1 or 2 can be considered as negative one. A review of rating 3 is considered nuetral and such reviews are ignored from our analysis. This is an approximate and proxy way of determining the polarity (positivity/negativity) of a review.\n",
    "\n",
    "\n"
   ]
  },
  {
   "cell_type": "code",
   "execution_count": 1,
   "metadata": {
    "colab": {},
    "colab_type": "code",
    "id": "dLYq3BkfJkjL"
   },
   "outputs": [],
   "source": [
    "%matplotlib inline\n",
    "import warnings\n",
    "warnings.filterwarnings(\"ignore\")\n",
    "\n",
    "\n",
    "import sqlite3\n",
    "import pandas as pd\n",
    "import numpy as np\n",
    "import nltk\n",
    "import string\n",
    "import matplotlib.pyplot as plt\n",
    "import seaborn as sns\n",
    "from sklearn.feature_extraction.text import TfidfTransformer\n",
    "from sklearn.feature_extraction.text import TfidfVectorizer\n",
    "\n",
    "from sklearn.feature_extraction.text import CountVectorizer\n",
    "from sklearn.metrics import confusion_matrix\n",
    "from sklearn import metrics\n",
    "from sklearn.metrics import roc_curve, auc\n",
    "from nltk.stem.porter import PorterStemmer\n",
    "\n",
    "import re\n",
    "# Tutorial about Python regular expressions: https://pymotw.com/2/re/\n",
    "import string\n",
    "from nltk.corpus import stopwords\n",
    "from nltk.stem import PorterStemmer\n",
    "from nltk.stem.wordnet import WordNetLemmatizer\n",
    "\n",
    "from gensim.models import Word2Vec\n",
    "from gensim.models import KeyedVectors\n",
    "import pickle\n",
    "\n",
    "from tqdm import tqdm\n",
    "import os"
   ]
  },
  {
   "cell_type": "markdown",
   "metadata": {
    "colab_type": "text",
    "id": "RGRFxjhgJklc"
   },
   "source": [
    "# Applying Multinomial Naive Bayes"
   ]
  },
  {
   "cell_type": "markdown",
   "metadata": {
    "colab_type": "text",
    "id": "FxGKHpZlJkle"
   },
   "source": [
    "##  Applying Naive Bayes on BOW"
   ]
  },
  {
   "cell_type": "code",
   "execution_count": 2,
   "metadata": {
    "colab": {},
    "colab_type": "code",
    "id": "UR0f8SfZJkle"
   },
   "outputs": [
    {
     "name": "stdout",
     "output_type": "stream",
     "text": [
      "Number of data points in our data (100000, 10)\n"
     ]
    },
    {
     "data": {
      "text/html": [
       "<div>\n",
       "<style scoped>\n",
       "    .dataframe tbody tr th:only-of-type {\n",
       "        vertical-align: middle;\n",
       "    }\n",
       "\n",
       "    .dataframe tbody tr th {\n",
       "        vertical-align: top;\n",
       "    }\n",
       "\n",
       "    .dataframe thead th {\n",
       "        text-align: right;\n",
       "    }\n",
       "</style>\n",
       "<table border=\"1\" class=\"dataframe\">\n",
       "  <thead>\n",
       "    <tr style=\"text-align: right;\">\n",
       "      <th></th>\n",
       "      <th>Id</th>\n",
       "      <th>ProductId</th>\n",
       "      <th>UserId</th>\n",
       "      <th>ProfileName</th>\n",
       "      <th>HelpfulnessNumerator</th>\n",
       "      <th>HelpfulnessDenominator</th>\n",
       "      <th>Score</th>\n",
       "      <th>Time</th>\n",
       "      <th>Summary</th>\n",
       "      <th>Text</th>\n",
       "    </tr>\n",
       "  </thead>\n",
       "  <tbody>\n",
       "    <tr>\n",
       "      <th>0</th>\n",
       "      <td>1</td>\n",
       "      <td>B001E4KFG0</td>\n",
       "      <td>A3SGXH7AUHU8GW</td>\n",
       "      <td>delmartian</td>\n",
       "      <td>1</td>\n",
       "      <td>1</td>\n",
       "      <td>1</td>\n",
       "      <td>1303862400</td>\n",
       "      <td>Good Quality Dog Food</td>\n",
       "      <td>I have bought several of the Vitality canned d...</td>\n",
       "    </tr>\n",
       "    <tr>\n",
       "      <th>1</th>\n",
       "      <td>2</td>\n",
       "      <td>B00813GRG4</td>\n",
       "      <td>A1D87F6ZCVE5NK</td>\n",
       "      <td>dll pa</td>\n",
       "      <td>0</td>\n",
       "      <td>0</td>\n",
       "      <td>0</td>\n",
       "      <td>1346976000</td>\n",
       "      <td>Not as Advertised</td>\n",
       "      <td>Product arrived labeled as Jumbo Salted Peanut...</td>\n",
       "    </tr>\n",
       "    <tr>\n",
       "      <th>2</th>\n",
       "      <td>3</td>\n",
       "      <td>B000LQOCH0</td>\n",
       "      <td>ABXLMWJIXXAIN</td>\n",
       "      <td>Natalia Corres \"Natalia Corres\"</td>\n",
       "      <td>1</td>\n",
       "      <td>1</td>\n",
       "      <td>1</td>\n",
       "      <td>1219017600</td>\n",
       "      <td>\"Delight\" says it all</td>\n",
       "      <td>This is a confection that has been around a fe...</td>\n",
       "    </tr>\n",
       "  </tbody>\n",
       "</table>\n",
       "</div>"
      ],
      "text/plain": [
       "   Id   ProductId          UserId                      ProfileName  \\\n",
       "0   1  B001E4KFG0  A3SGXH7AUHU8GW                       delmartian   \n",
       "1   2  B00813GRG4  A1D87F6ZCVE5NK                           dll pa   \n",
       "2   3  B000LQOCH0   ABXLMWJIXXAIN  Natalia Corres \"Natalia Corres\"   \n",
       "\n",
       "   HelpfulnessNumerator  HelpfulnessDenominator  Score        Time  \\\n",
       "0                     1                       1      1  1303862400   \n",
       "1                     0                       0      0  1346976000   \n",
       "2                     1                       1      1  1219017600   \n",
       "\n",
       "                 Summary                                               Text  \n",
       "0  Good Quality Dog Food  I have bought several of the Vitality canned d...  \n",
       "1      Not as Advertised  Product arrived labeled as Jumbo Salted Peanut...  \n",
       "2  \"Delight\" says it all  This is a confection that has been around a fe...  "
      ]
     },
     "execution_count": 2,
     "metadata": {},
     "output_type": "execute_result"
    }
   ],
   "source": [
    "# Working with 50K points for brute force\n",
    "\n",
    "# using SQLite Table to read data.\n",
    "con = sqlite3.connect('database.sqlite') \n",
    "\n",
    "# filtering only positive and negative reviews i.e. \n",
    "# not taking into consideration those reviews with Score=3\n",
    "# SELECT * FROM Reviews WHERE Score != 3 LIMIT 500000, will give top 500000 data points\n",
    "# you can change the number to any other number based on your computing power\n",
    "\n",
    "# filtered_data = pd.read_sql_query(\"\"\" SELECT * FROM Reviews WHERE Score != 3 LIMIT 500000\"\"\", con) \n",
    "# for tsne assignment you can take 5k data points\n",
    "\n",
    "filtered_data = pd.read_sql_query(\"\"\" SELECT * FROM Reviews WHERE Score != 3 LIMIT 100000\"\"\", con) \n",
    "\n",
    "# Give reviews with Score>3 a positive rating(1), and reviews with a score<3 a negative rating(0).\n",
    "def partition(x):\n",
    "    if x < 3:\n",
    "        return 0\n",
    "    return 1\n",
    "\n",
    "#changing reviews with score less than 3 to be positive and vice-versa\n",
    "actualScore = filtered_data['Score']\n",
    "positiveNegative = actualScore.map(partition) \n",
    "filtered_data['Score'] = positiveNegative\n",
    "print(\"Number of data points in our data\", filtered_data.shape)\n",
    "filtered_data.head(3)"
   ]
  },
  {
   "cell_type": "markdown",
   "metadata": {},
   "source": [
    "## Data Cleaning : Deduplication"
   ]
  },
  {
   "cell_type": "code",
   "execution_count": 3,
   "metadata": {},
   "outputs": [
    {
     "data": {
      "text/html": [
       "<div>\n",
       "<style scoped>\n",
       "    .dataframe tbody tr th:only-of-type {\n",
       "        vertical-align: middle;\n",
       "    }\n",
       "\n",
       "    .dataframe tbody tr th {\n",
       "        vertical-align: top;\n",
       "    }\n",
       "\n",
       "    .dataframe thead th {\n",
       "        text-align: right;\n",
       "    }\n",
       "</style>\n",
       "<table border=\"1\" class=\"dataframe\">\n",
       "  <thead>\n",
       "    <tr style=\"text-align: right;\">\n",
       "      <th></th>\n",
       "      <th>Id</th>\n",
       "      <th>ProductId</th>\n",
       "      <th>UserId</th>\n",
       "      <th>ProfileName</th>\n",
       "      <th>HelpfulnessNumerator</th>\n",
       "      <th>HelpfulnessDenominator</th>\n",
       "      <th>Score</th>\n",
       "      <th>Time</th>\n",
       "      <th>Summary</th>\n",
       "      <th>Text</th>\n",
       "    </tr>\n",
       "  </thead>\n",
       "  <tbody>\n",
       "    <tr>\n",
       "      <th>0</th>\n",
       "      <td>78445</td>\n",
       "      <td>B000HDL1RQ</td>\n",
       "      <td>AR5J8UI46CURR</td>\n",
       "      <td>Geetha Krishnan</td>\n",
       "      <td>2</td>\n",
       "      <td>2</td>\n",
       "      <td>5</td>\n",
       "      <td>1199577600</td>\n",
       "      <td>LOACKER QUADRATINI VANILLA WAFERS</td>\n",
       "      <td>DELICIOUS WAFERS. I FIND THAT EUROPEAN WAFERS ...</td>\n",
       "    </tr>\n",
       "    <tr>\n",
       "      <th>1</th>\n",
       "      <td>138317</td>\n",
       "      <td>B000HDOPYC</td>\n",
       "      <td>AR5J8UI46CURR</td>\n",
       "      <td>Geetha Krishnan</td>\n",
       "      <td>2</td>\n",
       "      <td>2</td>\n",
       "      <td>5</td>\n",
       "      <td>1199577600</td>\n",
       "      <td>LOACKER QUADRATINI VANILLA WAFERS</td>\n",
       "      <td>DELICIOUS WAFERS. I FIND THAT EUROPEAN WAFERS ...</td>\n",
       "    </tr>\n",
       "    <tr>\n",
       "      <th>2</th>\n",
       "      <td>138277</td>\n",
       "      <td>B000HDOPYM</td>\n",
       "      <td>AR5J8UI46CURR</td>\n",
       "      <td>Geetha Krishnan</td>\n",
       "      <td>2</td>\n",
       "      <td>2</td>\n",
       "      <td>5</td>\n",
       "      <td>1199577600</td>\n",
       "      <td>LOACKER QUADRATINI VANILLA WAFERS</td>\n",
       "      <td>DELICIOUS WAFERS. I FIND THAT EUROPEAN WAFERS ...</td>\n",
       "    </tr>\n",
       "    <tr>\n",
       "      <th>3</th>\n",
       "      <td>73791</td>\n",
       "      <td>B000HDOPZG</td>\n",
       "      <td>AR5J8UI46CURR</td>\n",
       "      <td>Geetha Krishnan</td>\n",
       "      <td>2</td>\n",
       "      <td>2</td>\n",
       "      <td>5</td>\n",
       "      <td>1199577600</td>\n",
       "      <td>LOACKER QUADRATINI VANILLA WAFERS</td>\n",
       "      <td>DELICIOUS WAFERS. I FIND THAT EUROPEAN WAFERS ...</td>\n",
       "    </tr>\n",
       "    <tr>\n",
       "      <th>4</th>\n",
       "      <td>155049</td>\n",
       "      <td>B000PAQ75C</td>\n",
       "      <td>AR5J8UI46CURR</td>\n",
       "      <td>Geetha Krishnan</td>\n",
       "      <td>2</td>\n",
       "      <td>2</td>\n",
       "      <td>5</td>\n",
       "      <td>1199577600</td>\n",
       "      <td>LOACKER QUADRATINI VANILLA WAFERS</td>\n",
       "      <td>DELICIOUS WAFERS. I FIND THAT EUROPEAN WAFERS ...</td>\n",
       "    </tr>\n",
       "  </tbody>\n",
       "</table>\n",
       "</div>"
      ],
      "text/plain": [
       "       Id   ProductId         UserId      ProfileName  HelpfulnessNumerator  \\\n",
       "0   78445  B000HDL1RQ  AR5J8UI46CURR  Geetha Krishnan                     2   \n",
       "1  138317  B000HDOPYC  AR5J8UI46CURR  Geetha Krishnan                     2   \n",
       "2  138277  B000HDOPYM  AR5J8UI46CURR  Geetha Krishnan                     2   \n",
       "3   73791  B000HDOPZG  AR5J8UI46CURR  Geetha Krishnan                     2   \n",
       "4  155049  B000PAQ75C  AR5J8UI46CURR  Geetha Krishnan                     2   \n",
       "\n",
       "   HelpfulnessDenominator  Score        Time  \\\n",
       "0                       2      5  1199577600   \n",
       "1                       2      5  1199577600   \n",
       "2                       2      5  1199577600   \n",
       "3                       2      5  1199577600   \n",
       "4                       2      5  1199577600   \n",
       "\n",
       "                             Summary  \\\n",
       "0  LOACKER QUADRATINI VANILLA WAFERS   \n",
       "1  LOACKER QUADRATINI VANILLA WAFERS   \n",
       "2  LOACKER QUADRATINI VANILLA WAFERS   \n",
       "3  LOACKER QUADRATINI VANILLA WAFERS   \n",
       "4  LOACKER QUADRATINI VANILLA WAFERS   \n",
       "\n",
       "                                                Text  \n",
       "0  DELICIOUS WAFERS. I FIND THAT EUROPEAN WAFERS ...  \n",
       "1  DELICIOUS WAFERS. I FIND THAT EUROPEAN WAFERS ...  \n",
       "2  DELICIOUS WAFERS. I FIND THAT EUROPEAN WAFERS ...  \n",
       "3  DELICIOUS WAFERS. I FIND THAT EUROPEAN WAFERS ...  \n",
       "4  DELICIOUS WAFERS. I FIND THAT EUROPEAN WAFERS ...  "
      ]
     },
     "execution_count": 3,
     "metadata": {},
     "output_type": "execute_result"
    }
   ],
   "source": [
    "\n",
    "display= pd.read_sql_query(\"\"\"\n",
    "SELECT *\n",
    "FROM Reviews\n",
    "WHERE Score != 3 AND UserId=\"AR5J8UI46CURR\"\n",
    "ORDER BY ProductID\n",
    "\"\"\", con)\n",
    "display.head()"
   ]
  },
  {
   "cell_type": "markdown",
   "metadata": {},
   "source": [
    "As it can be seen above that same user has multiple reviews with same values for HelpfulnessNumerator, HelpfulnessDenominator, Score, Time, Summary and Text and on doing analysis it was found that\n",
    "\n",
    "ProductId=B000HDOPZG was Loacker Quadratini Vanilla Wafer Cookies, 8.82-Ounce Packages (Pack of 8)\n",
    "\n",
    "ProductId=B000HDL1RQ was Loacker Quadratini Lemon Wafer Cookies, 8.82-Ounce Packages (Pack of 8) and so on\n",
    "\n",
    "It was inferred after analysis that reviews with same parameters other than ProductId belonged to the same product just having different flavour or quantity. Hence in order to reduce redundancy it was decided to eliminate the rows having same parameters.\n",
    "\n",
    "The method used for the same was that we first sort the data according to ProductId and then just keep the first similar product review and delelte the others. for eg. in the above just the review for ProductId=B000HDL1RQ remains. This method ensures that there is only one representative for each product and deduplication without sorting would lead to possibility of different representatives still existing for the same product."
   ]
  },
  {
   "cell_type": "code",
   "execution_count": 4,
   "metadata": {},
   "outputs": [],
   "source": [
    "#Sorting data according to ProductId in ascending order\n",
    "sorted_data=filtered_data.sort_values('ProductId', axis=0, ascending=True, inplace=False, kind='quicksort', na_position='last')"
   ]
  },
  {
   "cell_type": "code",
   "execution_count": 5,
   "metadata": {},
   "outputs": [
    {
     "data": {
      "text/plain": [
       "(87775, 10)"
      ]
     },
     "execution_count": 5,
     "metadata": {},
     "output_type": "execute_result"
    }
   ],
   "source": [
    "#Deduplication of entries \n",
    "final=sorted_data.drop_duplicates(subset={\"UserId\",\"ProfileName\",\"Time\",\"Text\"}, keep='first', inplace=False)\n",
    "final.shape"
   ]
  },
  {
   "cell_type": "code",
   "execution_count": 6,
   "metadata": {},
   "outputs": [
    {
     "data": {
      "text/plain": [
       "87.775"
      ]
     },
     "execution_count": 6,
     "metadata": {},
     "output_type": "execute_result"
    }
   ],
   "source": [
    "#Checking to see how much % of data still remains\n",
    "(final['Id'].size*1.0)/(filtered_data['Id'].size*1.0)*100"
   ]
  },
  {
   "cell_type": "code",
   "execution_count": 7,
   "metadata": {},
   "outputs": [
    {
     "data": {
      "text/html": [
       "<div>\n",
       "<style scoped>\n",
       "    .dataframe tbody tr th:only-of-type {\n",
       "        vertical-align: middle;\n",
       "    }\n",
       "\n",
       "    .dataframe tbody tr th {\n",
       "        vertical-align: top;\n",
       "    }\n",
       "\n",
       "    .dataframe thead th {\n",
       "        text-align: right;\n",
       "    }\n",
       "</style>\n",
       "<table border=\"1\" class=\"dataframe\">\n",
       "  <thead>\n",
       "    <tr style=\"text-align: right;\">\n",
       "      <th></th>\n",
       "      <th>Id</th>\n",
       "      <th>ProductId</th>\n",
       "      <th>UserId</th>\n",
       "      <th>ProfileName</th>\n",
       "      <th>HelpfulnessNumerator</th>\n",
       "      <th>HelpfulnessDenominator</th>\n",
       "      <th>Score</th>\n",
       "      <th>Time</th>\n",
       "      <th>Summary</th>\n",
       "      <th>Text</th>\n",
       "    </tr>\n",
       "  </thead>\n",
       "  <tbody>\n",
       "    <tr>\n",
       "      <th>0</th>\n",
       "      <td>64422</td>\n",
       "      <td>B000MIDROQ</td>\n",
       "      <td>A161DK06JJMCYF</td>\n",
       "      <td>J. E. Stephens \"Jeanne\"</td>\n",
       "      <td>3</td>\n",
       "      <td>1</td>\n",
       "      <td>5</td>\n",
       "      <td>1224892800</td>\n",
       "      <td>Bought This for My Son at College</td>\n",
       "      <td>My son loves spaghetti so I didn't hesitate or...</td>\n",
       "    </tr>\n",
       "    <tr>\n",
       "      <th>1</th>\n",
       "      <td>44737</td>\n",
       "      <td>B001EQ55RW</td>\n",
       "      <td>A2V0I904FH7ABY</td>\n",
       "      <td>Ram</td>\n",
       "      <td>3</td>\n",
       "      <td>2</td>\n",
       "      <td>4</td>\n",
       "      <td>1212883200</td>\n",
       "      <td>Pure cocoa taste with crunchy almonds inside</td>\n",
       "      <td>It was almost a 'love at first bite' - the per...</td>\n",
       "    </tr>\n",
       "  </tbody>\n",
       "</table>\n",
       "</div>"
      ],
      "text/plain": [
       "      Id   ProductId          UserId              ProfileName  \\\n",
       "0  64422  B000MIDROQ  A161DK06JJMCYF  J. E. Stephens \"Jeanne\"   \n",
       "1  44737  B001EQ55RW  A2V0I904FH7ABY                      Ram   \n",
       "\n",
       "   HelpfulnessNumerator  HelpfulnessDenominator  Score        Time  \\\n",
       "0                     3                       1      5  1224892800   \n",
       "1                     3                       2      4  1212883200   \n",
       "\n",
       "                                        Summary  \\\n",
       "0             Bought This for My Son at College   \n",
       "1  Pure cocoa taste with crunchy almonds inside   \n",
       "\n",
       "                                                Text  \n",
       "0  My son loves spaghetti so I didn't hesitate or...  \n",
       "1  It was almost a 'love at first bite' - the per...  "
      ]
     },
     "execution_count": 7,
     "metadata": {},
     "output_type": "execute_result"
    }
   ],
   "source": [
    "display= pd.read_sql_query(\"\"\"\n",
    "SELECT *\n",
    "FROM Reviews\n",
    "WHERE Score != 3 AND Id=44737 OR Id=64422\n",
    "ORDER BY ProductID\n",
    "\"\"\", con)\n",
    "\n",
    "display.head()"
   ]
  },
  {
   "cell_type": "markdown",
   "metadata": {},
   "source": [
    "## Observation:\n",
    "It was also seen that in two rows given below the value of HelpfulnessNumerator is greater than HelpfulnessDenominator which is not practically possible hence these two rows too are removed from calcualtions"
   ]
  },
  {
   "cell_type": "code",
   "execution_count": 8,
   "metadata": {},
   "outputs": [],
   "source": [
    "final=final[final.HelpfulnessNumerator<=final.HelpfulnessDenominator]"
   ]
  },
  {
   "cell_type": "code",
   "execution_count": 9,
   "metadata": {},
   "outputs": [
    {
     "name": "stdout",
     "output_type": "stream",
     "text": [
      "(87773, 10)\n"
     ]
    },
    {
     "data": {
      "text/plain": [
       "1    73592\n",
       "0    14181\n",
       "Name: Score, dtype: int64"
      ]
     },
     "execution_count": 9,
     "metadata": {},
     "output_type": "execute_result"
    }
   ],
   "source": [
    "#Before starting the next phase of preprocessing lets see the number of entries left\n",
    "print(final.shape)\n",
    "\n",
    "#How many positive and negative reviews are present in our dataset?\n",
    "final['Score'].value_counts()"
   ]
  },
  {
   "cell_type": "code",
   "execution_count": 10,
   "metadata": {},
   "outputs": [
    {
     "data": {
      "text/html": [
       "<div>\n",
       "<style scoped>\n",
       "    .dataframe tbody tr th:only-of-type {\n",
       "        vertical-align: middle;\n",
       "    }\n",
       "\n",
       "    .dataframe tbody tr th {\n",
       "        vertical-align: top;\n",
       "    }\n",
       "\n",
       "    .dataframe thead th {\n",
       "        text-align: right;\n",
       "    }\n",
       "</style>\n",
       "<table border=\"1\" class=\"dataframe\">\n",
       "  <thead>\n",
       "    <tr style=\"text-align: right;\">\n",
       "      <th></th>\n",
       "      <th>Id</th>\n",
       "      <th>ProductId</th>\n",
       "      <th>UserId</th>\n",
       "      <th>ProfileName</th>\n",
       "      <th>HelpfulnessNumerator</th>\n",
       "      <th>HelpfulnessDenominator</th>\n",
       "      <th>Score</th>\n",
       "      <th>Time</th>\n",
       "      <th>Summary</th>\n",
       "      <th>Text</th>\n",
       "    </tr>\n",
       "  </thead>\n",
       "  <tbody>\n",
       "    <tr>\n",
       "      <th>22620</th>\n",
       "      <td>24750</td>\n",
       "      <td>2734888454</td>\n",
       "      <td>A13ISQV0U9GZIC</td>\n",
       "      <td>Sandikaye</td>\n",
       "      <td>1</td>\n",
       "      <td>1</td>\n",
       "      <td>0</td>\n",
       "      <td>1192060800</td>\n",
       "      <td>made in china</td>\n",
       "      <td>My dogs loves this chicken but its a product f...</td>\n",
       "    </tr>\n",
       "    <tr>\n",
       "      <th>22621</th>\n",
       "      <td>24751</td>\n",
       "      <td>2734888454</td>\n",
       "      <td>A1C298ITT645B6</td>\n",
       "      <td>Hugh G. Pritchard</td>\n",
       "      <td>0</td>\n",
       "      <td>0</td>\n",
       "      <td>1</td>\n",
       "      <td>1195948800</td>\n",
       "      <td>Dog Lover Delites</td>\n",
       "      <td>Our dogs just love them.  I saw them in a pet ...</td>\n",
       "    </tr>\n",
       "    <tr>\n",
       "      <th>70677</th>\n",
       "      <td>76870</td>\n",
       "      <td>B00002N8SM</td>\n",
       "      <td>A19Q006CSFT011</td>\n",
       "      <td>Arlielle</td>\n",
       "      <td>0</td>\n",
       "      <td>0</td>\n",
       "      <td>0</td>\n",
       "      <td>1288396800</td>\n",
       "      <td>only one fruitfly stuck</td>\n",
       "      <td>I had an infestation of fruitflies, they were ...</td>\n",
       "    </tr>\n",
       "    <tr>\n",
       "      <th>70676</th>\n",
       "      <td>76869</td>\n",
       "      <td>B00002N8SM</td>\n",
       "      <td>A1FYH4S02BW7FN</td>\n",
       "      <td>wonderer</td>\n",
       "      <td>0</td>\n",
       "      <td>0</td>\n",
       "      <td>0</td>\n",
       "      <td>1290038400</td>\n",
       "      <td>Doesn't work!! Don't waste your money!!</td>\n",
       "      <td>Worst product I have gotten in long time. Woul...</td>\n",
       "    </tr>\n",
       "    <tr>\n",
       "      <th>70675</th>\n",
       "      <td>76868</td>\n",
       "      <td>B00002N8SM</td>\n",
       "      <td>AUE8TB5VHS6ZV</td>\n",
       "      <td>eyeofthestorm</td>\n",
       "      <td>0</td>\n",
       "      <td>0</td>\n",
       "      <td>0</td>\n",
       "      <td>1306972800</td>\n",
       "      <td>A big rip off</td>\n",
       "      <td>I wish I'd read the reviews before making this...</td>\n",
       "    </tr>\n",
       "  </tbody>\n",
       "</table>\n",
       "</div>"
      ],
      "text/plain": [
       "          Id   ProductId          UserId        ProfileName  \\\n",
       "22620  24750  2734888454  A13ISQV0U9GZIC          Sandikaye   \n",
       "22621  24751  2734888454  A1C298ITT645B6  Hugh G. Pritchard   \n",
       "70677  76870  B00002N8SM  A19Q006CSFT011           Arlielle   \n",
       "70676  76869  B00002N8SM  A1FYH4S02BW7FN           wonderer   \n",
       "70675  76868  B00002N8SM   AUE8TB5VHS6ZV      eyeofthestorm   \n",
       "\n",
       "       HelpfulnessNumerator  HelpfulnessDenominator  Score        Time  \\\n",
       "22620                     1                       1      0  1192060800   \n",
       "22621                     0                       0      1  1195948800   \n",
       "70677                     0                       0      0  1288396800   \n",
       "70676                     0                       0      0  1290038400   \n",
       "70675                     0                       0      0  1306972800   \n",
       "\n",
       "                                       Summary  \\\n",
       "22620                            made in china   \n",
       "22621                        Dog Lover Delites   \n",
       "70677                  only one fruitfly stuck   \n",
       "70676  Doesn't work!! Don't waste your money!!   \n",
       "70675                            A big rip off   \n",
       "\n",
       "                                                    Text  \n",
       "22620  My dogs loves this chicken but its a product f...  \n",
       "22621  Our dogs just love them.  I saw them in a pet ...  \n",
       "70677  I had an infestation of fruitflies, they were ...  \n",
       "70676  Worst product I have gotten in long time. Woul...  \n",
       "70675  I wish I'd read the reviews before making this...  "
      ]
     },
     "execution_count": 10,
     "metadata": {},
     "output_type": "execute_result"
    }
   ],
   "source": [
    "final.head()"
   ]
  },
  {
   "cell_type": "markdown",
   "metadata": {},
   "source": [
    "## Preprocessing"
   ]
  },
  {
   "cell_type": "markdown",
   "metadata": {},
   "source": [
    "## Prerpocessing Review Text\n",
    "Now that we have finished deduplication our data requires some preprocessing before we go on further with analysis and making the prediction model.\n",
    "\n",
    "Hence in the Preprocessing phase we do the following in the order below:-\n",
    "\n",
    "Begin by removing the html tags Remove any punctuations or limited set of special characters like , or . or # etc. Check if the word is made up of english letters and is not alpha-numeric Check to see if the length of the word is greater than 2 (as it was researched that there is no adjective in 2-letters) Convert the word to lowercase Remove Stopwords Finally Snowball Stemming the word (it was obsereved to be better than Porter Stemming) After which we collect the words used to describe positive and negative reviews"
   ]
  },
  {
   "cell_type": "code",
   "execution_count": 11,
   "metadata": {},
   "outputs": [],
   "source": [
    "# Importing necessary libraries\n",
    "\n",
    "from bs4 import BeautifulSoup\n",
    "import re\n",
    "\n",
    "def decontracted(phrase):\n",
    "    # specific\n",
    "    phrase = re.sub(r\"won't\", \"will not\", phrase)\n",
    "    phrase = re.sub(r\"can\\'t\", \"can not\", phrase)\n",
    "\n",
    "    # general\n",
    "    phrase = re.sub(r\"n\\'t\", \" not\", phrase)\n",
    "    phrase = re.sub(r\"\\'re\", \" are\", phrase)\n",
    "    phrase = re.sub(r\"\\'s\", \" is\", phrase)\n",
    "    phrase = re.sub(r\"\\'d\", \" would\", phrase)\n",
    "    phrase = re.sub(r\"\\'ll\", \" will\", phrase)\n",
    "    phrase = re.sub(r\"\\'t\", \" not\", phrase)\n",
    "    phrase = re.sub(r\"\\'ve\", \" have\", phrase)\n",
    "    phrase = re.sub(r\"\\'m\", \" am\", phrase)\n",
    "    return phrase"
   ]
  },
  {
   "cell_type": "code",
   "execution_count": 12,
   "metadata": {},
   "outputs": [],
   "source": [
    "# https://gist.github.com/sebleier/554280\n",
    "# we are removing the words from the stop words list: 'no', 'nor', 'not'\n",
    "# <br /><br /> ==> after the above steps, we are getting \"br br\"\n",
    "# we are including them into stop words list\n",
    "# instead of <br /> if we have <br/> these tags would have revmoved in the 1st step\n",
    "\n",
    "stopwords= set(['br', 'the', 'i', 'me', 'my', 'myself', 'we', 'our', 'ours', 'ourselves', 'you', \"you're\", \"you've\",\\\n",
    "            \"you'll\", \"you'd\", 'your', 'yours', 'yourself', 'yourselves', 'he', 'him', 'his', 'himself', \\\n",
    "            'she', \"she's\", 'her', 'hers', 'herself', 'it', \"it's\", 'its', 'itself', 'they', 'them', 'their',\\\n",
    "            'theirs', 'themselves', 'what', 'which', 'who', 'whom', 'this', 'that', \"that'll\", 'these', 'those', \\\n",
    "            'am', 'is', 'are', 'was', 'were', 'be', 'been', 'being', 'have', 'has', 'had', 'having', 'do', 'does', \\\n",
    "            'did', 'doing', 'a', 'an', 'the', 'and', 'but', 'if', 'or', 'because', 'as', 'until', 'while', 'of', \\\n",
    "            'at', 'by', 'for', 'with', 'about', 'against', 'between', 'into', 'through', 'during', 'before', 'after',\\\n",
    "            'above', 'below', 'to', 'from', 'up', 'down', 'in', 'out', 'on', 'off', 'over', 'under', 'again', 'further',\\\n",
    "            'then', 'once', 'here', 'there', 'when', 'where', 'why', 'how', 'all', 'any', 'both', 'each', 'few', 'more',\\\n",
    "            'most', 'other', 'some', 'such', 'only', 'own', 'same', 'so', 'than', 'too', 'very', \\\n",
    "            's', 't', 'can', 'will', 'just', 'don', \"don't\", 'should', \"should've\", 'now', 'd', 'll', 'm', 'o', 're', \\\n",
    "            've', 'y', 'ain', 'aren', \"aren't\", 'couldn', \"couldn't\", 'didn', \"didn't\", 'doesn', \"doesn't\", 'hadn',\\\n",
    "            \"hadn't\", 'hasn', \"hasn't\", 'haven', \"haven't\", 'isn', \"isn't\", 'ma', 'mightn', \"mightn't\", 'mustn',\\\n",
    "            \"mustn't\", 'needn', \"needn't\", 'shan', \"shan't\", 'shouldn', \"shouldn't\", 'wasn', \"wasn't\", 'weren', \"weren't\", \\\n",
    "            'won', \"won't\", 'wouldn', \"wouldn't\"])"
   ]
  },
  {
   "cell_type": "code",
   "execution_count": 13,
   "metadata": {},
   "outputs": [
    {
     "name": "stderr",
     "output_type": "stream",
     "text": [
      "100%|██████████████████████████████████████████████████████████████████████████| 87773/87773 [00:44<00:00, 1961.60it/s]\n"
     ]
    }
   ],
   "source": [
    "# Combining all the above stundents \n",
    "from tqdm import tqdm\n",
    "preprocessed_reviews = []\n",
    "# tqdm is for printing the status bar\n",
    "for sentance in tqdm(final['Text'].values):\n",
    "    sentance = re.sub(r\"http\\S+\", \"\", sentance)# To remove urls\n",
    "    sentance = BeautifulSoup(sentance, 'lxml').get_text()\n",
    "    sentance = decontracted(sentance)\n",
    "    sentance = re.sub(\"\\S*\\d\\S*\", \"\", sentance).strip()# To remove numbers\n",
    "    sentance = re.sub('[^A-Za-z]+', ' ', sentance) # To remove special characters\n",
    "    # https://gist.github.com/sebleier/554280\n",
    "    sentance = ' '.join(e.lower() for e in sentance.split() if e.lower() not in stopwords)# To convert to lower case letters\n",
    "    preprocessed_reviews.append(sentance.strip())"
   ]
  },
  {
   "cell_type": "code",
   "execution_count": 14,
   "metadata": {},
   "outputs": [],
   "source": [
    "# Adding a new column \"Review_Text\" to the \"final\" dataframe with the Text \"preprocessed_reviews\"\n",
    "\n",
    "final[\"Review_Text\"]=preprocessed_reviews"
   ]
  },
  {
   "cell_type": "code",
   "execution_count": 15,
   "metadata": {},
   "outputs": [
    {
     "data": {
      "text/html": [
       "<div>\n",
       "<style scoped>\n",
       "    .dataframe tbody tr th:only-of-type {\n",
       "        vertical-align: middle;\n",
       "    }\n",
       "\n",
       "    .dataframe tbody tr th {\n",
       "        vertical-align: top;\n",
       "    }\n",
       "\n",
       "    .dataframe thead th {\n",
       "        text-align: right;\n",
       "    }\n",
       "</style>\n",
       "<table border=\"1\" class=\"dataframe\">\n",
       "  <thead>\n",
       "    <tr style=\"text-align: right;\">\n",
       "      <th></th>\n",
       "      <th>Id</th>\n",
       "      <th>ProductId</th>\n",
       "      <th>UserId</th>\n",
       "      <th>ProfileName</th>\n",
       "      <th>HelpfulnessNumerator</th>\n",
       "      <th>HelpfulnessDenominator</th>\n",
       "      <th>Score</th>\n",
       "      <th>Time</th>\n",
       "      <th>Summary</th>\n",
       "      <th>Text</th>\n",
       "      <th>Review_Text</th>\n",
       "    </tr>\n",
       "  </thead>\n",
       "  <tbody>\n",
       "    <tr>\n",
       "      <th>22620</th>\n",
       "      <td>24750</td>\n",
       "      <td>2734888454</td>\n",
       "      <td>A13ISQV0U9GZIC</td>\n",
       "      <td>Sandikaye</td>\n",
       "      <td>1</td>\n",
       "      <td>1</td>\n",
       "      <td>0</td>\n",
       "      <td>1192060800</td>\n",
       "      <td>made in china</td>\n",
       "      <td>My dogs loves this chicken but its a product f...</td>\n",
       "      <td>dogs loves chicken product china wont buying a...</td>\n",
       "    </tr>\n",
       "    <tr>\n",
       "      <th>22621</th>\n",
       "      <td>24751</td>\n",
       "      <td>2734888454</td>\n",
       "      <td>A1C298ITT645B6</td>\n",
       "      <td>Hugh G. Pritchard</td>\n",
       "      <td>0</td>\n",
       "      <td>0</td>\n",
       "      <td>1</td>\n",
       "      <td>1195948800</td>\n",
       "      <td>Dog Lover Delites</td>\n",
       "      <td>Our dogs just love them.  I saw them in a pet ...</td>\n",
       "      <td>dogs love saw pet store tag attached regarding...</td>\n",
       "    </tr>\n",
       "  </tbody>\n",
       "</table>\n",
       "</div>"
      ],
      "text/plain": [
       "          Id   ProductId          UserId        ProfileName  \\\n",
       "22620  24750  2734888454  A13ISQV0U9GZIC          Sandikaye   \n",
       "22621  24751  2734888454  A1C298ITT645B6  Hugh G. Pritchard   \n",
       "\n",
       "       HelpfulnessNumerator  HelpfulnessDenominator  Score        Time  \\\n",
       "22620                     1                       1      0  1192060800   \n",
       "22621                     0                       0      1  1195948800   \n",
       "\n",
       "                 Summary                                               Text  \\\n",
       "22620      made in china  My dogs loves this chicken but its a product f...   \n",
       "22621  Dog Lover Delites  Our dogs just love them.  I saw them in a pet ...   \n",
       "\n",
       "                                             Review_Text  \n",
       "22620  dogs loves chicken product china wont buying a...  \n",
       "22621  dogs love saw pet store tag attached regarding...  "
      ]
     },
     "execution_count": 15,
     "metadata": {},
     "output_type": "execute_result"
    }
   ],
   "source": [
    "final.head(2)"
   ]
  },
  {
   "cell_type": "markdown",
   "metadata": {},
   "source": [
    "## Sorting the data in descenindg order based on Time Column"
   ]
  },
  {
   "cell_type": "code",
   "execution_count": 16,
   "metadata": {},
   "outputs": [],
   "source": [
    "final=final.sort_values(by='Time',axis=0,ascending=False)"
   ]
  },
  {
   "cell_type": "code",
   "execution_count": 18,
   "metadata": {},
   "outputs": [
    {
     "data": {
      "text/html": [
       "<div>\n",
       "<style scoped>\n",
       "    .dataframe tbody tr th:only-of-type {\n",
       "        vertical-align: middle;\n",
       "    }\n",
       "\n",
       "    .dataframe tbody tr th {\n",
       "        vertical-align: top;\n",
       "    }\n",
       "\n",
       "    .dataframe thead th {\n",
       "        text-align: right;\n",
       "    }\n",
       "</style>\n",
       "<table border=\"1\" class=\"dataframe\">\n",
       "  <thead>\n",
       "    <tr style=\"text-align: right;\">\n",
       "      <th></th>\n",
       "      <th>Id</th>\n",
       "      <th>ProductId</th>\n",
       "      <th>UserId</th>\n",
       "      <th>ProfileName</th>\n",
       "      <th>HelpfulnessNumerator</th>\n",
       "      <th>HelpfulnessDenominator</th>\n",
       "      <th>Score</th>\n",
       "      <th>Time</th>\n",
       "      <th>Summary</th>\n",
       "      <th>Text</th>\n",
       "      <th>Review_Text</th>\n",
       "    </tr>\n",
       "  </thead>\n",
       "  <tbody>\n",
       "    <tr>\n",
       "      <th>5259</th>\n",
       "      <td>5703</td>\n",
       "      <td>B009WSNWC4</td>\n",
       "      <td>AMP7K1O84DH1T</td>\n",
       "      <td>ESTY</td>\n",
       "      <td>0</td>\n",
       "      <td>0</td>\n",
       "      <td>1</td>\n",
       "      <td>1351209600</td>\n",
       "      <td>DELICIOUS</td>\n",
       "      <td>Purchased this product at a local store in NY ...</td>\n",
       "      <td>purchased product local store ny kids love qui...</td>\n",
       "    </tr>\n",
       "    <tr>\n",
       "      <th>1005</th>\n",
       "      <td>1089</td>\n",
       "      <td>B004FD13RW</td>\n",
       "      <td>A1BPLP0BKERV</td>\n",
       "      <td>Paul</td>\n",
       "      <td>0</td>\n",
       "      <td>0</td>\n",
       "      <td>1</td>\n",
       "      <td>1351209600</td>\n",
       "      <td>It is awesome.</td>\n",
       "      <td>My partner is very happy with the tea, and is ...</td>\n",
       "      <td>partner happy tea feeling much better since st...</td>\n",
       "    </tr>\n",
       "    <tr>\n",
       "      <th>63160</th>\n",
       "      <td>68621</td>\n",
       "      <td>B005IOXBY0</td>\n",
       "      <td>A1ORVAUR5C5N8X</td>\n",
       "      <td>amondigirl</td>\n",
       "      <td>0</td>\n",
       "      <td>0</td>\n",
       "      <td>1</td>\n",
       "      <td>1351209600</td>\n",
       "      <td>WOW.....</td>\n",
       "      <td>This chocolate is amazing..I love the taste an...</td>\n",
       "      <td>chocolate amazing love taste smell chocolate f...</td>\n",
       "    </tr>\n",
       "    <tr>\n",
       "      <th>9513</th>\n",
       "      <td>10404</td>\n",
       "      <td>B005HI55CS</td>\n",
       "      <td>A36ERNIM0TKG3T</td>\n",
       "      <td>Donald E. Bolton</td>\n",
       "      <td>0</td>\n",
       "      <td>0</td>\n",
       "      <td>1</td>\n",
       "      <td>1351209600</td>\n",
       "      <td>Hidden Springs Maple syrup</td>\n",
       "      <td>This is one of the very finest maple syrups I ...</td>\n",
       "      <td>one finest maple syrups ordered enjoyed bought...</td>\n",
       "    </tr>\n",
       "    <tr>\n",
       "      <th>86066</th>\n",
       "      <td>93711</td>\n",
       "      <td>B001NZPFB0</td>\n",
       "      <td>A3318V6FJ2KIII</td>\n",
       "      <td>T. Dennis</td>\n",
       "      <td>0</td>\n",
       "      <td>0</td>\n",
       "      <td>1</td>\n",
       "      <td>1351209600</td>\n",
       "      <td>My dog enjoys it and it helps her hips.</td>\n",
       "      <td>My dog was diagnosed with hip dysplasia as a 6...</td>\n",
       "      <td>dog diagnosed hip dysplasia old puppy vet said...</td>\n",
       "    </tr>\n",
       "    <tr>\n",
       "      <th>30235</th>\n",
       "      <td>32932</td>\n",
       "      <td>B001P05K8Q</td>\n",
       "      <td>A3L0B5NBTQ7ZHO</td>\n",
       "      <td>Julie</td>\n",
       "      <td>0</td>\n",
       "      <td>0</td>\n",
       "      <td>1</td>\n",
       "      <td>1351209600</td>\n",
       "      <td>Great results but they stink</td>\n",
       "      <td>We originally purchased these chews from our v...</td>\n",
       "      <td>originally purchased chews veterinarian decide...</td>\n",
       "    </tr>\n",
       "    <tr>\n",
       "      <th>96778</th>\n",
       "      <td>105165</td>\n",
       "      <td>B005EF0HZ4</td>\n",
       "      <td>A2A5Z7LC91EFVA</td>\n",
       "      <td>Gretchen Casey</td>\n",
       "      <td>0</td>\n",
       "      <td>0</td>\n",
       "      <td>1</td>\n",
       "      <td>1351209600</td>\n",
       "      <td>Gluten Free Kid</td>\n",
       "      <td>We LOVE Lucy's cookies!  The Maple Bliss are w...</td>\n",
       "      <td>love lucy cookies maple bliss wonderful bad ha...</td>\n",
       "    </tr>\n",
       "    <tr>\n",
       "      <th>96779</th>\n",
       "      <td>105166</td>\n",
       "      <td>B005EF0HZ4</td>\n",
       "      <td>A1JXSMYVHFPWM1</td>\n",
       "      <td>marsha m beers</td>\n",
       "      <td>0</td>\n",
       "      <td>0</td>\n",
       "      <td>0</td>\n",
       "      <td>1351209600</td>\n",
       "      <td>Disappointed</td>\n",
       "      <td>I have not been able to find the Maple flavor ...</td>\n",
       "      <td>not able find maple flavor cookies area anywhe...</td>\n",
       "    </tr>\n",
       "    <tr>\n",
       "      <th>39050</th>\n",
       "      <td>42397</td>\n",
       "      <td>B0014DXT5A</td>\n",
       "      <td>AZUCLRMHEBUG0</td>\n",
       "      <td>T. HANLEY \"reader\"</td>\n",
       "      <td>0</td>\n",
       "      <td>0</td>\n",
       "      <td>1</td>\n",
       "      <td>1351209600</td>\n",
       "      <td>ZipFizz liquid energy shot</td>\n",
       "      <td>Have used this for years.  Gives long lasting ...</td>\n",
       "      <td>used years gives long lasting energy boost no ...</td>\n",
       "    </tr>\n",
       "    <tr>\n",
       "      <th>5472</th>\n",
       "      <td>5924</td>\n",
       "      <td>B00523NRVO</td>\n",
       "      <td>A2JDXKFZ0PFHKU</td>\n",
       "      <td>James W. Shondel</td>\n",
       "      <td>0</td>\n",
       "      <td>0</td>\n",
       "      <td>1</td>\n",
       "      <td>1351209600</td>\n",
       "      <td>The perfect pop!</td>\n",
       "      <td>These lollipops are are well done, look exactl...</td>\n",
       "      <td>lollipops well done look exactly like picture ...</td>\n",
       "    </tr>\n",
       "    <tr>\n",
       "      <th>24496</th>\n",
       "      <td>26772</td>\n",
       "      <td>B004ZY4TK4</td>\n",
       "      <td>A4IL0CLL27Q33</td>\n",
       "      <td>D. Brennan</td>\n",
       "      <td>0</td>\n",
       "      <td>0</td>\n",
       "      <td>0</td>\n",
       "      <td>1351209600</td>\n",
       "      <td>Buyer beware</td>\n",
       "      <td>Nespresso makes GREAT coffee and GREAT machine...</td>\n",
       "      <td>nespresso makes great coffee great machines sw...</td>\n",
       "    </tr>\n",
       "    <tr>\n",
       "      <th>52220</th>\n",
       "      <td>56723</td>\n",
       "      <td>B0012XBD7I</td>\n",
       "      <td>A32NC2UF34RJQY</td>\n",
       "      <td>D. Pagliassotti</td>\n",
       "      <td>0</td>\n",
       "      <td>0</td>\n",
       "      <td>1</td>\n",
       "      <td>1351209600</td>\n",
       "      <td>Great for HS lunch</td>\n",
       "      <td>Great for HS lunch, kid enjoy as a snack also,...</td>\n",
       "      <td>great hs lunch kid enjoy snack also buy salted...</td>\n",
       "    </tr>\n",
       "    <tr>\n",
       "      <th>6548</th>\n",
       "      <td>7178</td>\n",
       "      <td>B004OQLIHK</td>\n",
       "      <td>AKHQMSUORSA91</td>\n",
       "      <td>Pen Name</td>\n",
       "      <td>0</td>\n",
       "      <td>0</td>\n",
       "      <td>1</td>\n",
       "      <td>1351209600</td>\n",
       "      <td>Delicious!</td>\n",
       "      <td>I have ordered these raisins multiple times.  ...</td>\n",
       "      <td>ordered raisins multiple times always great ar...</td>\n",
       "    </tr>\n",
       "    <tr>\n",
       "      <th>89213</th>\n",
       "      <td>97089</td>\n",
       "      <td>B004O8KBK8</td>\n",
       "      <td>A1JPKFGGF128X1</td>\n",
       "      <td>MTNick</td>\n",
       "      <td>0</td>\n",
       "      <td>0</td>\n",
       "      <td>1</td>\n",
       "      <td>1351209600</td>\n",
       "      <td>Yummy and Healthy</td>\n",
       "      <td>Loved the cranberry-like flavor and slightly c...</td>\n",
       "      <td>loved cranberry like flavor slightly crunchy t...</td>\n",
       "    </tr>\n",
       "    <tr>\n",
       "      <th>96263</th>\n",
       "      <td>104607</td>\n",
       "      <td>B000FACFIA</td>\n",
       "      <td>A1TTGEM50SIS2R</td>\n",
       "      <td>Abby</td>\n",
       "      <td>0</td>\n",
       "      <td>0</td>\n",
       "      <td>1</td>\n",
       "      <td>1351209600</td>\n",
       "      <td>Licorice Scottie Dogs, Red</td>\n",
       "      <td>I love the Gimbals Red Licorice Scottie dogs I...</td>\n",
       "      <td>love gimbals red licorice scottie dogs purchas...</td>\n",
       "    </tr>\n",
       "    <tr>\n",
       "      <th>43703</th>\n",
       "      <td>47562</td>\n",
       "      <td>B004M0Y8T8</td>\n",
       "      <td>A2QJS6MHTIFSRI</td>\n",
       "      <td>Georgie</td>\n",
       "      <td>0</td>\n",
       "      <td>0</td>\n",
       "      <td>1</td>\n",
       "      <td>1351209600</td>\n",
       "      <td>Sleeping a lot better</td>\n",
       "      <td>Hubby and I (both 63) have been drinking about...</td>\n",
       "      <td>hubby drinking oz night months found falling d...</td>\n",
       "    </tr>\n",
       "    <tr>\n",
       "      <th>51204</th>\n",
       "      <td>55627</td>\n",
       "      <td>B004CYLW7A</td>\n",
       "      <td>A2CMS7BYL8BKP1</td>\n",
       "      <td>luv2fly</td>\n",
       "      <td>0</td>\n",
       "      <td>0</td>\n",
       "      <td>0</td>\n",
       "      <td>1351209600</td>\n",
       "      <td>Yuk! And who goes to Amazon to buy cereal?????</td>\n",
       "      <td>This stuff tasted like (insert favorite negati...</td>\n",
       "      <td>stuff tasted like insert favorite negative adj...</td>\n",
       "    </tr>\n",
       "    <tr>\n",
       "      <th>22401</th>\n",
       "      <td>24518</td>\n",
       "      <td>B0016JJEFG</td>\n",
       "      <td>AO9WE22147CRH</td>\n",
       "      <td>Arvind Rajan</td>\n",
       "      <td>0</td>\n",
       "      <td>0</td>\n",
       "      <td>0</td>\n",
       "      <td>1351209600</td>\n",
       "      <td>bad tasting tea</td>\n",
       "      <td>We drink a lot of tea... from all over the wor...</td>\n",
       "      <td>drink lot tea world far worst tasting tea purc...</td>\n",
       "    </tr>\n",
       "    <tr>\n",
       "      <th>30998</th>\n",
       "      <td>33768</td>\n",
       "      <td>B002ESVRWQ</td>\n",
       "      <td>A293T21WVQ3TDC</td>\n",
       "      <td>James E. Palmiter \"Bargin Hunter\"</td>\n",
       "      <td>0</td>\n",
       "      <td>0</td>\n",
       "      <td>0</td>\n",
       "      <td>1351209600</td>\n",
       "      <td>A bit weak...</td>\n",
       "      <td>The coffee \"Blend\" is really lean on Kona and ...</td>\n",
       "      <td>coffee blend really lean kona really fat fill ...</td>\n",
       "    </tr>\n",
       "    <tr>\n",
       "      <th>32585</th>\n",
       "      <td>35471</td>\n",
       "      <td>B000WSHV1Q</td>\n",
       "      <td>A1YT628H711FN7</td>\n",
       "      <td>Laura Tomevi</td>\n",
       "      <td>0</td>\n",
       "      <td>0</td>\n",
       "      <td>1</td>\n",
       "      <td>1351209600</td>\n",
       "      <td>Great Treat</td>\n",
       "      <td>My cats love these. They are very hard to find...</td>\n",
       "      <td>cats love hard find anywhere used available pe...</td>\n",
       "    </tr>\n",
       "    <tr>\n",
       "      <th>76059</th>\n",
       "      <td>82772</td>\n",
       "      <td>B0049K99RW</td>\n",
       "      <td>A1Y73Y4VX3AJMZ</td>\n",
       "      <td>Rispir Chrone</td>\n",
       "      <td>0</td>\n",
       "      <td>0</td>\n",
       "      <td>1</td>\n",
       "      <td>1351209600</td>\n",
       "      <td>Nice traditional chai</td>\n",
       "      <td>I got hooked on this chai when I decided to gi...</td>\n",
       "      <td>got hooked chai decided give coffee still litt...</td>\n",
       "    </tr>\n",
       "    <tr>\n",
       "      <th>29158</th>\n",
       "      <td>31794</td>\n",
       "      <td>B0049D7HRS</td>\n",
       "      <td>A3LR9HCV3D96I3</td>\n",
       "      <td>Gypsy Healer</td>\n",
       "      <td>0</td>\n",
       "      <td>0</td>\n",
       "      <td>1</td>\n",
       "      <td>1351209600</td>\n",
       "      <td>Delicious</td>\n",
       "      <td>Individually packaged assorted rice crackers a...</td>\n",
       "      <td>individually packaged assorted rice crackers r...</td>\n",
       "    </tr>\n",
       "    <tr>\n",
       "      <th>16026</th>\n",
       "      <td>17512</td>\n",
       "      <td>B0045Z6K50</td>\n",
       "      <td>A3HM6TNYB7FNDL</td>\n",
       "      <td>C. Furman</td>\n",
       "      <td>0</td>\n",
       "      <td>0</td>\n",
       "      <td>1</td>\n",
       "      <td>1351209600</td>\n",
       "      <td>Full- bodied without a bitter after-taste</td>\n",
       "      <td>This is my everyday coffee choice...a good all...</td>\n",
       "      <td>everyday coffee choice good around crowd pleas...</td>\n",
       "    </tr>\n",
       "    <tr>\n",
       "      <th>41621</th>\n",
       "      <td>45226</td>\n",
       "      <td>B00443Z35G</td>\n",
       "      <td>A3G23SMM1E1KPV</td>\n",
       "      <td>L. E. Scott</td>\n",
       "      <td>0</td>\n",
       "      <td>0</td>\n",
       "      <td>1</td>\n",
       "      <td>1351209600</td>\n",
       "      <td>Great Swedish Pastries</td>\n",
       "      <td>Svenhard's varity pack pastries are great.  In...</td>\n",
       "      <td>svenhard varity pack pastries great individual...</td>\n",
       "    </tr>\n",
       "    <tr>\n",
       "      <th>7156</th>\n",
       "      <td>7821</td>\n",
       "      <td>B000HB9TLI</td>\n",
       "      <td>A353IAF5Y1XE53</td>\n",
       "      <td>J. RIGOR \"shop mama\"</td>\n",
       "      <td>0</td>\n",
       "      <td>0</td>\n",
       "      <td>0</td>\n",
       "      <td>1351209600</td>\n",
       "      <td>Don't like the taste</td>\n",
       "      <td>I do not like sour taste and this has a sour k...</td>\n",
       "      <td>not like sour taste sour kind taste not like s...</td>\n",
       "    </tr>\n",
       "    <tr>\n",
       "      <th>55100</th>\n",
       "      <td>59787</td>\n",
       "      <td>B002K9BG16</td>\n",
       "      <td>A30A7W9CZ77GFY</td>\n",
       "      <td>Cecelia Thomas \"Lady Kinrowan\"</td>\n",
       "      <td>0</td>\n",
       "      <td>0</td>\n",
       "      <td>1</td>\n",
       "      <td>1351209600</td>\n",
       "      <td>Butler's chocolate is the real deal direct fro...</td>\n",
       "      <td>Nifty hot chocolate discs added to your warm m...</td>\n",
       "      <td>nifty hot chocolate discs added warm milk milk...</td>\n",
       "    </tr>\n",
       "    <tr>\n",
       "      <th>87501</th>\n",
       "      <td>95241</td>\n",
       "      <td>B00401OZ1U</td>\n",
       "      <td>A1KIL93AY6MFGS</td>\n",
       "      <td>John K. Kirk</td>\n",
       "      <td>0</td>\n",
       "      <td>0</td>\n",
       "      <td>1</td>\n",
       "      <td>1351209600</td>\n",
       "      <td>Metromint or Bust!</td>\n",
       "      <td>Chilled Oragemint is a classic refreshment for...</td>\n",
       "      <td>chilled oragemint classic refreshment dry scra...</td>\n",
       "    </tr>\n",
       "    <tr>\n",
       "      <th>78715</th>\n",
       "      <td>85601</td>\n",
       "      <td>B003ZURM80</td>\n",
       "      <td>A1O6MADFNBRX7H</td>\n",
       "      <td>Denise Lake</td>\n",
       "      <td>0</td>\n",
       "      <td>0</td>\n",
       "      <td>1</td>\n",
       "      <td>1351209600</td>\n",
       "      <td>5 Star Tea at a super price!</td>\n",
       "      <td>This tea is very good and perfect for the pric...</td>\n",
       "      <td>tea good perfect price not go wrong product mu...</td>\n",
       "    </tr>\n",
       "    <tr>\n",
       "      <th>50708</th>\n",
       "      <td>55049</td>\n",
       "      <td>B000IHJEDE</td>\n",
       "      <td>A2DFSA2JXQKVY3</td>\n",
       "      <td>C-Rush</td>\n",
       "      <td>0</td>\n",
       "      <td>0</td>\n",
       "      <td>1</td>\n",
       "      <td>1351209600</td>\n",
       "      <td>Not bad.</td>\n",
       "      <td>These are small and very salty. The taste is g...</td>\n",
       "      <td>small salty taste good strong good thing packa...</td>\n",
       "    </tr>\n",
       "    <tr>\n",
       "      <th>25112</th>\n",
       "      <td>27424</td>\n",
       "      <td>B003WEFSAI</td>\n",
       "      <td>A37O0JPLJ8BOXP</td>\n",
       "      <td>Texaschick59</td>\n",
       "      <td>0</td>\n",
       "      <td>0</td>\n",
       "      <td>1</td>\n",
       "      <td>1351209600</td>\n",
       "      <td>Drink mix</td>\n",
       "      <td>We love this drink mix it taste delicious and ...</td>\n",
       "      <td>love drink mix taste delicious impossible yo f...</td>\n",
       "    </tr>\n",
       "    <tr>\n",
       "      <th>7620</th>\n",
       "      <td>8322</td>\n",
       "      <td>B003VXFK44</td>\n",
       "      <td>A3GFZIL1E0Z5V8</td>\n",
       "      <td>bloomen1</td>\n",
       "      <td>0</td>\n",
       "      <td>0</td>\n",
       "      <td>1</td>\n",
       "      <td>1351209600</td>\n",
       "      <td>Rodeo Drive is Crazy Good Coffee!</td>\n",
       "      <td>Rodeo Drive is my absolute favorite and I'm re...</td>\n",
       "      <td>rodeo drive absolute favorite ready order find...</td>\n",
       "    </tr>\n",
       "    <tr>\n",
       "      <th>13539</th>\n",
       "      <td>14784</td>\n",
       "      <td>B000S859NC</td>\n",
       "      <td>A2H7STZ2URUCOE</td>\n",
       "      <td>Christopher Whedon \"the odd bead\"</td>\n",
       "      <td>0</td>\n",
       "      <td>0</td>\n",
       "      <td>1</td>\n",
       "      <td>1351209600</td>\n",
       "      <td>GREAT TEA</td>\n",
       "      <td>Rooibos Natural Red tea is something of a pers...</td>\n",
       "      <td>rooibos natural red tea something personal tas...</td>\n",
       "    </tr>\n",
       "    <tr>\n",
       "      <th>19181</th>\n",
       "      <td>20930</td>\n",
       "      <td>B001L1MKLY</td>\n",
       "      <td>A38XYFHXEUNUW6</td>\n",
       "      <td>bleaufire</td>\n",
       "      <td>0</td>\n",
       "      <td>0</td>\n",
       "      <td>1</td>\n",
       "      <td>1351209600</td>\n",
       "      <td>Yummy &amp; Subtle</td>\n",
       "      <td>Just made my first pot of this wonderful coffe...</td>\n",
       "      <td>made first pot wonderful coffee simply delish ...</td>\n",
       "    </tr>\n",
       "    <tr>\n",
       "      <th>9</th>\n",
       "      <td>10</td>\n",
       "      <td>B00171APVA</td>\n",
       "      <td>A21BT40VZCCYT4</td>\n",
       "      <td>Carol A. Reed</td>\n",
       "      <td>0</td>\n",
       "      <td>0</td>\n",
       "      <td>1</td>\n",
       "      <td>1351209600</td>\n",
       "      <td>Healthy Dog Food</td>\n",
       "      <td>This is a very healthy dog food. Good for thei...</td>\n",
       "      <td>healthy dog food good digestion also good smal...</td>\n",
       "    </tr>\n",
       "    <tr>\n",
       "      <th>55731</th>\n",
       "      <td>60464</td>\n",
       "      <td>B003QNJYXM</td>\n",
       "      <td>A2E2F8WSUB33VE</td>\n",
       "      <td>Maria A. Alfonzo</td>\n",
       "      <td>0</td>\n",
       "      <td>0</td>\n",
       "      <td>1</td>\n",
       "      <td>1351209600</td>\n",
       "      <td>Excelent</td>\n",
       "      <td>Good price, flavor, fast delivery And good pre...</td>\n",
       "      <td>good price flavor fast delivery good presentat...</td>\n",
       "    </tr>\n",
       "    <tr>\n",
       "      <th>66057</th>\n",
       "      <td>71787</td>\n",
       "      <td>B007RTR8AC</td>\n",
       "      <td>A2PZM8DT1KGT10</td>\n",
       "      <td>Edwina E. Cowgill \"book lover\"</td>\n",
       "      <td>0</td>\n",
       "      <td>0</td>\n",
       "      <td>1</td>\n",
       "      <td>1351209600</td>\n",
       "      <td>Fabulous Shampoo</td>\n",
       "      <td>The name says it all- Clear Scalp and Hair  - ...</td>\n",
       "      <td>name says clear scalp hair leaves hair clear p...</td>\n",
       "    </tr>\n",
       "    <tr>\n",
       "      <th>67928</th>\n",
       "      <td>73819</td>\n",
       "      <td>B008AHJZWY</td>\n",
       "      <td>AL0PVH6QPNWMW</td>\n",
       "      <td>good151</td>\n",
       "      <td>0</td>\n",
       "      <td>0</td>\n",
       "      <td>0</td>\n",
       "      <td>1351209600</td>\n",
       "      <td>Hint Fizz</td>\n",
       "      <td>I love hint water so when I saw they offered h...</td>\n",
       "      <td>love hint water saw offered hint fizz try wors...</td>\n",
       "    </tr>\n",
       "    <tr>\n",
       "      <th>82885</th>\n",
       "      <td>90216</td>\n",
       "      <td>B00866AM2G</td>\n",
       "      <td>AY839W9JQDZM2</td>\n",
       "      <td>Daniella</td>\n",
       "      <td>0</td>\n",
       "      <td>0</td>\n",
       "      <td>1</td>\n",
       "      <td>1351209600</td>\n",
       "      <td>I love this</td>\n",
       "      <td>It's is in my opinion the best coconut water o...</td>\n",
       "      <td>opinion best coconut water especially since no...</td>\n",
       "    </tr>\n",
       "    <tr>\n",
       "      <th>82884</th>\n",
       "      <td>90215</td>\n",
       "      <td>B00866AM2G</td>\n",
       "      <td>ADTOX2JFWWA0B</td>\n",
       "      <td>Arnos Vale</td>\n",
       "      <td>0</td>\n",
       "      <td>0</td>\n",
       "      <td>1</td>\n",
       "      <td>1351209600</td>\n",
       "      <td>Love it.</td>\n",
       "      <td>I love this but think its a little to expensiv...</td>\n",
       "      <td>love think little expensive everyday use refre...</td>\n",
       "    </tr>\n",
       "    <tr>\n",
       "      <th>43268</th>\n",
       "      <td>47077</td>\n",
       "      <td>B001C4PKIK</td>\n",
       "      <td>A3IMXYITIO8WHN</td>\n",
       "      <td>Thomas R. Jackson</td>\n",
       "      <td>0</td>\n",
       "      <td>0</td>\n",
       "      <td>1</td>\n",
       "      <td>1351209600</td>\n",
       "      <td>Great food!</td>\n",
       "      <td>I wanted a food for a a dog with skin problems...</td>\n",
       "      <td>wanted food dog skin problems skin greatly imp...</td>\n",
       "    </tr>\n",
       "    <tr>\n",
       "      <th>42269</th>\n",
       "      <td>45991</td>\n",
       "      <td>B007VQQT1K</td>\n",
       "      <td>A34P4V70RNC2YV</td>\n",
       "      <td>S. Guss</td>\n",
       "      <td>0</td>\n",
       "      <td>0</td>\n",
       "      <td>1</td>\n",
       "      <td>1351209600</td>\n",
       "      <td>Great Irish Tea</td>\n",
       "      <td>We recently returned from a wonderful three we...</td>\n",
       "      <td>recently returned wonderful three week excursi...</td>\n",
       "    </tr>\n",
       "    <tr>\n",
       "      <th>14526</th>\n",
       "      <td>15842</td>\n",
       "      <td>B007TJGZ5E</td>\n",
       "      <td>A3UOYYQS5Z47MS</td>\n",
       "      <td>David A. Levin \"DaveL\"</td>\n",
       "      <td>0</td>\n",
       "      <td>0</td>\n",
       "      <td>1</td>\n",
       "      <td>1351209600</td>\n",
       "      <td>Morning Coffee</td>\n",
       "      <td>Great coffee at a good price. I'm a subscripti...</td>\n",
       "      <td>great coffee good price subscription buyer buy...</td>\n",
       "    </tr>\n",
       "    <tr>\n",
       "      <th>15069</th>\n",
       "      <td>16426</td>\n",
       "      <td>B007TJGZ54</td>\n",
       "      <td>A29BJSTYH9W3JI</td>\n",
       "      <td>Harry</td>\n",
       "      <td>0</td>\n",
       "      <td>0</td>\n",
       "      <td>1</td>\n",
       "      <td>1351209600</td>\n",
       "      <td>super coffee</td>\n",
       "      <td>Great coffee and so easy to brew.  This coffee...</td>\n",
       "      <td>great coffee easy brew coffee great aroma good...</td>\n",
       "    </tr>\n",
       "    <tr>\n",
       "      <th>83618</th>\n",
       "      <td>91002</td>\n",
       "      <td>B001E5E470</td>\n",
       "      <td>AGADB4E6N1EDS</td>\n",
       "      <td>L. A. Stephenson \"Mom of four\"</td>\n",
       "      <td>0</td>\n",
       "      <td>0</td>\n",
       "      <td>1</td>\n",
       "      <td>1351209600</td>\n",
       "      <td>Help for a Lousy Cook</td>\n",
       "      <td>I'm a lousy cook and I know it.  However, when...</td>\n",
       "      <td>lousy cook know however kids grind little garl...</td>\n",
       "    </tr>\n",
       "    <tr>\n",
       "      <th>85745</th>\n",
       "      <td>93367</td>\n",
       "      <td>B007TGDXMU</td>\n",
       "      <td>AAMUNRK134Y5P</td>\n",
       "      <td>Tony Schy</td>\n",
       "      <td>0</td>\n",
       "      <td>0</td>\n",
       "      <td>1</td>\n",
       "      <td>1351209600</td>\n",
       "      <td>Very pleased</td>\n",
       "      <td>Good price, good quality with convenience.  Fu...</td>\n",
       "      <td>good price good quality convenience fully met ...</td>\n",
       "    </tr>\n",
       "    <tr>\n",
       "      <th>85744</th>\n",
       "      <td>93366</td>\n",
       "      <td>B007TGDXMU</td>\n",
       "      <td>AGUBQN9M09VQ4</td>\n",
       "      <td>Inger Jackson</td>\n",
       "      <td>0</td>\n",
       "      <td>0</td>\n",
       "      <td>0</td>\n",
       "      <td>1351209600</td>\n",
       "      <td>Not what I expected</td>\n",
       "      <td>First of all the \"k-cups\" were weird and the t...</td>\n",
       "      <td>first k cups weird taste not thought would not...</td>\n",
       "    </tr>\n",
       "    <tr>\n",
       "      <th>85743</th>\n",
       "      <td>93365</td>\n",
       "      <td>B007TGDXMU</td>\n",
       "      <td>A9JMG87TELB6N</td>\n",
       "      <td>Ludmila Newman</td>\n",
       "      <td>0</td>\n",
       "      <td>0</td>\n",
       "      <td>1</td>\n",
       "      <td>1351209600</td>\n",
       "      <td>Best coffee I ever had</td>\n",
       "      <td>This is the best coffee I have ever had. I hav...</td>\n",
       "      <td>best coffee ever keurig coffee maker several y...</td>\n",
       "    </tr>\n",
       "    <tr>\n",
       "      <th>84914</th>\n",
       "      <td>92421</td>\n",
       "      <td>B007TGDXMK</td>\n",
       "      <td>A1BSGNCHEI1PJI</td>\n",
       "      <td>Kelly Bowser \"Runs W Scissors\"</td>\n",
       "      <td>0</td>\n",
       "      <td>0</td>\n",
       "      <td>1</td>\n",
       "      <td>1351209600</td>\n",
       "      <td>Very Nice Medium Roast</td>\n",
       "      <td>This coffee has the best aroma!  Great medium ...</td>\n",
       "      <td>coffee best aroma great medium taste replaced ...</td>\n",
       "    </tr>\n",
       "    <tr>\n",
       "      <th>14300</th>\n",
       "      <td>15605</td>\n",
       "      <td>B000255OIG</td>\n",
       "      <td>AUINI96NMGXUI</td>\n",
       "      <td>Kkrys23</td>\n",
       "      <td>0</td>\n",
       "      <td>0</td>\n",
       "      <td>1</td>\n",
       "      <td>1351209600</td>\n",
       "      <td>Love this faucet</td>\n",
       "      <td>Love this faucet.  My husband had installed th...</td>\n",
       "      <td>love faucet husband installed one old house cu...</td>\n",
       "    </tr>\n",
       "    <tr>\n",
       "      <th>14299</th>\n",
       "      <td>15604</td>\n",
       "      <td>B000255OIG</td>\n",
       "      <td>A3SSEJ8IEM4YGW</td>\n",
       "      <td>Seagaul</td>\n",
       "      <td>0</td>\n",
       "      <td>0</td>\n",
       "      <td>1</td>\n",
       "      <td>1351209600</td>\n",
       "      <td>Dogs love it.</td>\n",
       "      <td>This is the \"all gone\" treat after dinner.  It...</td>\n",
       "      <td>gone treat dinner treat dogs work run chance l...</td>\n",
       "    </tr>\n",
       "  </tbody>\n",
       "</table>\n",
       "</div>"
      ],
      "text/plain": [
       "           Id   ProductId          UserId                        ProfileName  \\\n",
       "5259     5703  B009WSNWC4   AMP7K1O84DH1T                               ESTY   \n",
       "1005     1089  B004FD13RW    A1BPLP0BKERV                               Paul   \n",
       "63160   68621  B005IOXBY0  A1ORVAUR5C5N8X                         amondigirl   \n",
       "9513    10404  B005HI55CS  A36ERNIM0TKG3T                   Donald E. Bolton   \n",
       "86066   93711  B001NZPFB0  A3318V6FJ2KIII                          T. Dennis   \n",
       "30235   32932  B001P05K8Q  A3L0B5NBTQ7ZHO                              Julie   \n",
       "96778  105165  B005EF0HZ4  A2A5Z7LC91EFVA                     Gretchen Casey   \n",
       "96779  105166  B005EF0HZ4  A1JXSMYVHFPWM1                     marsha m beers   \n",
       "39050   42397  B0014DXT5A   AZUCLRMHEBUG0                 T. HANLEY \"reader\"   \n",
       "5472     5924  B00523NRVO  A2JDXKFZ0PFHKU                   James W. Shondel   \n",
       "24496   26772  B004ZY4TK4   A4IL0CLL27Q33                         D. Brennan   \n",
       "52220   56723  B0012XBD7I  A32NC2UF34RJQY                    D. Pagliassotti   \n",
       "6548     7178  B004OQLIHK   AKHQMSUORSA91                           Pen Name   \n",
       "89213   97089  B004O8KBK8  A1JPKFGGF128X1                             MTNick   \n",
       "96263  104607  B000FACFIA  A1TTGEM50SIS2R                               Abby   \n",
       "43703   47562  B004M0Y8T8  A2QJS6MHTIFSRI                            Georgie   \n",
       "51204   55627  B004CYLW7A  A2CMS7BYL8BKP1                            luv2fly   \n",
       "22401   24518  B0016JJEFG   AO9WE22147CRH                       Arvind Rajan   \n",
       "30998   33768  B002ESVRWQ  A293T21WVQ3TDC  James E. Palmiter \"Bargin Hunter\"   \n",
       "32585   35471  B000WSHV1Q  A1YT628H711FN7                       Laura Tomevi   \n",
       "76059   82772  B0049K99RW  A1Y73Y4VX3AJMZ                      Rispir Chrone   \n",
       "29158   31794  B0049D7HRS  A3LR9HCV3D96I3                       Gypsy Healer   \n",
       "16026   17512  B0045Z6K50  A3HM6TNYB7FNDL                          C. Furman   \n",
       "41621   45226  B00443Z35G  A3G23SMM1E1KPV                        L. E. Scott   \n",
       "7156     7821  B000HB9TLI  A353IAF5Y1XE53               J. RIGOR \"shop mama\"   \n",
       "55100   59787  B002K9BG16  A30A7W9CZ77GFY     Cecelia Thomas \"Lady Kinrowan\"   \n",
       "87501   95241  B00401OZ1U  A1KIL93AY6MFGS                       John K. Kirk   \n",
       "78715   85601  B003ZURM80  A1O6MADFNBRX7H                        Denise Lake   \n",
       "50708   55049  B000IHJEDE  A2DFSA2JXQKVY3                             C-Rush   \n",
       "25112   27424  B003WEFSAI  A37O0JPLJ8BOXP                       Texaschick59   \n",
       "7620     8322  B003VXFK44  A3GFZIL1E0Z5V8                           bloomen1   \n",
       "13539   14784  B000S859NC  A2H7STZ2URUCOE  Christopher Whedon \"the odd bead\"   \n",
       "19181   20930  B001L1MKLY  A38XYFHXEUNUW6                          bleaufire   \n",
       "9          10  B00171APVA  A21BT40VZCCYT4                      Carol A. Reed   \n",
       "55731   60464  B003QNJYXM  A2E2F8WSUB33VE                   Maria A. Alfonzo   \n",
       "66057   71787  B007RTR8AC  A2PZM8DT1KGT10     Edwina E. Cowgill \"book lover\"   \n",
       "67928   73819  B008AHJZWY   AL0PVH6QPNWMW                            good151   \n",
       "82885   90216  B00866AM2G   AY839W9JQDZM2                           Daniella   \n",
       "82884   90215  B00866AM2G   ADTOX2JFWWA0B                         Arnos Vale   \n",
       "43268   47077  B001C4PKIK  A3IMXYITIO8WHN                  Thomas R. Jackson   \n",
       "42269   45991  B007VQQT1K  A34P4V70RNC2YV                            S. Guss   \n",
       "14526   15842  B007TJGZ5E  A3UOYYQS5Z47MS             David A. Levin \"DaveL\"   \n",
       "15069   16426  B007TJGZ54  A29BJSTYH9W3JI                              Harry   \n",
       "83618   91002  B001E5E470   AGADB4E6N1EDS     L. A. Stephenson \"Mom of four\"   \n",
       "85745   93367  B007TGDXMU   AAMUNRK134Y5P                          Tony Schy   \n",
       "85744   93366  B007TGDXMU   AGUBQN9M09VQ4                      Inger Jackson   \n",
       "85743   93365  B007TGDXMU   A9JMG87TELB6N                     Ludmila Newman   \n",
       "84914   92421  B007TGDXMK  A1BSGNCHEI1PJI     Kelly Bowser \"Runs W Scissors\"   \n",
       "14300   15605  B000255OIG   AUINI96NMGXUI                            Kkrys23   \n",
       "14299   15604  B000255OIG  A3SSEJ8IEM4YGW                            Seagaul   \n",
       "\n",
       "       HelpfulnessNumerator  HelpfulnessDenominator  Score        Time  \\\n",
       "5259                      0                       0      1  1351209600   \n",
       "1005                      0                       0      1  1351209600   \n",
       "63160                     0                       0      1  1351209600   \n",
       "9513                      0                       0      1  1351209600   \n",
       "86066                     0                       0      1  1351209600   \n",
       "30235                     0                       0      1  1351209600   \n",
       "96778                     0                       0      1  1351209600   \n",
       "96779                     0                       0      0  1351209600   \n",
       "39050                     0                       0      1  1351209600   \n",
       "5472                      0                       0      1  1351209600   \n",
       "24496                     0                       0      0  1351209600   \n",
       "52220                     0                       0      1  1351209600   \n",
       "6548                      0                       0      1  1351209600   \n",
       "89213                     0                       0      1  1351209600   \n",
       "96263                     0                       0      1  1351209600   \n",
       "43703                     0                       0      1  1351209600   \n",
       "51204                     0                       0      0  1351209600   \n",
       "22401                     0                       0      0  1351209600   \n",
       "30998                     0                       0      0  1351209600   \n",
       "32585                     0                       0      1  1351209600   \n",
       "76059                     0                       0      1  1351209600   \n",
       "29158                     0                       0      1  1351209600   \n",
       "16026                     0                       0      1  1351209600   \n",
       "41621                     0                       0      1  1351209600   \n",
       "7156                      0                       0      0  1351209600   \n",
       "55100                     0                       0      1  1351209600   \n",
       "87501                     0                       0      1  1351209600   \n",
       "78715                     0                       0      1  1351209600   \n",
       "50708                     0                       0      1  1351209600   \n",
       "25112                     0                       0      1  1351209600   \n",
       "7620                      0                       0      1  1351209600   \n",
       "13539                     0                       0      1  1351209600   \n",
       "19181                     0                       0      1  1351209600   \n",
       "9                         0                       0      1  1351209600   \n",
       "55731                     0                       0      1  1351209600   \n",
       "66057                     0                       0      1  1351209600   \n",
       "67928                     0                       0      0  1351209600   \n",
       "82885                     0                       0      1  1351209600   \n",
       "82884                     0                       0      1  1351209600   \n",
       "43268                     0                       0      1  1351209600   \n",
       "42269                     0                       0      1  1351209600   \n",
       "14526                     0                       0      1  1351209600   \n",
       "15069                     0                       0      1  1351209600   \n",
       "83618                     0                       0      1  1351209600   \n",
       "85745                     0                       0      1  1351209600   \n",
       "85744                     0                       0      0  1351209600   \n",
       "85743                     0                       0      1  1351209600   \n",
       "84914                     0                       0      1  1351209600   \n",
       "14300                     0                       0      1  1351209600   \n",
       "14299                     0                       0      1  1351209600   \n",
       "\n",
       "                                                 Summary  \\\n",
       "5259                                           DELICIOUS   \n",
       "1005                                      It is awesome.   \n",
       "63160                                           WOW.....   \n",
       "9513                          Hidden Springs Maple syrup   \n",
       "86066            My dog enjoys it and it helps her hips.   \n",
       "30235                       Great results but they stink   \n",
       "96778                                    Gluten Free Kid   \n",
       "96779                                       Disappointed   \n",
       "39050                         ZipFizz liquid energy shot   \n",
       "5472                                    The perfect pop!   \n",
       "24496                                       Buyer beware   \n",
       "52220                                 Great for HS lunch   \n",
       "6548                                          Delicious!   \n",
       "89213                                  Yummy and Healthy   \n",
       "96263                         Licorice Scottie Dogs, Red   \n",
       "43703                              Sleeping a lot better   \n",
       "51204     Yuk! And who goes to Amazon to buy cereal?????   \n",
       "22401                                    bad tasting tea   \n",
       "30998                                      A bit weak...   \n",
       "32585                                        Great Treat   \n",
       "76059                              Nice traditional chai   \n",
       "29158                                          Delicious   \n",
       "16026          Full- bodied without a bitter after-taste   \n",
       "41621                             Great Swedish Pastries   \n",
       "7156                                Don't like the taste   \n",
       "55100  Butler's chocolate is the real deal direct fro...   \n",
       "87501                                 Metromint or Bust!   \n",
       "78715                       5 Star Tea at a super price!   \n",
       "50708                                           Not bad.   \n",
       "25112                                          Drink mix   \n",
       "7620                   Rodeo Drive is Crazy Good Coffee!   \n",
       "13539                                          GREAT TEA   \n",
       "19181                                     Yummy & Subtle   \n",
       "9                                       Healthy Dog Food   \n",
       "55731                                           Excelent   \n",
       "66057                                   Fabulous Shampoo   \n",
       "67928                                          Hint Fizz   \n",
       "82885                                        I love this   \n",
       "82884                                           Love it.   \n",
       "43268                                        Great food!   \n",
       "42269                                    Great Irish Tea   \n",
       "14526                                     Morning Coffee   \n",
       "15069                                       super coffee   \n",
       "83618                              Help for a Lousy Cook   \n",
       "85745                                       Very pleased   \n",
       "85744                                Not what I expected   \n",
       "85743                             Best coffee I ever had   \n",
       "84914                             Very Nice Medium Roast   \n",
       "14300                                   Love this faucet   \n",
       "14299                                      Dogs love it.   \n",
       "\n",
       "                                                    Text  \\\n",
       "5259   Purchased this product at a local store in NY ...   \n",
       "1005   My partner is very happy with the tea, and is ...   \n",
       "63160  This chocolate is amazing..I love the taste an...   \n",
       "9513   This is one of the very finest maple syrups I ...   \n",
       "86066  My dog was diagnosed with hip dysplasia as a 6...   \n",
       "30235  We originally purchased these chews from our v...   \n",
       "96778  We LOVE Lucy's cookies!  The Maple Bliss are w...   \n",
       "96779  I have not been able to find the Maple flavor ...   \n",
       "39050  Have used this for years.  Gives long lasting ...   \n",
       "5472   These lollipops are are well done, look exactl...   \n",
       "24496  Nespresso makes GREAT coffee and GREAT machine...   \n",
       "52220  Great for HS lunch, kid enjoy as a snack also,...   \n",
       "6548   I have ordered these raisins multiple times.  ...   \n",
       "89213  Loved the cranberry-like flavor and slightly c...   \n",
       "96263  I love the Gimbals Red Licorice Scottie dogs I...   \n",
       "43703  Hubby and I (both 63) have been drinking about...   \n",
       "51204  This stuff tasted like (insert favorite negati...   \n",
       "22401  We drink a lot of tea... from all over the wor...   \n",
       "30998  The coffee \"Blend\" is really lean on Kona and ...   \n",
       "32585  My cats love these. They are very hard to find...   \n",
       "76059  I got hooked on this chai when I decided to gi...   \n",
       "29158  Individually packaged assorted rice crackers a...   \n",
       "16026  This is my everyday coffee choice...a good all...   \n",
       "41621  Svenhard's varity pack pastries are great.  In...   \n",
       "7156   I do not like sour taste and this has a sour k...   \n",
       "55100  Nifty hot chocolate discs added to your warm m...   \n",
       "87501  Chilled Oragemint is a classic refreshment for...   \n",
       "78715  This tea is very good and perfect for the pric...   \n",
       "50708  These are small and very salty. The taste is g...   \n",
       "25112  We love this drink mix it taste delicious and ...   \n",
       "7620   Rodeo Drive is my absolute favorite and I'm re...   \n",
       "13539  Rooibos Natural Red tea is something of a pers...   \n",
       "19181  Just made my first pot of this wonderful coffe...   \n",
       "9      This is a very healthy dog food. Good for thei...   \n",
       "55731  Good price, flavor, fast delivery And good pre...   \n",
       "66057  The name says it all- Clear Scalp and Hair  - ...   \n",
       "67928  I love hint water so when I saw they offered h...   \n",
       "82885  It's is in my opinion the best coconut water o...   \n",
       "82884  I love this but think its a little to expensiv...   \n",
       "43268  I wanted a food for a a dog with skin problems...   \n",
       "42269  We recently returned from a wonderful three we...   \n",
       "14526  Great coffee at a good price. I'm a subscripti...   \n",
       "15069  Great coffee and so easy to brew.  This coffee...   \n",
       "83618  I'm a lousy cook and I know it.  However, when...   \n",
       "85745  Good price, good quality with convenience.  Fu...   \n",
       "85744  First of all the \"k-cups\" were weird and the t...   \n",
       "85743  This is the best coffee I have ever had. I hav...   \n",
       "84914  This coffee has the best aroma!  Great medium ...   \n",
       "14300  Love this faucet.  My husband had installed th...   \n",
       "14299  This is the \"all gone\" treat after dinner.  It...   \n",
       "\n",
       "                                             Review_Text  \n",
       "5259   purchased product local store ny kids love qui...  \n",
       "1005   partner happy tea feeling much better since st...  \n",
       "63160  chocolate amazing love taste smell chocolate f...  \n",
       "9513   one finest maple syrups ordered enjoyed bought...  \n",
       "86066  dog diagnosed hip dysplasia old puppy vet said...  \n",
       "30235  originally purchased chews veterinarian decide...  \n",
       "96778  love lucy cookies maple bliss wonderful bad ha...  \n",
       "96779  not able find maple flavor cookies area anywhe...  \n",
       "39050  used years gives long lasting energy boost no ...  \n",
       "5472   lollipops well done look exactly like picture ...  \n",
       "24496  nespresso makes great coffee great machines sw...  \n",
       "52220  great hs lunch kid enjoy snack also buy salted...  \n",
       "6548   ordered raisins multiple times always great ar...  \n",
       "89213  loved cranberry like flavor slightly crunchy t...  \n",
       "96263  love gimbals red licorice scottie dogs purchas...  \n",
       "43703  hubby drinking oz night months found falling d...  \n",
       "51204  stuff tasted like insert favorite negative adj...  \n",
       "22401  drink lot tea world far worst tasting tea purc...  \n",
       "30998  coffee blend really lean kona really fat fill ...  \n",
       "32585  cats love hard find anywhere used available pe...  \n",
       "76059  got hooked chai decided give coffee still litt...  \n",
       "29158  individually packaged assorted rice crackers r...  \n",
       "16026  everyday coffee choice good around crowd pleas...  \n",
       "41621  svenhard varity pack pastries great individual...  \n",
       "7156   not like sour taste sour kind taste not like s...  \n",
       "55100  nifty hot chocolate discs added warm milk milk...  \n",
       "87501  chilled oragemint classic refreshment dry scra...  \n",
       "78715  tea good perfect price not go wrong product mu...  \n",
       "50708  small salty taste good strong good thing packa...  \n",
       "25112  love drink mix taste delicious impossible yo f...  \n",
       "7620   rodeo drive absolute favorite ready order find...  \n",
       "13539  rooibos natural red tea something personal tas...  \n",
       "19181  made first pot wonderful coffee simply delish ...  \n",
       "9      healthy dog food good digestion also good smal...  \n",
       "55731  good price flavor fast delivery good presentat...  \n",
       "66057  name says clear scalp hair leaves hair clear p...  \n",
       "67928  love hint water saw offered hint fizz try wors...  \n",
       "82885  opinion best coconut water especially since no...  \n",
       "82884  love think little expensive everyday use refre...  \n",
       "43268  wanted food dog skin problems skin greatly imp...  \n",
       "42269  recently returned wonderful three week excursi...  \n",
       "14526  great coffee good price subscription buyer buy...  \n",
       "15069  great coffee easy brew coffee great aroma good...  \n",
       "83618  lousy cook know however kids grind little garl...  \n",
       "85745  good price good quality convenience fully met ...  \n",
       "85744  first k cups weird taste not thought would not...  \n",
       "85743  best coffee ever keurig coffee maker several y...  \n",
       "84914  coffee best aroma great medium taste replaced ...  \n",
       "14300  love faucet husband installed one old house cu...  \n",
       "14299  gone treat dinner treat dogs work run chance l...  "
      ]
     },
     "execution_count": 18,
     "metadata": {},
     "output_type": "execute_result"
    }
   ],
   "source": [
    "final.head(50)"
   ]
  },
  {
   "cell_type": "code",
   "execution_count": 19,
   "metadata": {},
   "outputs": [],
   "source": [
    "# Dropping unnecessary columns and keeping only Review_Text and Score Columns\n",
    "\n",
    "final_df=final[['Review_Text','Score']]"
   ]
  },
  {
   "cell_type": "code",
   "execution_count": 20,
   "metadata": {},
   "outputs": [
    {
     "data": {
      "text/plain": [
       "(87773, 2)"
      ]
     },
     "execution_count": 20,
     "metadata": {},
     "output_type": "execute_result"
    }
   ],
   "source": [
    "final_df.shape"
   ]
  },
  {
   "cell_type": "code",
   "execution_count": 21,
   "metadata": {},
   "outputs": [
    {
     "data": {
      "text/html": [
       "<div>\n",
       "<style scoped>\n",
       "    .dataframe tbody tr th:only-of-type {\n",
       "        vertical-align: middle;\n",
       "    }\n",
       "\n",
       "    .dataframe tbody tr th {\n",
       "        vertical-align: top;\n",
       "    }\n",
       "\n",
       "    .dataframe thead th {\n",
       "        text-align: right;\n",
       "    }\n",
       "</style>\n",
       "<table border=\"1\" class=\"dataframe\">\n",
       "  <thead>\n",
       "    <tr style=\"text-align: right;\">\n",
       "      <th></th>\n",
       "      <th>Review_Text</th>\n",
       "      <th>Score</th>\n",
       "    </tr>\n",
       "  </thead>\n",
       "  <tbody>\n",
       "    <tr>\n",
       "      <th>5259</th>\n",
       "      <td>purchased product local store ny kids love qui...</td>\n",
       "      <td>1</td>\n",
       "    </tr>\n",
       "    <tr>\n",
       "      <th>1005</th>\n",
       "      <td>partner happy tea feeling much better since st...</td>\n",
       "      <td>1</td>\n",
       "    </tr>\n",
       "    <tr>\n",
       "      <th>63160</th>\n",
       "      <td>chocolate amazing love taste smell chocolate f...</td>\n",
       "      <td>1</td>\n",
       "    </tr>\n",
       "    <tr>\n",
       "      <th>9513</th>\n",
       "      <td>one finest maple syrups ordered enjoyed bought...</td>\n",
       "      <td>1</td>\n",
       "    </tr>\n",
       "    <tr>\n",
       "      <th>86066</th>\n",
       "      <td>dog diagnosed hip dysplasia old puppy vet said...</td>\n",
       "      <td>1</td>\n",
       "    </tr>\n",
       "  </tbody>\n",
       "</table>\n",
       "</div>"
      ],
      "text/plain": [
       "                                             Review_Text  Score\n",
       "5259   purchased product local store ny kids love qui...      1\n",
       "1005   partner happy tea feeling much better since st...      1\n",
       "63160  chocolate amazing love taste smell chocolate f...      1\n",
       "9513   one finest maple syrups ordered enjoyed bought...      1\n",
       "86066  dog diagnosed hip dysplasia old puppy vet said...      1"
      ]
     },
     "execution_count": 21,
     "metadata": {},
     "output_type": "execute_result"
    }
   ],
   "source": [
    "final_df.head()"
   ]
  },
  {
   "cell_type": "code",
   "execution_count": 22,
   "metadata": {},
   "outputs": [],
   "source": [
    "#Splitting the data into Features and Labels\n",
    "\n",
    "X=final_df['Review_Text'].values\n",
    "y=final_df['Score'].values"
   ]
  },
  {
   "cell_type": "code",
   "execution_count": 23,
   "metadata": {},
   "outputs": [],
   "source": [
    "# Splitting the data into Training and Testing\n",
    "\n",
    "from sklearn.model_selection import train_test_split\n",
    "\n",
    "X_train, X_test, y_train, y_test = train_test_split(X, y, test_size=0.30,random_state=3,shuffle=False) # this is random splitting\n",
    "X_train, X_cv, y_train, y_cv = train_test_split(X_train, y_train, test_size=0.30,random_state=3,shuffle=False) # this is random splitting"
   ]
  },
  {
   "cell_type": "code",
   "execution_count": 24,
   "metadata": {},
   "outputs": [
    {
     "name": "stdout",
     "output_type": "stream",
     "text": [
      "(43008,) (43008,)\n",
      "(18433,) (18433,)\n",
      "(26332,) (26332,)\n"
     ]
    }
   ],
   "source": [
    "# Shape of the Training and Test data\n",
    "\n",
    "print(X_train.shape, y_train.shape)\n",
    "print(X_cv.shape, y_cv.shape)\n",
    "print(X_test.shape, y_test.shape)\n",
    "\n"
   ]
  },
  {
   "cell_type": "code",
   "execution_count": 25,
   "metadata": {},
   "outputs": [
    {
     "name": "stdout",
     "output_type": "stream",
     "text": [
      "After vectorizations\n",
      "(43008, 38523) (43008,)\n",
      "(18433, 38523) (18433,)\n",
      "(26332, 38523) (26332,)\n"
     ]
    }
   ],
   "source": [
    "# Converting to BOW\n",
    "\n",
    "from sklearn.feature_extraction.text import CountVectorizer\n",
    "vectorizer = CountVectorizer()\n",
    "vectorizer.fit(X_train) # fit has to happen only on train data\n",
    "\n",
    "# we use the fitted CountVectorizer to convert the text to vector\n",
    "X_train_bow = vectorizer.transform(X_train)\n",
    "X_cv_bow = vectorizer.transform(X_cv)\n",
    "X_test_bow = vectorizer.transform(X_test)\n",
    "\n",
    "\n",
    "print(\"After vectorizations\")\n",
    "print(X_train_bow.shape, y_train.shape)\n",
    "print(X_cv_bow.shape, y_cv.shape)\n",
    "print(X_test_bow.shape, y_test.shape)"
   ]
  },
  {
   "cell_type": "code",
   "execution_count": 26,
   "metadata": {},
   "outputs": [
    {
     "data": {
      "image/png": "[encoded data removed]",
      "text/plain": [
       "<Figure size 432x288 with 1 Axes>"
      ]
     },
     "metadata": {
      "needs_background": "light"
     },
     "output_type": "display_data"
    }
   ],
   "source": [
    "# Hyper parameter tuning to find best alpha\n",
    "# Simple Cross validation\n",
    "\n",
    "from sklearn.naive_bayes import MultinomialNB\n",
    "from sklearn.metrics import roc_auc_score\n",
    "import matplotlib.pyplot as plt\n",
    "\"\"\"\n",
    "y_true : array, shape = [n_samples] or [n_samples, n_classes]\n",
    "True binary labels or binary label indicators.\n",
    "\n",
    "y_score : array, shape = [n_samples] or [n_samples, n_classes]\n",
    "Target scores, can either be probability estimates of the positive class, confidence values, or non-thresholded measure of\n",
    "decisions (as returned by “decision_function” on some classifiers). \n",
    "For binary y_true, y_score is supposed to be the score of the class with greater label.\n",
    "\n",
    "\"\"\"\n",
    "\n",
    "train_auc = []\n",
    "cv_auc = []\n",
    "alpha = [10**-5,10**-4,10**-3,10**-2,10**-1,1,10,100,1000,10000]\n",
    "for i in alpha:\n",
    "    NB =MultinomialNB(alpha=i)\n",
    "    NB.fit(X_train_bow, y_train)\n",
    "    # roc_auc_score(y_true, y_score) the 2nd parameter should be probability estimates of the positive class\n",
    "    # not the predicted outputs\n",
    "    y_train_pred =  NB.predict_proba(X_train_bow)[:,1]\n",
    "    y_cv_pred =  NB.predict_proba(X_cv_bow)[:,1]\n",
    "    y_test_pred =  NB.predict_proba(X_test_bow)[:,1]\n",
    "\n",
    "    train_auc.append(roc_auc_score(y_train,y_train_pred))\n",
    "    cv_auc.append(roc_auc_score(y_cv, y_cv_pred))\n",
    "\n",
    "plt.plot(alpha, train_auc, label='Train AUC')\n",
    "plt.plot(alpha, cv_auc, label='CV AUC')\n",
    "plt.legend()\n",
    "plt.xlabel(\"alpha: hyperparameter\")\n",
    "plt.ylabel(\"AUC\")\n",
    "plt.title(\"ERROR PLOTS\")\n",
    "plt.show()"
   ]
  },
  {
   "cell_type": "markdown",
   "metadata": {},
   "source": [
    "From the above plot,we can not find best alpha since we can not see '10**-5','10**-4'..etc values in the plot.\n",
    "To sove that,we use semilogx as below."
   ]
  },
  {
   "cell_type": "code",
   "execution_count": 32,
   "metadata": {},
   "outputs": [
    {
     "data": {
      "image/png": "[encoded data removed]",
      "text/plain": [
       "<Figure size 432x288 with 1 Axes>"
      ]
     },
     "metadata": {
      "needs_background": "light"
     },
     "output_type": "display_data"
    }
   ],
   "source": [
    "# Hyper parameter tuning to find best alpha\n",
    "# Simple Cross validation\n",
    "\n",
    "from sklearn.naive_bayes import MultinomialNB\n",
    "from sklearn.metrics import roc_auc_score\n",
    "import matplotlib.pyplot as plt\n",
    "\"\"\"\n",
    "y_true : array, shape = [n_samples] or [n_samples, n_classes]\n",
    "True binary labels or binary label indicators.\n",
    "\n",
    "y_score : array, shape = [n_samples] or [n_samples, n_classes]\n",
    "Target scores, can either be probability estimates of the positive class, confidence values, or non-thresholded measure of\n",
    "decisions (as returned by “decision_function” on some classifiers). \n",
    "For binary y_true, y_score is supposed to be the score of the class with greater label.\n",
    "\n",
    "\"\"\"\n",
    "\n",
    "train_auc = []\n",
    "cv_auc = []\n",
    "alpha = [10**-5,10**-4,10**-3,10**-2,10**-1,1,10,100,1000,10000]\n",
    "for i in alpha:\n",
    "    NB =MultinomialNB(alpha=i)\n",
    "    NB.fit(X_train_bow, y_train)\n",
    "    # roc_auc_score(y_true, y_score) the 2nd parameter should be probability estimates of the positive class\n",
    "    # not the predicted outputs\n",
    "    y_train_pred =  NB.predict_proba(X_train_bow)[:,1]\n",
    "    y_cv_pred =  NB.predict_proba(X_cv_bow)[:,1]\n",
    "    y_test_pred =  NB.predict_proba(X_test_bow)[:,1]\n",
    "\n",
    "    train_auc.append(roc_auc_score(y_train,y_train_pred))\n",
    "    cv_auc.append(roc_auc_score(y_cv, y_cv_pred))\n",
    "    \n",
    "plt.semilogx(alpha, train_auc,label='Train AUC')\n",
    "plt.semilogx(alpha, cv_auc,label='CV AUC')\n",
    "\n",
    "plt.legend()\n",
    "plt.xlabel(\"alpha: hyperparameter\")\n",
    "plt.ylabel(\"AUC\")\n",
    "plt.title(\"ERROR PLOTS\")\n",
    "plt.show()"
   ]
  },
  {
   "cell_type": "markdown",
   "metadata": {},
   "source": [
    "From the plot,we can see that the best alpha value is 10 power -1 where CV AUC and Train ACU are high and the gap is less"
   ]
  },
  {
   "cell_type": "markdown",
   "metadata": {},
   "source": [
    "## Building MultinomialNB with best alpha value:10 ** -1"
   ]
  },
  {
   "cell_type": "code",
   "execution_count": 33,
   "metadata": {},
   "outputs": [
    {
     "data": {
      "image/png": "[encoded data removed]",
      "text/plain": [
       "<Figure size 432x288 with 1 Axes>"
      ]
     },
     "metadata": {
      "needs_background": "light"
     },
     "output_type": "display_data"
    }
   ],
   "source": [
    "# https://scikit-learn.org/stable/modules/generated/sklearn.metrics.roc_curve.html#sklearn.metrics.roc_curve\n",
    "from sklearn.metrics import roc_curve, auc\n",
    "from sklearn.naive_bayes import MultinomialNB\n",
    "MNB=MultinomialNB(alpha=10**-1,class_prior=[0.5,0.5])\n",
    "MNB.fit(X_train_bow, y_train)\n",
    "# roc_auc_score(y_true, y_score) the 2nd parameter should be probability estimates of the positive class\n",
    "# not the predicted outputs\n",
    "\n",
    "train_fpr, train_tpr, thresholds_tr_bow = roc_curve(y_train, MNB.predict_proba(X_train_bow)[:,1])\n",
    "test_fpr, test_tpr, thresholds_te_bow = roc_curve(y_test, MNB.predict_proba(X_test_bow)[:,1])\n",
    "\n",
    "plt.plot(train_fpr, train_tpr, label=\"train AUC =\"+str(auc(train_fpr, train_tpr)))\n",
    "plt.plot(test_fpr, test_tpr, label=\"test AUC =\"+str(auc(test_fpr, test_tpr)))\n",
    "plt.plot([0, 1], [0, 1],'r--')\n",
    "plt.xlim([0,1])\n",
    "plt.ylim([0,1])\n",
    "plt.legend()\n",
    "plt.xlabel(\"False Positive Rate(FPR)\")\n",
    "plt.ylabel(\"True Positive Rate(TPR)\")\n",
    "plt.title(\"Receiver Operating Characteristic Curves(ROC)\")\n",
    "plt.show()\n"
   ]
  },
  {
   "cell_type": "markdown",
   "metadata": {},
   "source": [
    "## Plotting confusion matrix using seaborn"
   ]
  },
  {
   "cell_type": "code",
   "execution_count": 34,
   "metadata": {},
   "outputs": [],
   "source": [
    "# we are writing our own function to predict, with defined thresould\n",
    "# we will pick a threshold that will give the least fpr\n",
    "\n",
    "def find_best_threshold(threshould, fpr, tpr):\n",
    "    t = threshould[np.argmax(tpr*(1-fpr))]\n",
    "    # (tpr*(1-fpr)) will be maximum if your fpr is very low and tpr is very high\n",
    "    print(\"The maximum value of tpr*(1-fpr)\", max(tpr*(1-fpr)), \"for threshold\", np.round(t,3))\n",
    "    print()\n",
    "    return t\n",
    "\n",
    "def predict_with_best_t(proba, threshould):\n",
    "    predictions = []\n",
    "    for i in proba:\n",
    "        if i>=threshould:\n",
    "            predictions.append(1)\n",
    "        else:\n",
    "            predictions.append(0)\n",
    "    return predictions"
   ]
  },
  {
   "cell_type": "code",
   "execution_count": 35,
   "metadata": {},
   "outputs": [
    {
     "name": "stdout",
     "output_type": "stream",
     "text": [
      "\n",
      "The maximum value of tpr*(1-fpr) 0.8495878427160344 for threshold 0.521\n",
      "\n",
      "Train confusion matrix:\n",
      "\n",
      "[[    0  7516]\n",
      " [    0 35492]]\n",
      "\n",
      "Test confusion matrix:\n",
      "\n",
      "[[    0  3470]\n",
      " [    0 22862]]\n"
     ]
    }
   ],
   "source": [
    "\n",
    "print()\n",
    "from sklearn.metrics import confusion_matrix\n",
    "best_t = find_best_threshold(thresholds_tr_bow, train_fpr, train_tpr)\n",
    "print(\"Train confusion matrix:\")\n",
    "print()\n",
    "print(confusion_matrix(y_train, predict_with_best_t(y_train_pred, best_t)))\n",
    "print()\n",
    "print(\"Test confusion matrix:\")\n",
    "print()\n",
    "print(confusion_matrix(y_test, predict_with_best_t(y_test_pred, best_t)))"
   ]
  },
  {
   "cell_type": "code",
   "execution_count": 36,
   "metadata": {},
   "outputs": [],
   "source": [
    "Train_Confusion_Matrix=confusion_matrix(y_train, predict_with_best_t(y_train_pred, best_t))\n",
    "Test_Confusion_Matrix=confusion_matrix(y_test, predict_with_best_t(y_test_pred, best_t))\n",
    "df_Train=pd.DataFrame(Train_Confusion_Matrix,columns=np.unique(y_train), index = np.unique(y_train))\n",
    "df_Test=pd.DataFrame(Test_Confusion_Matrix,columns=np.unique(y_test), index = np.unique(y_test))\n",
    "df_Train.index.name = 'Actual'\n",
    "df_Train.columns.name = 'Predicted'\n",
    "df_Test.index.name = 'Actual'\n",
    "df_Test.columns.name = 'Predicted'\n"
   ]
  },
  {
   "cell_type": "code",
   "execution_count": 37,
   "metadata": {},
   "outputs": [
    {
     "data": {
      "text/plain": [
       "Text(0.5, 1, 'Train Confusion Matrix')"
      ]
     },
     "execution_count": 37,
     "metadata": {},
     "output_type": "execute_result"
    },
    {
     "data": {
      "image/png": "[encoded data removed]",
      "text/plain": [
       "<Figure size 504x288 with 2 Axes>"
      ]
     },
     "metadata": {
      "needs_background": "light"
     },
     "output_type": "display_data"
    }
   ],
   "source": [
    "plt.figure(figsize = (7,4))\n",
    "sns.set(font_scale=1)#for label size\n",
    "sns.heatmap(df_Train, cmap=\"Blues\", annot=True,fmt='2d')\n",
    "plt.title(\"Train Confusion Matrix\")"
   ]
  },
  {
   "cell_type": "code",
   "execution_count": 38,
   "metadata": {},
   "outputs": [
    {
     "data": {
      "text/plain": [
       "Text(0.5, 1, 'Test Confusion Matrix')"
      ]
     },
     "execution_count": 38,
     "metadata": {},
     "output_type": "execute_result"
    },
    {
     "data": {
      "image/png": "[encoded data removed]",
      "text/plain": [
       "<Figure size 504x288 with 2 Axes>"
      ]
     },
     "metadata": {},
     "output_type": "display_data"
    }
   ],
   "source": [
    "plt.figure(figsize = (7,4))\n",
    "sns.set(font_scale=1)#for label size\n",
    "sns.heatmap(df_Test, cmap=\"Blues\", annot=True,fmt='2d')\n",
    "plt.title(\"Test Confusion Matrix\")"
   ]
  },
  {
   "cell_type": "markdown",
   "metadata": {
    "colab_type": "text",
    "id": "u-ZSD3tlJklg"
   },
   "source": [
    "### Top 10 important features of positive class"
   ]
  },
  {
   "cell_type": "code",
   "execution_count": 39,
   "metadata": {
    "colab": {},
    "colab_type": "code",
    "id": "86fu_aO8Jklg"
   },
   "outputs": [],
   "source": [
    "Pos_Class_features=MNB.feature_log_prob_[1,:]"
   ]
  },
  {
   "cell_type": "code",
   "execution_count": 40,
   "metadata": {},
   "outputs": [
    {
     "data": {
      "text/plain": [
       "array([-11.92431169, -13.00118399, -14.03727592, ..., -14.03727592,\n",
       "       -14.03727592, -14.03727592])"
      ]
     },
     "execution_count": 40,
     "metadata": {},
     "output_type": "execute_result"
    }
   ],
   "source": [
    "Pos_Class_features"
   ]
  },
  {
   "cell_type": "code",
   "execution_count": 41,
   "metadata": {},
   "outputs": [],
   "source": [
    "Pos_Class_features=Pos_Class_features.argsort()"
   ]
  },
  {
   "cell_type": "code",
   "execution_count": 42,
   "metadata": {},
   "outputs": [
    {
     "data": {
      "text/plain": [
       "array([33954,  9451, 26895, ..., 14424, 19285, 22728], dtype=int64)"
      ]
     },
     "execution_count": 42,
     "metadata": {},
     "output_type": "execute_result"
    }
   ],
   "source": [
    "Pos_Class_features"
   ]
  },
  {
   "cell_type": "code",
   "execution_count": 43,
   "metadata": {},
   "outputs": [
    {
     "data": {
      "text/plain": [
       "array([33954,  9451, 26895, ..., 14424, 19285, 22728], dtype=int64)"
      ]
     },
     "execution_count": 43,
     "metadata": {},
     "output_type": "execute_result"
    }
   ],
   "source": [
    "# Writing the above lines in the same cell\n",
    "Pos_Class_features=MNB.feature_log_prob_[1,:].argsort()\n",
    "Pos_Class_features"
   ]
  },
  {
   "cell_type": "code",
   "execution_count": 44,
   "metadata": {},
   "outputs": [
    {
     "data": {
      "text/plain": [
       "array([19741, 12690, 37945, 33663, 23392,  6493, 14724, 14424, 19285,\n",
       "       22728], dtype=int64)"
      ]
     },
     "execution_count": 44,
     "metadata": {},
     "output_type": "execute_result"
    }
   ],
   "source": [
    "# Finding top 10 features of Positive Class\n",
    "Pos_Class_features=Pos_Class_features[-10:]\n",
    "Pos_Class_features"
   ]
  },
  {
   "cell_type": "code",
   "execution_count": 45,
   "metadata": {},
   "outputs": [
    {
     "name": "stdout",
     "output_type": "stream",
     "text": [
      "['love' 'flavor' 'would' 'taste' 'one' 'coffee' 'great' 'good' 'like'\n",
      " 'not']\n"
     ]
    }
   ],
   "source": [
    "# printing the top 10 positive feature names\n",
    "\n",
    "print(np.take(vectorizer.get_feature_names(),Pos_Class_features))"
   ]
  },
  {
   "cell_type": "code",
   "execution_count": 46,
   "metadata": {},
   "outputs": [],
   "source": [
    "features=np.take(vectorizer.get_feature_names(),Pos_Class_features)"
   ]
  },
  {
   "cell_type": "code",
   "execution_count": 47,
   "metadata": {},
   "outputs": [
    {
     "data": {
      "text/plain": [
       "numpy.ndarray"
      ]
     },
     "execution_count": 47,
     "metadata": {},
     "output_type": "execute_result"
    }
   ],
   "source": [
    "type(features)"
   ]
  },
  {
   "cell_type": "code",
   "execution_count": 48,
   "metadata": {},
   "outputs": [
    {
     "data": {
      "text/plain": [
       "array(['love', 'flavor', 'would', 'taste', 'one', 'coffee', 'great',\n",
       "       'good', 'like', 'not'], dtype='<U79')"
      ]
     },
     "execution_count": 48,
     "metadata": {},
     "output_type": "execute_result"
    }
   ],
   "source": [
    "features"
   ]
  },
  {
   "cell_type": "code",
   "execution_count": 49,
   "metadata": {},
   "outputs": [],
   "source": [
    "# Creating a dataframe for the top 10 featues and their feature_log_probabilities\n",
    "\n",
    "Postive_features=pd.DataFrame(MNB.feature_log_prob_[1,:],columns=['feature_log_probabilities'])\n",
    "Top_10_Positive_features=Postive_features.sort_values(by='feature_log_probabilities',ascending=False)"
   ]
  },
  {
   "cell_type": "code",
   "execution_count": 50,
   "metadata": {},
   "outputs": [],
   "source": [
    "Top_10_Positive_features=Top_10_Positive_features.head(10)"
   ]
  },
  {
   "cell_type": "code",
   "execution_count": 51,
   "metadata": {},
   "outputs": [],
   "source": [
    "Top_10_Positive_features['feature_names']=features"
   ]
  },
  {
   "cell_type": "code",
   "execution_count": 52,
   "metadata": {},
   "outputs": [
    {
     "data": {
      "text/html": [
       "<div>\n",
       "<style scoped>\n",
       "    .dataframe tbody tr th:only-of-type {\n",
       "        vertical-align: middle;\n",
       "    }\n",
       "\n",
       "    .dataframe tbody tr th {\n",
       "        vertical-align: top;\n",
       "    }\n",
       "\n",
       "    .dataframe thead th {\n",
       "        text-align: right;\n",
       "    }\n",
       "</style>\n",
       "<table border=\"1\" class=\"dataframe\">\n",
       "  <thead>\n",
       "    <tr style=\"text-align: right;\">\n",
       "      <th></th>\n",
       "      <th>feature_log_probabilities</th>\n",
       "      <th>feature_names</th>\n",
       "    </tr>\n",
       "  </thead>\n",
       "  <tbody>\n",
       "    <tr>\n",
       "      <th>22728</th>\n",
       "      <td>-3.710867</td>\n",
       "      <td>love</td>\n",
       "    </tr>\n",
       "    <tr>\n",
       "      <th>19285</th>\n",
       "      <td>-4.512716</td>\n",
       "      <td>flavor</td>\n",
       "    </tr>\n",
       "    <tr>\n",
       "      <th>14424</th>\n",
       "      <td>-4.654963</td>\n",
       "      <td>would</td>\n",
       "    </tr>\n",
       "    <tr>\n",
       "      <th>14724</th>\n",
       "      <td>-4.729471</td>\n",
       "      <td>taste</td>\n",
       "    </tr>\n",
       "    <tr>\n",
       "      <th>6493</th>\n",
       "      <td>-4.853084</td>\n",
       "      <td>one</td>\n",
       "    </tr>\n",
       "    <tr>\n",
       "      <th>23392</th>\n",
       "      <td>-4.877550</td>\n",
       "      <td>coffee</td>\n",
       "    </tr>\n",
       "    <tr>\n",
       "      <th>33663</th>\n",
       "      <td>-4.953932</td>\n",
       "      <td>great</td>\n",
       "    </tr>\n",
       "    <tr>\n",
       "      <th>37945</th>\n",
       "      <td>-5.022276</td>\n",
       "      <td>good</td>\n",
       "    </tr>\n",
       "    <tr>\n",
       "      <th>12690</th>\n",
       "      <td>-5.041243</td>\n",
       "      <td>like</td>\n",
       "    </tr>\n",
       "    <tr>\n",
       "      <th>19741</th>\n",
       "      <td>-5.052457</td>\n",
       "      <td>not</td>\n",
       "    </tr>\n",
       "  </tbody>\n",
       "</table>\n",
       "</div>"
      ],
      "text/plain": [
       "       feature_log_probabilities feature_names\n",
       "22728                  -3.710867          love\n",
       "19285                  -4.512716        flavor\n",
       "14424                  -4.654963         would\n",
       "14724                  -4.729471         taste\n",
       "6493                   -4.853084           one\n",
       "23392                  -4.877550        coffee\n",
       "33663                  -4.953932         great\n",
       "37945                  -5.022276          good\n",
       "12690                  -5.041243          like\n",
       "19741                  -5.052457           not"
      ]
     },
     "execution_count": 52,
     "metadata": {},
     "output_type": "execute_result"
    }
   ],
   "source": [
    "Top_10_Positive_features"
   ]
  },
  {
   "cell_type": "markdown",
   "metadata": {
    "colab_type": "text",
    "id": "mquFtwF5Jklj"
   },
   "source": [
    "### Top 10 important features of negative class"
   ]
  },
  {
   "cell_type": "code",
   "execution_count": 53,
   "metadata": {
    "colab": {},
    "colab_type": "code",
    "id": "_RacUnTrJklj"
   },
   "outputs": [
    {
     "data": {
      "text/plain": [
       "array([19261, 21635, 21632, ..., 26360, 19285, 22728], dtype=int64)"
      ]
     },
     "execution_count": 53,
     "metadata": {},
     "output_type": "execute_result"
    }
   ],
   "source": [
    "# Writing the above lines in the same cell\n",
    "Neg_Class_features=MNB.feature_log_prob_[0,:].argsort()\n",
    "Neg_Class_features"
   ]
  },
  {
   "cell_type": "code",
   "execution_count": 54,
   "metadata": {},
   "outputs": [
    {
     "data": {
      "text/plain": [
       "array([19741, 12690, 37945, 33663, 23392,  6493, 14724, 14424, 19285,\n",
       "       22728], dtype=int64)"
      ]
     },
     "execution_count": 54,
     "metadata": {},
     "output_type": "execute_result"
    }
   ],
   "source": [
    "# Finding top 10 features of Negative Class\n",
    "Neg_Class_features=Pos_Class_features[-10:]\n",
    "Neg_Class_features"
   ]
  },
  {
   "cell_type": "code",
   "execution_count": 55,
   "metadata": {},
   "outputs": [
    {
     "name": "stdout",
     "output_type": "stream",
     "text": [
      "['love' 'flavor' 'would' 'taste' 'one' 'coffee' 'great' 'good' 'like'\n",
      " 'not']\n"
     ]
    }
   ],
   "source": [
    "# printing the top 10 Negative feature names\n",
    "\n",
    "print(np.take(vectorizer.get_feature_names(),Neg_Class_features))"
   ]
  },
  {
   "cell_type": "code",
   "execution_count": 56,
   "metadata": {},
   "outputs": [],
   "source": [
    "Neg_features=np.take(vectorizer.get_feature_names(),Neg_Class_features)"
   ]
  },
  {
   "cell_type": "code",
   "execution_count": 57,
   "metadata": {},
   "outputs": [],
   "source": [
    "# Creating a dataframe for the top 10 featues and their feature_log_probabilities\n",
    "\n",
    "Negative_features=pd.DataFrame(MNB.feature_log_prob_[0,:],columns=['feature_log_probabilities'])\n",
    "Top_10_Negative_features=Negative_features.sort_values(by='feature_log_probabilities',ascending=False)"
   ]
  },
  {
   "cell_type": "code",
   "execution_count": 58,
   "metadata": {},
   "outputs": [],
   "source": [
    "Top_10_Negative_features=Top_10_Negative_features.head(10)"
   ]
  },
  {
   "cell_type": "code",
   "execution_count": 59,
   "metadata": {},
   "outputs": [],
   "source": [
    "Top_10_Negative_features['Negative_features']=Neg_features"
   ]
  },
  {
   "cell_type": "code",
   "execution_count": 60,
   "metadata": {},
   "outputs": [
    {
     "data": {
      "text/html": [
       "<div>\n",
       "<style scoped>\n",
       "    .dataframe tbody tr th:only-of-type {\n",
       "        vertical-align: middle;\n",
       "    }\n",
       "\n",
       "    .dataframe tbody tr th {\n",
       "        vertical-align: top;\n",
       "    }\n",
       "\n",
       "    .dataframe thead th {\n",
       "        text-align: right;\n",
       "    }\n",
       "</style>\n",
       "<table border=\"1\" class=\"dataframe\">\n",
       "  <thead>\n",
       "    <tr style=\"text-align: right;\">\n",
       "      <th></th>\n",
       "      <th>feature_log_probabilities</th>\n",
       "      <th>Negative_features</th>\n",
       "    </tr>\n",
       "  </thead>\n",
       "  <tbody>\n",
       "    <tr>\n",
       "      <th>22728</th>\n",
       "      <td>-3.259090</td>\n",
       "      <td>love</td>\n",
       "    </tr>\n",
       "    <tr>\n",
       "      <th>19285</th>\n",
       "      <td>-4.380785</td>\n",
       "      <td>flavor</td>\n",
       "    </tr>\n",
       "    <tr>\n",
       "      <th>26360</th>\n",
       "      <td>-4.663087</td>\n",
       "      <td>would</td>\n",
       "    </tr>\n",
       "    <tr>\n",
       "      <th>37945</th>\n",
       "      <td>-4.665296</td>\n",
       "      <td>taste</td>\n",
       "    </tr>\n",
       "    <tr>\n",
       "      <th>33663</th>\n",
       "      <td>-4.691212</td>\n",
       "      <td>one</td>\n",
       "    </tr>\n",
       "    <tr>\n",
       "      <th>23392</th>\n",
       "      <td>-4.925348</td>\n",
       "      <td>coffee</td>\n",
       "    </tr>\n",
       "    <tr>\n",
       "      <th>6493</th>\n",
       "      <td>-5.072958</td>\n",
       "      <td>great</td>\n",
       "    </tr>\n",
       "    <tr>\n",
       "      <th>22578</th>\n",
       "      <td>-5.152483</td>\n",
       "      <td>good</td>\n",
       "    </tr>\n",
       "    <tr>\n",
       "      <th>14424</th>\n",
       "      <td>-5.155057</td>\n",
       "      <td>like</td>\n",
       "    </tr>\n",
       "    <tr>\n",
       "      <th>12690</th>\n",
       "      <td>-5.198242</td>\n",
       "      <td>not</td>\n",
       "    </tr>\n",
       "  </tbody>\n",
       "</table>\n",
       "</div>"
      ],
      "text/plain": [
       "       feature_log_probabilities Negative_features\n",
       "22728                  -3.259090              love\n",
       "19285                  -4.380785            flavor\n",
       "26360                  -4.663087             would\n",
       "37945                  -4.665296             taste\n",
       "33663                  -4.691212               one\n",
       "23392                  -4.925348            coffee\n",
       "6493                   -5.072958             great\n",
       "22578                  -5.152483              good\n",
       "14424                  -5.155057              like\n",
       "12690                  -5.198242               not"
      ]
     },
     "execution_count": 60,
     "metadata": {},
     "output_type": "execute_result"
    }
   ],
   "source": [
    "Top_10_Negative_features"
   ]
  },
  {
   "cell_type": "markdown",
   "metadata": {
    "colab_type": "text",
    "id": "6bp7BbwCJkll"
   },
   "source": [
    "##  Applying Naive Bayes on TFIDF"
   ]
  },
  {
   "cell_type": "code",
   "execution_count": 61,
   "metadata": {
    "colab": {},
    "colab_type": "code",
    "id": "oL29fzPFJkll"
   },
   "outputs": [
    {
     "name": "stdout",
     "output_type": "stream",
     "text": [
      "After vectorizations\n",
      "(43008, 57213) (43008,)\n",
      "(18433, 57213) (18433,)\n",
      "(26332, 57213) (26332,)\n"
     ]
    }
   ],
   "source": [
    "tf_idf_vect = TfidfVectorizer(norm='l2',ngram_range=(1,2),min_df=5)\n",
    "tf_idf_vect.fit(X_train) # fit has to happen only on train data\n",
    "\n",
    "# we use the fitted Tfidf vectorizer to convert the text to vector\n",
    "X_train_tfidf = tf_idf_vect.transform(X_train)\n",
    "X_cv_tfidf = tf_idf_vect.transform(X_cv)\n",
    "X_test_tfidf = tf_idf_vect.transform(X_test)\n",
    "\n",
    "print(\"After vectorizations\")\n",
    "print(X_train_tfidf.shape, y_train.shape)\n",
    "print(X_cv_tfidf.shape, y_cv.shape)\n",
    "print(X_test_tfidf.shape, y_test.shape)"
   ]
  },
  {
   "cell_type": "code",
   "execution_count": 63,
   "metadata": {},
   "outputs": [
    {
     "data": {
      "image/png": "[encoded data removed]",
      "text/plain": [
       "<Figure size 432x288 with 1 Axes>"
      ]
     },
     "metadata": {},
     "output_type": "display_data"
    }
   ],
   "source": [
    "# Hyper parameter tuning to find best alpha\n",
    "# Simple Cross validation\n",
    "\n",
    "from sklearn.naive_bayes import MultinomialNB\n",
    "from sklearn.metrics import roc_auc_score\n",
    "import matplotlib.pyplot as plt\n",
    "\"\"\"\n",
    "y_true : array, shape = [n_samples] or [n_samples, n_classes]\n",
    "True binary labels or binary label indicators.\n",
    "\n",
    "y_score : array, shape = [n_samples] or [n_samples, n_classes]\n",
    "Target scores, can either be probability estimates of the positive class, confidence values, or non-thresholded measure of\n",
    "decisions (as returned by “decision_function” on some classifiers). \n",
    "For binary y_true, y_score is supposed to be the score of the class with greater label.\n",
    "\n",
    "\"\"\"\n",
    "\n",
    "train_auc = []\n",
    "cv_auc = []\n",
    "alpha = [10**-5,10**-4,10**-3,10**-2,10**-1,1,10,100,1000,10000]\n",
    "for i in alpha:\n",
    "    NB =MultinomialNB(alpha=i)\n",
    "    NB.fit(X_train_tfidf, y_train)\n",
    "    # roc_auc_score(y_true, y_score) the 2nd parameter should be probability estimates of the positive class\n",
    "    # not the predicted outputs\n",
    "    y_train_pred =  NB.predict_proba(X_train_tfidf)[:,1]\n",
    "    y_cv_pred =  NB.predict_proba(X_cv_tfidf)[:,1]\n",
    "    y_test_pred =  NB.predict_proba(X_test_tfidf)[:,1]\n",
    "\n",
    "    train_auc.append(roc_auc_score(y_train,y_train_pred))\n",
    "    cv_auc.append(roc_auc_score(y_cv, y_cv_pred))\n",
    "    \n",
    "plt.semilogx(alpha, train_auc,label='Train AUC')\n",
    "plt.semilogx(alpha, cv_auc,label='CV AUC')\n",
    "\n",
    "plt.legend()\n",
    "plt.xlabel(\"alpha: hyperparameter\")\n",
    "plt.ylabel(\"AUC\")\n",
    "plt.title(\"ERROR PLOTS\")\n",
    "plt.show()"
   ]
  },
  {
   "cell_type": "markdown",
   "metadata": {},
   "source": [
    "From the above plot,we can see that the best alpha value is at 10^-1\n"
   ]
  },
  {
   "cell_type": "markdown",
   "metadata": {},
   "source": [
    "## Building the model with best alpha"
   ]
  },
  {
   "cell_type": "code",
   "execution_count": 64,
   "metadata": {},
   "outputs": [
    {
     "data": {
      "image/png": "[encoded data removed]",
      "text/plain": [
       "<Figure size 432x288 with 1 Axes>"
      ]
     },
     "metadata": {},
     "output_type": "display_data"
    }
   ],
   "source": [
    "# https://scikit-learn.org/stable/modules/generated/sklearn.metrics.roc_curve.html#sklearn.metrics.roc_curve\n",
    "from sklearn.metrics import roc_curve, auc\n",
    "from sklearn.naive_bayes import MultinomialNB\n",
    "MNB=MultinomialNB(alpha=10**-1,class_prior=[0.5,0.5])\n",
    "MNB.fit(X_train_tfidf, y_train)\n",
    "# roc_auc_score(y_true, y_score) the 2nd parameter should be probability estimates of the positive class\n",
    "# not the predicted outputs\n",
    "\n",
    "train_fpr, train_tpr, thresholds_tr_tfidf = roc_curve(y_train, MNB.predict_proba(X_train_tfidf)[:,1])\n",
    "test_fpr, test_tpr, thresholds_te_tfidf = roc_curve(y_test, MNB.predict_proba(X_test_tfidf)[:,1])\n",
    "\n",
    "plt.plot(train_fpr, train_tpr, label=\"train AUC =\"+str(auc(train_fpr, train_tpr)))\n",
    "plt.plot(test_fpr, test_tpr, label=\"test AUC =\"+str(auc(test_fpr, test_tpr)))\n",
    "plt.plot([0, 1], [0, 1],'r--')\n",
    "plt.xlim([0,1])\n",
    "plt.ylim([0,1])\n",
    "plt.legend()\n",
    "plt.xlabel(\"False Positive Rate(FPR)\")\n",
    "plt.ylabel(\"True Positive Rate(TPR)\")\n",
    "plt.title(\"Receiver Operating Characteristic Curves(ROC)\")\n",
    "plt.show()\n"
   ]
  },
  {
   "cell_type": "markdown",
   "metadata": {},
   "source": [
    "## Plotting confusion matrix using seaborn"
   ]
  },
  {
   "cell_type": "code",
   "execution_count": 65,
   "metadata": {},
   "outputs": [
    {
     "name": "stdout",
     "output_type": "stream",
     "text": [
      "\n",
      "The maximum value of tpr*(1-fpr) 0.9223652188978325 for threshold 0.432\n",
      "\n",
      "Train confusion matrix:\n",
      "\n",
      "[[    0  7516]\n",
      " [    0 35492]]\n",
      "\n",
      "Test confusion matrix:\n",
      "\n",
      "[[    0  3470]\n",
      " [    0 22862]]\n"
     ]
    }
   ],
   "source": [
    "\n",
    "print()\n",
    "from sklearn.metrics import confusion_matrix\n",
    "best_t = find_best_threshold(thresholds_tr_tfidf, train_fpr, train_tpr)\n",
    "print(\"Train confusion matrix:\")\n",
    "print()\n",
    "print(confusion_matrix(y_train, predict_with_best_t(y_train_pred, best_t)))\n",
    "print()\n",
    "print(\"Test confusion matrix:\")\n",
    "print()\n",
    "print(confusion_matrix(y_test, predict_with_best_t(y_test_pred, best_t)))"
   ]
  },
  {
   "cell_type": "code",
   "execution_count": 66,
   "metadata": {},
   "outputs": [],
   "source": [
    "Train_Confusion_Matrix=confusion_matrix(y_train, predict_with_best_t(y_train_pred, best_t))\n",
    "Test_Confusion_Matrix=confusion_matrix(y_test, predict_with_best_t(y_test_pred, best_t))\n",
    "df_Train=pd.DataFrame(Train_Confusion_Matrix,columns=np.unique(y_train), index = np.unique(y_train))\n",
    "df_Test=pd.DataFrame(Test_Confusion_Matrix,columns=np.unique(y_test), index = np.unique(y_test))\n",
    "df_Train.index.name = 'Actual'\n",
    "df_Train.columns.name = 'Predicted'\n",
    "df_Test.index.name = 'Actual'\n",
    "df_Test.columns.name = 'Predicted'\n"
   ]
  },
  {
   "cell_type": "code",
   "execution_count": 67,
   "metadata": {},
   "outputs": [
    {
     "data": {
      "text/plain": [
       "Text(0.5, 1, 'Train Confusion Matrix')"
      ]
     },
     "execution_count": 67,
     "metadata": {},
     "output_type": "execute_result"
    },
    {
     "data": {
      "image/png": "[encoded data removed]",
      "text/plain": [
       "<Figure size 504x288 with 2 Axes>"
      ]
     },
     "metadata": {},
     "output_type": "display_data"
    }
   ],
   "source": [
    "plt.figure(figsize = (7,4))\n",
    "sns.set(font_scale=1)#for label size\n",
    "sns.heatmap(df_Train, cmap=\"Blues\", annot=True,fmt='2d')\n",
    "plt.title(\"Train Confusion Matrix\")"
   ]
  },
  {
   "cell_type": "code",
   "execution_count": 68,
   "metadata": {},
   "outputs": [
    {
     "data": {
      "text/plain": [
       "Text(0.5, 1, 'Test Confusion Matrix')"
      ]
     },
     "execution_count": 68,
     "metadata": {},
     "output_type": "execute_result"
    },
    {
     "data": {
      "image/png": "[encoded data removed]",
      "text/plain": [
       "<Figure size 504x288 with 2 Axes>"
      ]
     },
     "metadata": {},
     "output_type": "display_data"
    }
   ],
   "source": [
    "plt.figure(figsize = (7,4))\n",
    "sns.set(font_scale=1)#for label size\n",
    "sns.heatmap(df_Test, cmap=\"Blues\", annot=True,fmt='2d')\n",
    "plt.title(\"Test Confusion Matrix\")"
   ]
  },
  {
   "cell_type": "markdown",
   "metadata": {
    "colab_type": "text",
    "id": "Dtpj7iMSJkln"
   },
   "source": [
    "### Top 10 important features of positive class"
   ]
  },
  {
   "cell_type": "code",
   "execution_count": 69,
   "metadata": {
    "colab": {},
    "colab_type": "code",
    "id": "g3flcTmmJklo"
   },
   "outputs": [
    {
     "data": {
      "text/plain": [
       "array([50492, 26447, 32133, ...,  8987, 22185, 33506], dtype=int64)"
      ]
     },
     "execution_count": 69,
     "metadata": {},
     "output_type": "execute_result"
    }
   ],
   "source": [
    "Pos_Class_features=MNB.feature_log_prob_[1,:].argsort()\n",
    "Pos_Class_features"
   ]
  },
  {
   "cell_type": "code",
   "execution_count": 70,
   "metadata": {},
   "outputs": [
    {
     "data": {
      "text/plain": [
       "array([17892, 49252, 35266, 39516, 28842, 27094, 21327,  8987, 22185,\n",
       "       33506], dtype=int64)"
      ]
     },
     "execution_count": 70,
     "metadata": {},
     "output_type": "execute_result"
    }
   ],
   "source": [
    "# Finding top 10 features of Positive Class\n",
    "Pos_Class_features=Pos_Class_features[-10:]\n",
    "Pos_Class_features"
   ]
  },
  {
   "cell_type": "code",
   "execution_count": 71,
   "metadata": {},
   "outputs": [
    {
     "name": "stdout",
     "output_type": "stream",
     "text": [
      "['flavor' 'taste' 'one' 'product' 'love' 'like' 'good' 'coffee' 'great'\n",
      " 'not']\n"
     ]
    }
   ],
   "source": [
    "# printing the top 10 positive feature names\n",
    "\n",
    "print(np.take(tf_idf_vect.get_feature_names(),Pos_Class_features))"
   ]
  },
  {
   "cell_type": "code",
   "execution_count": 72,
   "metadata": {},
   "outputs": [],
   "source": [
    "features=np.take(tf_idf_vect.get_feature_names(),Pos_Class_features)"
   ]
  },
  {
   "cell_type": "code",
   "execution_count": 73,
   "metadata": {},
   "outputs": [],
   "source": [
    "# Creating a dataframe for the top 10 featues and their feature_log_probabilities\n",
    "\n",
    "Postive_features=pd.DataFrame(MNB.feature_log_prob_[1,:],columns=['feature_log_probabilities'])\n",
    "Top_10_Positive_features=Postive_features.sort_values(by='feature_log_probabilities',ascending=False)"
   ]
  },
  {
   "cell_type": "code",
   "execution_count": 74,
   "metadata": {},
   "outputs": [],
   "source": [
    "Top_10_Positive_features=Top_10_Positive_features.head(10)"
   ]
  },
  {
   "cell_type": "code",
   "execution_count": 75,
   "metadata": {},
   "outputs": [],
   "source": [
    "Top_10_Positive_features['feature_names']=features"
   ]
  },
  {
   "cell_type": "code",
   "execution_count": 76,
   "metadata": {},
   "outputs": [
    {
     "data": {
      "text/html": [
       "<div>\n",
       "<style scoped>\n",
       "    .dataframe tbody tr th:only-of-type {\n",
       "        vertical-align: middle;\n",
       "    }\n",
       "\n",
       "    .dataframe tbody tr th {\n",
       "        vertical-align: top;\n",
       "    }\n",
       "\n",
       "    .dataframe thead th {\n",
       "        text-align: right;\n",
       "    }\n",
       "</style>\n",
       "<table border=\"1\" class=\"dataframe\">\n",
       "  <thead>\n",
       "    <tr style=\"text-align: right;\">\n",
       "      <th></th>\n",
       "      <th>feature_log_probabilities</th>\n",
       "      <th>feature_names</th>\n",
       "    </tr>\n",
       "  </thead>\n",
       "  <tbody>\n",
       "    <tr>\n",
       "      <th>33506</th>\n",
       "      <td>-5.408740</td>\n",
       "      <td>flavor</td>\n",
       "    </tr>\n",
       "    <tr>\n",
       "      <th>22185</th>\n",
       "      <td>-5.736752</td>\n",
       "      <td>taste</td>\n",
       "    </tr>\n",
       "    <tr>\n",
       "      <th>8987</th>\n",
       "      <td>-5.793799</td>\n",
       "      <td>one</td>\n",
       "    </tr>\n",
       "    <tr>\n",
       "      <th>21327</th>\n",
       "      <td>-5.810232</td>\n",
       "      <td>product</td>\n",
       "    </tr>\n",
       "    <tr>\n",
       "      <th>27094</th>\n",
       "      <td>-5.863073</td>\n",
       "      <td>love</td>\n",
       "    </tr>\n",
       "    <tr>\n",
       "      <th>28842</th>\n",
       "      <td>-5.976745</td>\n",
       "      <td>like</td>\n",
       "    </tr>\n",
       "    <tr>\n",
       "      <th>39516</th>\n",
       "      <td>-6.083205</td>\n",
       "      <td>good</td>\n",
       "    </tr>\n",
       "    <tr>\n",
       "      <th>35266</th>\n",
       "      <td>-6.096458</td>\n",
       "      <td>coffee</td>\n",
       "    </tr>\n",
       "    <tr>\n",
       "      <th>49252</th>\n",
       "      <td>-6.102014</td>\n",
       "      <td>great</td>\n",
       "    </tr>\n",
       "    <tr>\n",
       "      <th>17892</th>\n",
       "      <td>-6.119293</td>\n",
       "      <td>not</td>\n",
       "    </tr>\n",
       "  </tbody>\n",
       "</table>\n",
       "</div>"
      ],
      "text/plain": [
       "       feature_log_probabilities feature_names\n",
       "33506                  -5.408740        flavor\n",
       "22185                  -5.736752         taste\n",
       "8987                   -5.793799           one\n",
       "21327                  -5.810232       product\n",
       "27094                  -5.863073          love\n",
       "28842                  -5.976745          like\n",
       "39516                  -6.083205          good\n",
       "35266                  -6.096458        coffee\n",
       "49252                  -6.102014         great\n",
       "17892                  -6.119293           not"
      ]
     },
     "execution_count": 76,
     "metadata": {},
     "output_type": "execute_result"
    }
   ],
   "source": [
    "Top_10_Positive_features"
   ]
  },
  {
   "cell_type": "markdown",
   "metadata": {
    "colab_type": "text",
    "id": "UovIVRyEJklq"
   },
   "source": [
    "### Top 10 important features of negative class"
   ]
  },
  {
   "cell_type": "code",
   "execution_count": 77,
   "metadata": {
    "colab": {},
    "colab_type": "code",
    "id": "i3i3cShuJklr"
   },
   "outputs": [
    {
     "data": {
      "text/plain": [
       "array([28606, 25772, 25771, ..., 39516, 27094, 33506], dtype=int64)"
      ]
     },
     "execution_count": 77,
     "metadata": {},
     "output_type": "execute_result"
    }
   ],
   "source": [
    "Neg_Class_features=MNB.feature_log_prob_[0,:].argsort()\n",
    "Neg_Class_features"
   ]
  },
  {
   "cell_type": "code",
   "execution_count": 78,
   "metadata": {},
   "outputs": [
    {
     "data": {
      "text/plain": [
       "array([17892, 49252, 35266, 39516, 28842, 27094, 21327,  8987, 22185,\n",
       "       33506], dtype=int64)"
      ]
     },
     "execution_count": 78,
     "metadata": {},
     "output_type": "execute_result"
    }
   ],
   "source": [
    "# Finding top 10 features of Negative Class\n",
    "Neg_Class_features=Pos_Class_features[-10:]\n",
    "Neg_Class_features"
   ]
  },
  {
   "cell_type": "code",
   "execution_count": 79,
   "metadata": {},
   "outputs": [
    {
     "name": "stdout",
     "output_type": "stream",
     "text": [
      "['flavor' 'taste' 'one' 'product' 'love' 'like' 'good' 'coffee' 'great'\n",
      " 'not']\n"
     ]
    }
   ],
   "source": [
    "# printing the top 10 Negative feature names\n",
    "\n",
    "print(np.take(tf_idf_vect.get_feature_names(),Neg_Class_features))"
   ]
  },
  {
   "cell_type": "code",
   "execution_count": 80,
   "metadata": {},
   "outputs": [],
   "source": [
    "# Creating a dataframe for the top 10 featues and their feature_log_probabilities\n",
    "\n",
    "Negative_features=pd.DataFrame(MNB.feature_log_prob_[0,:],columns=['feature_log_probabilities'])\n",
    "Top_10_Negative_features=Negative_features.sort_values(by='feature_log_probabilities',ascending=False)"
   ]
  },
  {
   "cell_type": "code",
   "execution_count": 81,
   "metadata": {},
   "outputs": [],
   "source": [
    "Neg_features=np.take(tf_idf_vect.get_feature_names(),Neg_Class_features)"
   ]
  },
  {
   "cell_type": "code",
   "execution_count": 82,
   "metadata": {},
   "outputs": [],
   "source": [
    "Top_10_Negative_features=Top_10_Negative_features.head(10)"
   ]
  },
  {
   "cell_type": "code",
   "execution_count": 83,
   "metadata": {},
   "outputs": [],
   "source": [
    "Top_10_Negative_features['Negative_features']=Neg_features"
   ]
  },
  {
   "cell_type": "code",
   "execution_count": 84,
   "metadata": {},
   "outputs": [
    {
     "data": {
      "text/html": [
       "<div>\n",
       "<style scoped>\n",
       "    .dataframe tbody tr th:only-of-type {\n",
       "        vertical-align: middle;\n",
       "    }\n",
       "\n",
       "    .dataframe tbody tr th {\n",
       "        vertical-align: top;\n",
       "    }\n",
       "\n",
       "    .dataframe thead th {\n",
       "        text-align: right;\n",
       "    }\n",
       "</style>\n",
       "<table border=\"1\" class=\"dataframe\">\n",
       "  <thead>\n",
       "    <tr style=\"text-align: right;\">\n",
       "      <th></th>\n",
       "      <th>feature_log_probabilities</th>\n",
       "      <th>Negative_features</th>\n",
       "    </tr>\n",
       "  </thead>\n",
       "  <tbody>\n",
       "    <tr>\n",
       "      <th>33506</th>\n",
       "      <td>-4.897908</td>\n",
       "      <td>flavor</td>\n",
       "    </tr>\n",
       "    <tr>\n",
       "      <th>27094</th>\n",
       "      <td>-5.718180</td>\n",
       "      <td>taste</td>\n",
       "    </tr>\n",
       "    <tr>\n",
       "      <th>39516</th>\n",
       "      <td>-5.815648</td>\n",
       "      <td>one</td>\n",
       "    </tr>\n",
       "    <tr>\n",
       "      <th>49252</th>\n",
       "      <td>-5.860148</td>\n",
       "      <td>product</td>\n",
       "    </tr>\n",
       "    <tr>\n",
       "      <th>56487</th>\n",
       "      <td>-5.888797</td>\n",
       "      <td>love</td>\n",
       "    </tr>\n",
       "    <tr>\n",
       "      <th>8987</th>\n",
       "      <td>-6.094955</td>\n",
       "      <td>like</td>\n",
       "    </tr>\n",
       "    <tr>\n",
       "      <th>35266</th>\n",
       "      <td>-6.190675</td>\n",
       "      <td>good</td>\n",
       "    </tr>\n",
       "    <tr>\n",
       "      <th>33068</th>\n",
       "      <td>-6.281613</td>\n",
       "      <td>coffee</td>\n",
       "    </tr>\n",
       "    <tr>\n",
       "      <th>17892</th>\n",
       "      <td>-6.314565</td>\n",
       "      <td>great</td>\n",
       "    </tr>\n",
       "    <tr>\n",
       "      <th>18672</th>\n",
       "      <td>-6.421858</td>\n",
       "      <td>not</td>\n",
       "    </tr>\n",
       "  </tbody>\n",
       "</table>\n",
       "</div>"
      ],
      "text/plain": [
       "       feature_log_probabilities Negative_features\n",
       "33506                  -4.897908            flavor\n",
       "27094                  -5.718180             taste\n",
       "39516                  -5.815648               one\n",
       "49252                  -5.860148           product\n",
       "56487                  -5.888797              love\n",
       "8987                   -6.094955              like\n",
       "35266                  -6.190675              good\n",
       "33068                  -6.281613            coffee\n",
       "17892                  -6.314565             great\n",
       "18672                  -6.421858               not"
      ]
     },
     "execution_count": 84,
     "metadata": {},
     "output_type": "execute_result"
    }
   ],
   "source": [
    "Top_10_Negative_features"
   ]
  },
  {
   "cell_type": "markdown",
   "metadata": {
    "colab_type": "text",
    "id": "vst5Y7mmJklu"
   },
   "source": [
    "# Conclusions"
   ]
  },
  {
   "cell_type": "code",
   "execution_count": 85,
   "metadata": {
    "colab": {},
    "colab_type": "code",
    "id": "De9HYtIGJklv"
   },
   "outputs": [],
   "source": [
    "from prettytable import PrettyTable"
   ]
  },
  {
   "cell_type": "code",
   "execution_count": 86,
   "metadata": {},
   "outputs": [],
   "source": [
    "x=PrettyTable()"
   ]
  },
  {
   "cell_type": "code",
   "execution_count": 87,
   "metadata": {},
   "outputs": [],
   "source": [
    "x.field_names=['Vectorizer','Hyper Parameter_alpha','AUC']"
   ]
  },
  {
   "cell_type": "code",
   "execution_count": 88,
   "metadata": {},
   "outputs": [],
   "source": [
    "x.add_row(['BOW',10**-1,0.89])\n",
    "x.add_row(['TFIDF',10**-1,0.94])"
   ]
  },
  {
   "cell_type": "code",
   "execution_count": 89,
   "metadata": {},
   "outputs": [
    {
     "name": "stdout",
     "output_type": "stream",
     "text": [
      "+------------+-----------------------+------+\n",
      "| Vectorizer | Hyper Parameter_alpha | AUC  |\n",
      "+------------+-----------------------+------+\n",
      "|    BOW     |          0.1          | 0.89 |\n",
      "|   TFIDF    |          0.1          | 0.94 |\n",
      "+------------+-----------------------+------+\n"
     ]
    }
   ],
   "source": [
    "print(x)"
   ]
  }
 ],
 "metadata": {
  "colab": {
   "name": "04 Amazon Fine Food Reviews Analysis_NaiveBayes.ipynb",
   "provenance": [],
   "version": "0.3.2"
  },
  "kernelspec": {
   "display_name": "Python 3",
   "language": "python",
   "name": "python3"
  },
  "language_info": {
   "codemirror_mode": {
    "name": "ipython",
    "version": 3
   },
   "file_extension": ".py",
   "mimetype": "text/x-python",
   "name": "python",
   "nbconvert_exporter": "python",
   "pygments_lexer": "ipython3",
   "version": "3.7.3"
  }
 },
 "nbformat": 4,
 "nbformat_minor": 1
}
